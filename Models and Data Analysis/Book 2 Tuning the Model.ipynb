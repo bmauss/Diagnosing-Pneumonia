{
 "cells": [
  {
   "cell_type": "markdown",
   "metadata": {},
   "source": [
    "# Situation Report\n",
    "\n",
    "So far we've created a model that is very overfit.  The plots have shown us that the validation metrics have very high variance and no real sign of convergence.  We're going to try a few different techniques to reduce the overfitting, including regularization, data augmentation, and possibly using batch normalization and dropout layers if necessary."
   ]
  },
  {
   "cell_type": "markdown",
   "metadata": {},
   "source": [
    "# Loading data"
   ]
  },
  {
   "cell_type": "code",
   "execution_count": 1,
   "metadata": {
    "ExecuteTime": {
     "end_time": "2020-11-14T00:57:07.906510Z",
     "start_time": "2020-11-14T00:57:04.918485Z"
    }
   },
   "outputs": [
    {
     "name": "stderr",
     "output_type": "stream",
     "text": [
      "Using TensorFlow backend.\n"
     ]
    }
   ],
   "source": [
    "import warnings\n",
    "warnings.filterwarnings('ignore')\n",
    "\n",
    "import os, os.path\n",
    "import glob\n",
    "import shutil\n",
    "import pandas as pd\n",
    "import numpy as np\n",
    "import matplotlib.pyplot as plt\n",
    "%matplotlib inline\n",
    "import keras\n",
    "import keras_preprocessing\n",
    "from keras.preprocessing.image import ImageDataGenerator\n",
    "from keras import layers, models\n",
    "import scipy\n",
    "from PIL import Image\n",
    "from scipy import ndimage\n",
    "import cv2\n",
    "import tensorflow as tf\n",
    "from keras.layers import Conv2D, MaxPooling2D, Dense, Dropout, Input, Flatten\n",
    "from keras.optimizers import Adam, SGD, RMSprop\n",
    "from keras import optimizers\n",
    "from keras.layers import BatchNormalization, Activation\n",
    "from keras.callbacks import EarlyStopping"
   ]
  },
  {
   "cell_type": "markdown",
   "metadata": {},
   "source": [
    "# Preprocessing"
   ]
  },
  {
   "cell_type": "code",
   "execution_count": 2,
   "metadata": {
    "ExecuteTime": {
     "end_time": "2020-09-22T17:29:27.100232Z",
     "start_time": "2020-09-22T17:29:24.457755Z"
    }
   },
   "outputs": [
    {
     "name": "stdout",
     "output_type": "stream",
     "text": [
      "Found 5216 images belonging to 2 classes.\n",
      "Found 16 images belonging to 2 classes.\n",
      "Found 624 images belonging to 2 classes.\n"
     ]
    }
   ],
   "source": [
    "# Directories\n",
    "import pathlib as Path\n",
    "\n",
    "train_dir = '../chest_xray/train'\n",
    "validation_dir = '../chest_xray/val'\n",
    "test_dir = '../chest_xray/test'\n",
    "\n",
    "# Rescaling\n",
    "datagen = ImageDataGenerator(rescale=1./255) # rescaling the images \n",
    "\n",
    "# We'll prepare some data augmentation parameters for use later.\n",
    "aug_datagen = ImageDataGenerator(rescale=1./255,\n",
    "                                rotation_range=30,\n",
    "                                width_shift_range=0.15,\n",
    "                                height_shift_range=0.15,\n",
    "                                shear_range=0.1,\n",
    "                                zoom_range=0.1,\n",
    "                                vertical_flip=True,\n",
    "                                fill_mode='nearest')\n",
    "\n",
    "# Generating Data\n",
    "\n",
    "train_gen = datagen.flow_from_directory(train_dir, \n",
    "                    # Increasing image resolution to 128x128 pixels\n",
    "                    target_size=(128, 128),\n",
    "                    batch_size=5216,\n",
    "                    class_mode='binary')\n",
    "\n",
    "val_gen = datagen.flow_from_directory(validation_dir, \n",
    "                    target_size=(128, 128),\n",
    "                    batch_size=16,\n",
    "                    class_mode='binary')\n",
    "\n",
    "test_gen = datagen.flow_from_directory(test_dir, \n",
    "                    target_size=(128, 128),\n",
    "                    batch_size=624,\n",
    "                    class_mode='binary')"
   ]
  },
  {
   "cell_type": "code",
   "execution_count": 3,
   "metadata": {
    "ExecuteTime": {
     "end_time": "2020-09-22T17:32:32.929710Z",
     "start_time": "2020-09-22T17:29:35.704800Z"
    }
   },
   "outputs": [],
   "source": [
    "train_img, train_labels = next(train_gen)\n",
    "val_img, val_labels = next(val_gen)\n",
    "test_img, test_labels = next(test_gen)"
   ]
  },
  {
   "cell_type": "code",
   "execution_count": 36,
   "metadata": {
    "ExecuteTime": {
     "end_time": "2020-09-15T19:09:30.337802Z",
     "start_time": "2020-09-15T19:09:30.331805Z"
    }
   },
   "outputs": [
    {
     "name": "stdout",
     "output_type": "stream",
     "text": [
      "Train Image Shape:  (5216, 128, 128, 3)\n",
      "Train Labels Shape:  (5216,)\n"
     ]
    }
   ],
   "source": [
    "# Checking the image shape\n",
    "print('Train Image Shape: ', train_img.shape)\n",
    "print('Train Labels Shape: ', train_labels.shape)"
   ]
  },
  {
   "cell_type": "markdown",
   "metadata": {},
   "source": [
    "# Tuning the Network\n",
    "\n",
    "As mentioned above, the one thing that both of the previous models had in common was **high variance** in the **validation loss and accuracy scores**.  This suggests that the model is **too complex** and should be **simplified**.  Let's begin by **adding batch normalization** in each **Convolution** layer and **utilize Dropout** for our **Dense layers**.\n",
    "\n",
    "In case that this ends up penalizing our model too much, we're going to **add padding**.\n",
    "\n",
    "Also, let's experiment with **weight initializers**.  We'll utilize **He_Normal**, which **picks weights** from a **normalized distribution** and **assigns them to the features**. It also happens to work really well with our **ReLU** function, so that's a plus!"
   ]
  },
  {
   "cell_type": "code",
   "execution_count": 4,
   "metadata": {
    "ExecuteTime": {
     "end_time": "2020-09-22T17:32:43.345217Z",
     "start_time": "2020-09-22T17:32:42.226997Z"
    }
   },
   "outputs": [],
   "source": [
    "from keras import optimizers\n",
    "from keras.layers import BatchNormalization, Activation\n",
    "\n",
    "np.random.seed(42)\n",
    "\n",
    "model3 = models.Sequential()\n",
    "\n",
    "# Due to the amount of noise in our data, we'll use a smaller filter of 3x3\n",
    "\n",
    "# Layer Block 1\n",
    "model3.add(layers.Conv2D(32, (3,3), padding='same',\n",
    "                         kernel_initializer='he_normal',\n",
    "                        input_shape=(128, 128, 3)))\n",
    "model3.add(layers.BatchNormalization())\n",
    "model3.add(Activation('relu'))\n",
    "model3.add(layers.MaxPooling2D((2,2)))\n",
    "\n",
    "# Layer Block 2\n",
    "model3.add(layers.Conv2D(64, (3,3), padding='same'))\n",
    "model3.add(Activation('relu'))\n",
    "model3.add(layers.MaxPooling2D((2,2)))\n",
    "\n",
    "# Layer Block 3\n",
    "model3.add(layers.Conv2D(128, (3,3), padding='same'))\n",
    "model3.add(Activation('relu'))\n",
    "model3.add(layers.MaxPooling2D((2,2)))\n",
    "\n",
    "# Layer Block 4\n",
    "model3.add(layers.Conv2D(128, (3,3), padding='same'))\n",
    "model3.add(layers.BatchNormalization())\n",
    "model3.add(Activation('relu'))\n",
    "model3.add(layers.MaxPooling2D((2,2)))\n",
    "\n",
    "# Layer Block 5\n",
    "model3.add(layers.Flatten())\n",
    "model3.add(layers.Dense(512, activation='relu'))\n",
    "model3.add(layers.Dropout(0.3))\n",
    "\n",
    "# Layer Block 6\n",
    "model3.add(layers.Dense(256, activation='relu'))\n",
    "model3.add(layers.Dropout(0.2))\n",
    "\n",
    "# Output layer\n",
    "model3.add(layers.Dense(1, activation='sigmoid'))\n",
    "\n",
    "model3.compile(loss='binary_crossentropy',\n",
    "             optimizer='adam',\n",
    "             metrics=['acc'])\n"
   ]
  },
  {
   "cell_type": "markdown",
   "metadata": {},
   "source": [
    "Let's go ahead and get a summary of the model."
   ]
  },
  {
   "cell_type": "code",
   "execution_count": 5,
   "metadata": {
    "ExecuteTime": {
     "end_time": "2020-09-22T17:32:57.921818Z",
     "start_time": "2020-09-22T17:32:57.912825Z"
    }
   },
   "outputs": [
    {
     "name": "stdout",
     "output_type": "stream",
     "text": [
      "_________________________________________________________________\n",
      "Layer (type)                 Output Shape              Param #   \n",
      "=================================================================\n",
      "conv2d_1 (Conv2D)            (None, 128, 128, 32)      896       \n",
      "_________________________________________________________________\n",
      "batch_normalization_1 (Batch (None, 128, 128, 32)      128       \n",
      "_________________________________________________________________\n",
      "activation_1 (Activation)    (None, 128, 128, 32)      0         \n",
      "_________________________________________________________________\n",
      "max_pooling2d_1 (MaxPooling2 (None, 64, 64, 32)        0         \n",
      "_________________________________________________________________\n",
      "conv2d_2 (Conv2D)            (None, 64, 64, 64)        18496     \n",
      "_________________________________________________________________\n",
      "activation_2 (Activation)    (None, 64, 64, 64)        0         \n",
      "_________________________________________________________________\n",
      "max_pooling2d_2 (MaxPooling2 (None, 32, 32, 64)        0         \n",
      "_________________________________________________________________\n",
      "conv2d_3 (Conv2D)            (None, 32, 32, 128)       73856     \n",
      "_________________________________________________________________\n",
      "activation_3 (Activation)    (None, 32, 32, 128)       0         \n",
      "_________________________________________________________________\n",
      "max_pooling2d_3 (MaxPooling2 (None, 16, 16, 128)       0         \n",
      "_________________________________________________________________\n",
      "conv2d_4 (Conv2D)            (None, 16, 16, 128)       147584    \n",
      "_________________________________________________________________\n",
      "batch_normalization_2 (Batch (None, 16, 16, 128)       512       \n",
      "_________________________________________________________________\n",
      "activation_4 (Activation)    (None, 16, 16, 128)       0         \n",
      "_________________________________________________________________\n",
      "max_pooling2d_4 (MaxPooling2 (None, 8, 8, 128)         0         \n",
      "_________________________________________________________________\n",
      "flatten_1 (Flatten)          (None, 8192)              0         \n",
      "_________________________________________________________________\n",
      "dense_1 (Dense)              (None, 512)               4194816   \n",
      "_________________________________________________________________\n",
      "dropout_1 (Dropout)          (None, 512)               0         \n",
      "_________________________________________________________________\n",
      "dense_2 (Dense)              (None, 256)               131328    \n",
      "_________________________________________________________________\n",
      "dropout_2 (Dropout)          (None, 256)               0         \n",
      "_________________________________________________________________\n",
      "dense_3 (Dense)              (None, 1)                 257       \n",
      "=================================================================\n",
      "Total params: 4,567,873\n",
      "Trainable params: 4,567,553\n",
      "Non-trainable params: 320\n",
      "_________________________________________________________________\n"
     ]
    }
   ],
   "source": [
    "model3.summary()"
   ]
  },
  {
   "cell_type": "code",
   "execution_count": 6,
   "metadata": {
    "ExecuteTime": {
     "end_time": "2020-09-22T18:11:24.205819Z",
     "start_time": "2020-09-22T17:33:14.434677Z"
    },
    "scrolled": true
   },
   "outputs": [
    {
     "name": "stdout",
     "output_type": "stream",
     "text": [
      "Train on 5216 samples, validate on 16 samples\n",
      "Epoch 1/40\n",
      "5216/5216 [==============================] - 384s 74ms/step - loss: 4.0859 - acc: 0.7379 - val_loss: 7.9712 - val_acc: 0.5000\n",
      "Epoch 2/40\n",
      "5216/5216 [==============================] - 377s 72ms/step - loss: 4.0987 - acc: 0.7429 - val_loss: 7.9712 - val_acc: 0.5000\n",
      "Epoch 3/40\n",
      "5216/5216 [==============================] - 381s 73ms/step - loss: 4.0987 - acc: 0.7429 - val_loss: 7.9712 - val_acc: 0.5000\n",
      "Epoch 4/40\n",
      "5216/5216 [==============================] - 383s 73ms/step - loss: 4.0987 - acc: 0.7429 - val_loss: 7.9712 - val_acc: 0.5000\n",
      "Epoch 5/40\n",
      "5216/5216 [==============================] - 389s 75ms/step - loss: 4.0987 - acc: 0.7429 - val_loss: 7.9712 - val_acc: 0.5000\n",
      "Epoch 6/40\n",
      "5216/5216 [==============================] - 375s 72ms/step - loss: 4.0987 - acc: 0.7429 - val_loss: 7.9712 - val_acc: 0.5000\n"
     ]
    }
   ],
   "source": [
    "history3 = model3.fit(train_img, train_labels,\n",
    "                      batch_size=50,\n",
    "                      callbacks=[keras.callbacks.EarlyStopping(monitor='val_acc',\n",
    "                                         patience=5)],\n",
    "                      epochs=40, \n",
    "                      validation_data=(val_img, val_labels))"
   ]
  },
  {
   "cell_type": "markdown",
   "metadata": {},
   "source": [
    "Forty minutes and six epochs later and there was absolutely **no change** in the validation metrics.  Not to mention that there are still a lot of parameters.  Let's just see what happens when we add only the **kernel initializer** and reduce the number of nodes and filters.    "
   ]
  },
  {
   "cell_type": "code",
   "execution_count": 52,
   "metadata": {
    "ExecuteTime": {
     "end_time": "2020-09-15T20:25:25.406323Z",
     "start_time": "2020-09-15T20:25:25.183441Z"
    }
   },
   "outputs": [
    {
     "name": "stdout",
     "output_type": "stream",
     "text": [
      "_________________________________________________________________\n",
      "Layer (type)                 Output Shape              Param #   \n",
      "=================================================================\n",
      "conv2d_39 (Conv2D)           (None, 128, 128, 64)      1792      \n",
      "_________________________________________________________________\n",
      "max_pooling2d_39 (MaxPooling (None, 64, 64, 64)        0         \n",
      "_________________________________________________________________\n",
      "conv2d_40 (Conv2D)           (None, 64, 64, 96)        55392     \n",
      "_________________________________________________________________\n",
      "max_pooling2d_40 (MaxPooling (None, 32, 32, 96)        0         \n",
      "_________________________________________________________________\n",
      "conv2d_41 (Conv2D)           (None, 32, 32, 64)        55360     \n",
      "_________________________________________________________________\n",
      "max_pooling2d_41 (MaxPooling (None, 16, 16, 64)        0         \n",
      "_________________________________________________________________\n",
      "flatten_11 (Flatten)         (None, 16384)             0         \n",
      "_________________________________________________________________\n",
      "dense_23 (Dense)             (None, 32)                524320    \n",
      "_________________________________________________________________\n",
      "dense_24 (Dense)             (None, 1)                 33        \n",
      "=================================================================\n",
      "Total params: 636,897\n",
      "Trainable params: 636,897\n",
      "Non-trainable params: 0\n",
      "_________________________________________________________________\n"
     ]
    }
   ],
   "source": [
    "np.random.seed(42)\n",
    "\n",
    "model = models.Sequential()\n",
    "\n",
    "# Layer 1\n",
    "model.add(layers.Conv2D(64, (3,3), padding='same', activation='relu', \n",
    "                        kernel_initializer='he_normal',\n",
    "                        input_shape=(128, 128, 3)))\n",
    "model.add(layers.MaxPooling2D((2,2)))\n",
    "\n",
    "# Layer 2\n",
    "model.add(layers.Conv2D(96, (3,3), padding='same', activation='relu'))\n",
    "model.add(layers.MaxPooling2D((2,2)))\n",
    "\n",
    "# Layer 3\n",
    "model.add(layers.Conv2D(64, (3,3), padding='same', activation='relu'))\n",
    "model.add(layers.MaxPooling2D((2,2)))\n",
    "\n",
    "# Layer 4\n",
    "model.add(layers.Flatten())\n",
    "model.add(layers.Dense(32, activation='relu'))\n",
    "\n",
    "# Output Layer\n",
    "model.add(layers.Dense(1, activation='sigmoid'))\n",
    "\n",
    "# Compile\n",
    "model.compile(loss='binary_crossentropy',\n",
    "             optimizer='Adam',\n",
    "             metrics=['acc'])\n",
    "\n",
    "model.summary()"
   ]
  },
  {
   "cell_type": "markdown",
   "metadata": {},
   "source": [
    "A lot fewer parameters! Let's model it and see what happens."
   ]
  },
  {
   "cell_type": "code",
   "execution_count": 53,
   "metadata": {
    "ExecuteTime": {
     "end_time": "2020-09-15T22:28:47.163989Z",
     "start_time": "2020-09-15T20:25:31.833833Z"
    },
    "scrolled": false
   },
   "outputs": [
    {
     "name": "stdout",
     "output_type": "stream",
     "text": [
      "Train on 5216 samples, validate on 16 samples\n",
      "Epoch 1/40\n",
      "5216/5216 [==============================] - 186s 36ms/step - loss: 0.4412 - acc: 0.7791 - val_loss: 0.5403 - val_acc: 0.7500\n",
      "Epoch 2/40\n",
      "5216/5216 [==============================] - 188s 36ms/step - loss: 0.2383 - acc: 0.9486 - val_loss: 0.7125 - val_acc: 0.6250\n",
      "Epoch 3/40\n",
      "5216/5216 [==============================] - 185s 35ms/step - loss: 0.2118 - acc: 0.9580 - val_loss: 0.5614 - val_acc: 0.6875\n",
      "Epoch 4/40\n",
      "5216/5216 [==============================] - 186s 36ms/step - loss: 0.1983 - acc: 0.9609 - val_loss: 0.3615 - val_acc: 0.9375\n",
      "Epoch 5/40\n",
      "5216/5216 [==============================] - 190s 36ms/step - loss: 0.1828 - acc: 0.9663 - val_loss: 0.4420 - val_acc: 0.8750\n",
      "Epoch 6/40\n",
      "5216/5216 [==============================] - 184s 35ms/step - loss: 0.1633 - acc: 0.9751 - val_loss: 0.3430 - val_acc: 0.8750\n",
      "Epoch 7/40\n",
      "5216/5216 [==============================] - 178s 34ms/step - loss: 0.1323 - acc: 0.9768 - val_loss: 0.8135 - val_acc: 0.6875\n",
      "Epoch 8/40\n",
      "5216/5216 [==============================] - 185s 35ms/step - loss: 0.0657 - acc: 0.9766 - val_loss: 0.4386 - val_acc: 0.8125\n",
      "Epoch 9/40\n",
      "5216/5216 [==============================] - 185s 36ms/step - loss: 0.0433 - acc: 0.9849 - val_loss: 0.2359 - val_acc: 0.9375\n",
      "Epoch 10/40\n",
      "5216/5216 [==============================] - 186s 36ms/step - loss: 0.0371 - acc: 0.9872 - val_loss: 0.4638 - val_acc: 0.8125\n",
      "Epoch 11/40\n",
      "5216/5216 [==============================] - 185s 35ms/step - loss: 0.0252 - acc: 0.9910 - val_loss: 0.5798 - val_acc: 0.7500\n",
      "Epoch 12/40\n",
      "5216/5216 [==============================] - 186s 36ms/step - loss: 0.0227 - acc: 0.9916 - val_loss: 0.4861 - val_acc: 0.8750\n",
      "Epoch 13/40\n",
      "5216/5216 [==============================] - 186s 36ms/step - loss: 0.0180 - acc: 0.9937 - val_loss: 0.2295 - val_acc: 0.9375\n",
      "Epoch 14/40\n",
      "5216/5216 [==============================] - 185s 35ms/step - loss: 0.0124 - acc: 0.9948 - val_loss: 0.3665 - val_acc: 0.8750\n",
      "Epoch 15/40\n",
      "5216/5216 [==============================] - 185s 35ms/step - loss: 0.0132 - acc: 0.9954 - val_loss: 0.1790 - val_acc: 0.9375\n",
      "Epoch 16/40\n",
      "5216/5216 [==============================] - 186s 36ms/step - loss: 0.0066 - acc: 0.9975 - val_loss: 0.2126 - val_acc: 0.9375\n",
      "Epoch 17/40\n",
      "5216/5216 [==============================] - 186s 36ms/step - loss: 0.0070 - acc: 0.9977 - val_loss: 0.2217 - val_acc: 0.9375\n",
      "Epoch 18/40\n",
      "5216/5216 [==============================] - 187s 36ms/step - loss: 0.0034 - acc: 0.9988 - val_loss: 0.2194 - val_acc: 0.9375\n",
      "Epoch 19/40\n",
      "5216/5216 [==============================] - 186s 36ms/step - loss: 0.0016 - acc: 0.9996 - val_loss: 0.4335 - val_acc: 0.8750\n",
      "Epoch 20/40\n",
      "5216/5216 [==============================] - 186s 36ms/step - loss: 7.1395e-04 - acc: 0.9998 - val_loss: 0.3419 - val_acc: 0.9375\n",
      "Epoch 21/40\n",
      "5216/5216 [==============================] - 186s 36ms/step - loss: 5.1133e-04 - acc: 0.9998 - val_loss: 0.3744 - val_acc: 0.9375\n",
      "Epoch 22/40\n",
      "5216/5216 [==============================] - 188s 36ms/step - loss: 3.5255e-04 - acc: 0.9998 - val_loss: 0.4224 - val_acc: 0.9375\n",
      "Epoch 23/40\n",
      "5216/5216 [==============================] - 187s 36ms/step - loss: 3.1983e-04 - acc: 0.9998 - val_loss: 0.4038 - val_acc: 0.9375\n",
      "Epoch 24/40\n",
      "5216/5216 [==============================] - 187s 36ms/step - loss: 2.9113e-04 - acc: 0.9998 - val_loss: 0.4100 - val_acc: 0.9375\n",
      "Epoch 25/40\n",
      "5216/5216 [==============================] - 187s 36ms/step - loss: 2.7318e-04 - acc: 0.9998 - val_loss: 0.4345 - val_acc: 0.9375\n",
      "Epoch 26/40\n",
      "5216/5216 [==============================] - 186s 36ms/step - loss: 2.6379e-04 - acc: 0.9998 - val_loss: 0.3925 - val_acc: 0.9375\n",
      "Epoch 27/40\n",
      "5216/5216 [==============================] - 186s 36ms/step - loss: 2.5993e-04 - acc: 0.9998 - val_loss: 0.4184 - val_acc: 0.9375\n",
      "Epoch 28/40\n",
      "5216/5216 [==============================] - 189s 36ms/step - loss: 2.4808e-04 - acc: 0.9998 - val_loss: 0.4227 - val_acc: 0.9375\n",
      "Epoch 29/40\n",
      "5216/5216 [==============================] - 187s 36ms/step - loss: 2.4345e-04 - acc: 0.9998 - val_loss: 0.4343 - val_acc: 0.9375\n",
      "Epoch 30/40\n",
      "5216/5216 [==============================] - 191s 37ms/step - loss: 2.3663e-04 - acc: 0.9998 - val_loss: 0.4672 - val_acc: 0.9375\n",
      "Epoch 31/40\n",
      "5216/5216 [==============================] - 186s 36ms/step - loss: 2.3256e-04 - acc: 0.9998 - val_loss: 0.4525 - val_acc: 0.9375\n",
      "Epoch 32/40\n",
      "5216/5216 [==============================] - 186s 36ms/step - loss: 2.2700e-04 - acc: 0.9998 - val_loss: 0.4119 - val_acc: 0.9375\n",
      "Epoch 33/40\n",
      "5216/5216 [==============================] - 187s 36ms/step - loss: 2.2443e-04 - acc: 0.9998 - val_loss: 0.4428 - val_acc: 0.9375\n",
      "Epoch 34/40\n",
      "5216/5216 [==============================] - 178s 34ms/step - loss: 2.2138e-04 - acc: 0.9998 - val_loss: 0.4609 - val_acc: 0.9375\n",
      "Epoch 35/40\n",
      "5216/5216 [==============================] - 178s 34ms/step - loss: 2.1822e-04 - acc: 0.9998 - val_loss: 0.4471 - val_acc: 0.9375\n",
      "Epoch 36/40\n",
      "5216/5216 [==============================] - 178s 34ms/step - loss: 2.1691e-04 - acc: 0.9998 - val_loss: 0.4877 - val_acc: 0.9375\n",
      "Epoch 37/40\n",
      "5216/5216 [==============================] - 179s 34ms/step - loss: 2.1366e-04 - acc: 0.9998 - val_loss: 0.4780 - val_acc: 0.9375\n",
      "Epoch 38/40\n",
      "5216/5216 [==============================] - 179s 34ms/step - loss: 2.1180e-04 - acc: 0.9998 - val_loss: 0.4912 - val_acc: 0.9375\n",
      "Epoch 39/40\n",
      "5216/5216 [==============================] - 179s 34ms/step - loss: 2.0967e-04 - acc: 0.9998 - val_loss: 0.4752 - val_acc: 0.9375\n",
      "Epoch 40/40\n",
      "5216/5216 [==============================] - 178s 34ms/step - loss: 2.0812e-04 - acc: 0.9998 - val_loss: 0.4838 - val_acc: 0.9375\n"
     ]
    }
   ],
   "source": [
    "history = model.fit(train_img, train_labels,\n",
    "                      batch_size=50,\n",
    "                      epochs=40, \n",
    "                      validation_data=(val_img, val_labels))"
   ]
  },
  {
   "cell_type": "markdown",
   "metadata": {},
   "source": [
    "## Plot the performance"
   ]
  },
  {
   "cell_type": "code",
   "execution_count": 2,
   "metadata": {
    "ExecuteTime": {
     "end_time": "2020-11-14T00:57:12.048742Z",
     "start_time": "2020-11-14T00:57:12.042745Z"
    }
   },
   "outputs": [],
   "source": [
    "def plot_performance(model):\n",
    "    \"\"\"\n",
    "    Input a trained model.\n",
    "    \n",
    "    Outputs plots of the Training and Validation accuracy and loss.  \n",
    "    \"\"\"\n",
    "    \n",
    "    acc = model.history['acc']\n",
    "    val_acc = model.history['val_acc']\n",
    "    loss = model.history['loss']\n",
    "    val_loss = model.history['val_loss']\n",
    "    epochs = range(len(acc))\n",
    "    \n",
    "    plt.plot(epochs, acc, 'blue', label='Training Accuracy')\n",
    "    plt.plot(epochs, val_acc, 'red', label='Validation Accuracy')\n",
    "    plt.title('Training and Validation accuracy')\n",
    "    plt.legend()\n",
    "    \n",
    "    plt.figure()\n",
    "    plt.plot(epochs, loss, 'blue', label='Training Loss')\n",
    "    plt.plot(epochs, val_loss, 'red', label='Validation Loss')\n",
    "    plt.title('Training and Validation loss')\n",
    "    plt.legend()\n",
    "    plt.show()"
   ]
  },
  {
   "cell_type": "code",
   "execution_count": 57,
   "metadata": {
    "ExecuteTime": {
     "end_time": "2020-09-15T22:36:37.124582Z",
     "start_time": "2020-09-15T22:36:36.320261Z"
    }
   },
   "outputs": [
    {
     "data": {
      "image/png": "[encoded data removed]",
      "text/plain": [
       "<Figure size 432x288 with 1 Axes>"
      ]
     },
     "metadata": {
      "needs_background": "light"
     },
     "output_type": "display_data"
    },
    {
     "data": {
      "image/png": "[encoded data removed]",
      "text/plain": [
       "<Figure size 432x288 with 1 Axes>"
      ]
     },
     "metadata": {
      "needs_background": "light"
     },
     "output_type": "display_data"
    }
   ],
   "source": [
    "plot_performance(history)"
   ]
  },
  {
   "cell_type": "code",
   "execution_count": 58,
   "metadata": {
    "ExecuteTime": {
     "end_time": "2020-09-15T22:37:37.101454Z",
     "start_time": "2020-09-15T22:37:29.991764Z"
    }
   },
   "outputs": [
    {
     "name": "stdout",
     "output_type": "stream",
     "text": [
      "624/624 [==============================] - 7s 11ms/step\n"
     ]
    }
   ],
   "source": [
    "results = model.evaluate(test_img, test_labels)"
   ]
  },
  {
   "cell_type": "code",
   "execution_count": 59,
   "metadata": {
    "ExecuteTime": {
     "end_time": "2020-09-15T22:37:40.794735Z",
     "start_time": "2020-09-15T22:37:40.790737Z"
    }
   },
   "outputs": [
    {
     "data": {
      "text/plain": [
       "[3.2849259682190723, 0.7323717948717948]"
      ]
     },
     "execution_count": 59,
     "metadata": {},
     "output_type": "execute_result"
    }
   ],
   "source": [
    "results"
   ]
  },
  {
   "cell_type": "markdown",
   "metadata": {},
   "source": [
    "## Evaluation:\n",
    "\n",
    "Ok, obviously there is still overfitting.  However! The variance in Validation Accuracy reduced to the point that it actually converged!  Let's go ahead and really start addressing this overfitting. "
   ]
  },
  {
   "cell_type": "markdown",
   "metadata": {},
   "source": [
    "# Regularization\n",
    "\n",
    "Let's try to use regularization.\n",
    "\n",
    "**Changes to model:**\n",
    "\n",
    "* Use He Normalizer in **each layer**; not just the first\n",
    "* Set kernel_regularizer to L2 for each layer"
   ]
  },
  {
   "cell_type": "code",
   "execution_count": 7,
   "metadata": {
    "ExecuteTime": {
     "end_time": "2020-09-22T18:16:30.295505Z",
     "start_time": "2020-09-22T18:16:30.147604Z"
    }
   },
   "outputs": [
    {
     "name": "stdout",
     "output_type": "stream",
     "text": [
      "_________________________________________________________________\n",
      "Layer (type)                 Output Shape              Param #   \n",
      "=================================================================\n",
      "conv2d_5 (Conv2D)            (None, 128, 128, 64)      1792      \n",
      "_________________________________________________________________\n",
      "max_pooling2d_5 (MaxPooling2 (None, 64, 64, 64)        0         \n",
      "_________________________________________________________________\n",
      "conv2d_6 (Conv2D)            (None, 64, 64, 96)        55392     \n",
      "_________________________________________________________________\n",
      "max_pooling2d_6 (MaxPooling2 (None, 32, 32, 96)        0         \n",
      "_________________________________________________________________\n",
      "conv2d_7 (Conv2D)            (None, 32, 32, 64)        55360     \n",
      "_________________________________________________________________\n",
      "max_pooling2d_7 (MaxPooling2 (None, 16, 16, 64)        0         \n",
      "_________________________________________________________________\n",
      "flatten_2 (Flatten)          (None, 16384)             0         \n",
      "_________________________________________________________________\n",
      "dense_4 (Dense)              (None, 32)                524320    \n",
      "_________________________________________________________________\n",
      "dense_5 (Dense)              (None, 1)                 33        \n",
      "=================================================================\n",
      "Total params: 636,897\n",
      "Trainable params: 636,897\n",
      "Non-trainable params: 0\n",
      "_________________________________________________________________\n"
     ]
    }
   ],
   "source": [
    "np.random.seed(42)\n",
    "\n",
    "model = models.Sequential()\n",
    "\n",
    "# Adding Padding\n",
    "model.add(layers.Conv2D(64, (3,3), padding='same', activation='relu', \n",
    "                        kernel_initializer='he_normal',\n",
    "                        kernel_regularizer='l2',\n",
    "                        input_shape=(128, 128, 3)))\n",
    "\n",
    "model.add(layers.MaxPooling2D((2,2)))\n",
    "\n",
    "\n",
    "model.add(layers.Conv2D(96, (3,3), padding='same', \n",
    "                        # kernel_initializer='he_normal',\n",
    "                        kernel_regularizer='l2',\n",
    "                        activation='relu'))\n",
    "\n",
    "model.add(layers.MaxPooling2D((2,2)))\n",
    "\n",
    "model.add(layers.Conv2D(64, (3,3), padding='same', \n",
    "                        # kernel_initializer='he_normal',\n",
    "                        kernel_regularizer='l2',\n",
    "                        activation='relu'))\n",
    "\n",
    "model.add(layers.MaxPooling2D((2,2)))\n",
    "\n",
    "model.add(layers.Flatten())\n",
    "model.add(layers.Dense(32, # kernel_initializer='he_normal',\n",
    "                        kernel_regularizer='l2',\n",
    "                       activation='relu'))\n",
    "\n",
    "model.add(layers.Dense(1, activation='sigmoid'))\n",
    "\n",
    "model.compile(loss='binary_crossentropy',\n",
    "             optimizer='Adam',\n",
    "             metrics=['acc'])\n",
    "model.summary()"
   ]
  },
  {
   "cell_type": "code",
   "execution_count": 8,
   "metadata": {
    "ExecuteTime": {
     "end_time": "2020-09-22T18:40:39.131648Z",
     "start_time": "2020-09-22T18:16:38.077606Z"
    },
    "scrolled": true
   },
   "outputs": [
    {
     "name": "stdout",
     "output_type": "stream",
     "text": [
      "Train on 5216 samples, validate on 16 samples\n",
      "Epoch 1/40\n",
      "5216/5216 [==============================] - 204s 39ms/step - loss: 3.3243 - acc: 0.8740 - val_loss: 2.3841 - val_acc: 0.7500\n",
      "Epoch 2/40\n",
      "5216/5216 [==============================] - 205s 39ms/step - loss: 1.6906 - acc: 0.9601 - val_loss: 1.4540 - val_acc: 1.0000\n",
      "Epoch 3/40\n",
      "5216/5216 [==============================] - 207s 40ms/step - loss: 1.1634 - acc: 0.9613 - val_loss: 1.1014 - val_acc: 0.8750\n",
      "Epoch 4/40\n",
      "5216/5216 [==============================] - 212s 41ms/step - loss: 0.8334 - acc: 0.9636 - val_loss: 1.1711 - val_acc: 0.6250\n",
      "Epoch 5/40\n",
      "5216/5216 [==============================] - 215s 41ms/step - loss: 0.6069 - acc: 0.9664 - val_loss: 1.0376 - val_acc: 0.6875\n",
      "Epoch 6/40\n",
      "5216/5216 [==============================] - 207s 40ms/step - loss: 0.4608 - acc: 0.9678 - val_loss: 0.6811 - val_acc: 0.8125\n",
      "Epoch 7/40\n",
      "5216/5216 [==============================] - 190s 37ms/step - loss: 0.3531 - acc: 0.9701 - val_loss: 0.4853 - val_acc: 0.8750\n"
     ]
    }
   ],
   "source": [
    "history = model.fit(train_img, train_labels,\n",
    "                      batch_size=50,\n",
    "                      callbacks=[keras.callbacks.EarlyStopping(monitor='val_acc',\n",
    "                                         patience=5)],\n",
    "                      epochs=40, \n",
    "                      validation_data=(val_img, val_labels))"
   ]
  },
  {
   "cell_type": "markdown",
   "metadata": {},
   "source": [
    "I can already see where that's going.  Accuracy is increasing way too fast. 95% accuracy after only two epochs? Regularization is **too light**. Let's try some **data augmentation**."
   ]
  },
  {
   "cell_type": "markdown",
   "metadata": {},
   "source": [
    "# Data Augmentation"
   ]
  },
  {
   "cell_type": "code",
   "execution_count": 3,
   "metadata": {
    "ExecuteTime": {
     "end_time": "2020-11-06T15:53:32.490937Z",
     "start_time": "2020-11-06T15:53:31.732476Z"
    }
   },
   "outputs": [
    {
     "name": "stdout",
     "output_type": "stream",
     "text": [
      "Found 5216 images belonging to 2 classes.\n",
      "Found 16 images belonging to 2 classes.\n",
      "Found 624 images belonging to 2 classes.\n"
     ]
    }
   ],
   "source": [
    "train_dir = '../chest_xray/train'\n",
    "validation_dir = '../chest_xray/val'\n",
    "test_dir = '../chest_xray/test'\n",
    "\n",
    "# Rescaling\n",
    "datagen = ImageDataGenerator(rescale=1./255) # rescaling the images \n",
    "aug_datagen = ImageDataGenerator(rescale=1./255,\n",
    "                                rotation_range=30,\n",
    "                                width_shift_range=0.15,\n",
    "                                height_shift_range=0.15,\n",
    "                                shear_range=0.1,\n",
    "                                zoom_range=0.1,\n",
    "                                vertical_flip=True,\n",
    "                                fill_mode='nearest')\n",
    "# Generating Data\n",
    "\n",
    "train_gen = aug_datagen.flow_from_directory(train_dir,\n",
    "                    target_size=(128, 128),\n",
    "                    batch_size=5216,\n",
    "                    class_mode='binary')\n",
    "\n",
    "val_gen = datagen.flow_from_directory(validation_dir, \n",
    "                    target_size=(128, 128),\n",
    "                    batch_size=16,\n",
    "                    class_mode='binary')\n",
    "\n",
    "test_gen = datagen.flow_from_directory(test_dir, \n",
    "                    target_size=(128, 128),\n",
    "                    batch_size=624,\n",
    "                    class_mode='binary')"
   ]
  },
  {
   "cell_type": "code",
   "execution_count": 6,
   "metadata": {
    "ExecuteTime": {
     "end_time": "2020-11-06T18:50:18.823167Z",
     "start_time": "2020-11-06T18:47:11.342589Z"
    }
   },
   "outputs": [],
   "source": [
    "train_img, train_labels = next(train_gen)\n",
    "val_img, val_labels = next(val_gen)\n",
    "test_img, test_labels = next(test_gen)"
   ]
  },
  {
   "cell_type": "code",
   "execution_count": 13,
   "metadata": {
    "ExecuteTime": {
     "end_time": "2020-09-22T19:01:12.729912Z",
     "start_time": "2020-09-22T19:01:12.639965Z"
    }
   },
   "outputs": [
    {
     "name": "stdout",
     "output_type": "stream",
     "text": [
      "_________________________________________________________________\n",
      "Layer (type)                 Output Shape              Param #   \n",
      "=================================================================\n",
      "conv2d_11 (Conv2D)           (None, 128, 128, 64)      1792      \n",
      "_________________________________________________________________\n",
      "max_pooling2d_11 (MaxPooling (None, 64, 64, 64)        0         \n",
      "_________________________________________________________________\n",
      "conv2d_12 (Conv2D)           (None, 64, 64, 96)        55392     \n",
      "_________________________________________________________________\n",
      "max_pooling2d_12 (MaxPooling (None, 32, 32, 96)        0         \n",
      "_________________________________________________________________\n",
      "conv2d_13 (Conv2D)           (None, 32, 32, 64)        55360     \n",
      "_________________________________________________________________\n",
      "max_pooling2d_13 (MaxPooling (None, 16, 16, 64)        0         \n",
      "_________________________________________________________________\n",
      "flatten_4 (Flatten)          (None, 16384)             0         \n",
      "_________________________________________________________________\n",
      "dense_8 (Dense)              (None, 32)                524320    \n",
      "_________________________________________________________________\n",
      "dense_9 (Dense)              (None, 1)                 33        \n",
      "=================================================================\n",
      "Total params: 636,897\n",
      "Trainable params: 636,897\n",
      "Non-trainable params: 0\n",
      "_________________________________________________________________\n"
     ]
    }
   ],
   "source": [
    "np.random.seed(42)\n",
    "\n",
    "model = models.Sequential()\n",
    "\n",
    "# Let's take out the kernel initializer and see if that is a problem\n",
    "model.add(layers.Conv2D(64, (3,3), padding='same', activation='relu', \n",
    "                        #kernel_initializer='he_normal',\n",
    "                        #kernel_regularizer='l2',\n",
    "                        input_shape=(128, 128, 3)))\n",
    "\n",
    "model.add(layers.MaxPooling2D((2,2)))\n",
    "\n",
    "\n",
    "model.add(layers.Conv2D(96, (3,3), padding='same', \n",
    "                        #kernel_initializer='he_normal',\n",
    "                        #kernel_regularizer='l2',\n",
    "                        activation='relu'))\n",
    "\n",
    "model.add(layers.MaxPooling2D((2,2)))\n",
    "\n",
    "model.add(layers.Conv2D(64, (3,3), padding='same', \n",
    "                        #kernel_initializer='he_normal',\n",
    "                        #kernel_regularizer='l2',\n",
    "                        activation='relu'))\n",
    "\n",
    "model.add(layers.MaxPooling2D((2,2)))\n",
    "\n",
    "model.add(layers.Flatten())\n",
    "model.add(layers.Dense(32, #kernel_initializer='he_normal',\n",
    "                        #kernel_regularizer='l2',\n",
    "                        activation='relu'))\n",
    "\n",
    "model.add(layers.Dense(1, activation='sigmoid'))\n",
    "\n",
    "model.compile(loss='binary_crossentropy',\n",
    "             optimizer='Adam',\n",
    "             metrics=['acc'])\n",
    "model.summary()"
   ]
  },
  {
   "cell_type": "code",
   "execution_count": 14,
   "metadata": {
    "ExecuteTime": {
     "end_time": "2020-09-22T19:30:36.342861Z",
     "start_time": "2020-09-22T19:01:14.961185Z"
    }
   },
   "outputs": [
    {
     "name": "stdout",
     "output_type": "stream",
     "text": [
      "Train on 5216 samples, validate on 16 samples\n",
      "Epoch 1/40\n",
      "5216/5216 [==============================] - 195s 37ms/step - loss: 0.4661 - acc: 0.7851 - val_loss: 0.8447 - val_acc: 0.5625\n",
      "Epoch 2/40\n",
      "5216/5216 [==============================] - 196s 37ms/step - loss: 0.3182 - acc: 0.8533 - val_loss: 1.7328 - val_acc: 0.5625\n",
      "Epoch 3/40\n",
      "5216/5216 [==============================] - 197s 38ms/step - loss: 0.2570 - acc: 0.8884 - val_loss: 1.5811 - val_acc: 0.5625\n",
      "Epoch 4/40\n",
      "5216/5216 [==============================] - 191s 37ms/step - loss: 0.2252 - acc: 0.9051 - val_loss: 0.8073 - val_acc: 0.6875\n",
      "Epoch 5/40\n",
      "5216/5216 [==============================] - 196s 38ms/step - loss: 0.2014 - acc: 0.9156 - val_loss: 0.7316 - val_acc: 0.5625\n",
      "Epoch 6/40\n",
      "5216/5216 [==============================] - 198s 38ms/step - loss: 0.1679 - acc: 0.9350 - val_loss: 0.9358 - val_acc: 0.5625\n",
      "Epoch 7/40\n",
      "5216/5216 [==============================] - 195s 37ms/step - loss: 0.1452 - acc: 0.9413 - val_loss: 2.0673 - val_acc: 0.5625\n",
      "Epoch 8/40\n",
      "5216/5216 [==============================] - 195s 37ms/step - loss: 0.1255 - acc: 0.9500 - val_loss: 0.5712 - val_acc: 0.6875\n",
      "Epoch 9/40\n",
      "5216/5216 [==============================] - 200s 38ms/step - loss: 0.1044 - acc: 0.9588 - val_loss: 1.0292 - val_acc: 0.5625\n"
     ]
    }
   ],
   "source": [
    "history = model.fit(train_img, train_labels,\n",
    "                      batch_size=50,\n",
    "                      callbacks=[keras.callbacks.EarlyStopping(monitor='val_acc',\n",
    "                                         patience=5)],\n",
    "                      epochs=40, \n",
    "                      validation_data=(val_img, val_labels))"
   ]
  },
  {
   "cell_type": "markdown",
   "metadata": {},
   "source": [
    "Not only is the model learning way too fast, the validation loss is going all over the place.  If regularization and data augmentation aren't enough on their own, let's do both at the same time."
   ]
  },
  {
   "cell_type": "markdown",
   "metadata": {},
   "source": [
    "# Regularization & Data Augmentation\n",
    "\n",
    "Seeing how removing the kernel initializer caused higher variance in our Validation loss, we'll add it back in along with our regularizer and keep the augmentation."
   ]
  },
  {
   "cell_type": "code",
   "execution_count": 6,
   "metadata": {
    "ExecuteTime": {
     "end_time": "2020-09-24T16:33:47.766649Z",
     "start_time": "2020-09-24T16:33:47.643719Z"
    }
   },
   "outputs": [
    {
     "name": "stdout",
     "output_type": "stream",
     "text": [
      "_________________________________________________________________\n",
      "Layer (type)                 Output Shape              Param #   \n",
      "=================================================================\n",
      "conv2d_4 (Conv2D)            (None, 128, 128, 64)      1792      \n",
      "_________________________________________________________________\n",
      "max_pooling2d_4 (MaxPooling2 (None, 64, 64, 64)        0         \n",
      "_________________________________________________________________\n",
      "conv2d_5 (Conv2D)            (None, 64, 64, 96)        55392     \n",
      "_________________________________________________________________\n",
      "max_pooling2d_5 (MaxPooling2 (None, 32, 32, 96)        0         \n",
      "_________________________________________________________________\n",
      "conv2d_6 (Conv2D)            (None, 32, 32, 64)        55360     \n",
      "_________________________________________________________________\n",
      "max_pooling2d_6 (MaxPooling2 (None, 16, 16, 64)        0         \n",
      "_________________________________________________________________\n",
      "flatten_2 (Flatten)          (None, 16384)             0         \n",
      "_________________________________________________________________\n",
      "dense_3 (Dense)              (None, 32)                524320    \n",
      "_________________________________________________________________\n",
      "dense_4 (Dense)              (None, 1)                 33        \n",
      "=================================================================\n",
      "Total params: 636,897\n",
      "Trainable params: 636,897\n",
      "Non-trainable params: 0\n",
      "_________________________________________________________________\n"
     ]
    }
   ],
   "source": [
    "np.random.seed(42)\n",
    "\n",
    "model = models.Sequential()\n",
    "\n",
    "\n",
    "model.add(layers.Conv2D(64, (3,3), padding='same', activation='relu', \n",
    "                        kernel_initializer='he_normal',\n",
    "                        kernel_regularizer='l2',\n",
    "                        input_shape=(128, 128, 3)))\n",
    "\n",
    "model.add(layers.MaxPooling2D((2,2)))\n",
    "\n",
    "\n",
    "model.add(layers.Conv2D(96, (3,3), padding='same', \n",
    "                        # kernel_initializer='he_normal',\n",
    "                        kernel_regularizer='l2',\n",
    "                        activation='relu'))\n",
    "\n",
    "model.add(layers.MaxPooling2D((2,2)))\n",
    "\n",
    "model.add(layers.Conv2D(64, (3,3), padding='same', \n",
    "                        # kernel_initializer='he_normal',\n",
    "                        kernel_regularizer='l2',\n",
    "                        activation='relu'))\n",
    "\n",
    "model.add(layers.MaxPooling2D((2,2)))\n",
    "\n",
    "model.add(layers.Flatten())\n",
    "model.add(layers.Dense(32, # kernel_initializer='he_normal',\n",
    "                        kernel_regularizer='l2',\n",
    "                       activation='relu'))\n",
    "\n",
    "model.add(layers.Dense(1, activation='sigmoid'))\n",
    "\n",
    "model.compile(loss='binary_crossentropy',\n",
    "             optimizer='Adam',\n",
    "             metrics=['acc'])\n",
    "model.summary()"
   ]
  },
  {
   "cell_type": "code",
   "execution_count": 7,
   "metadata": {
    "ExecuteTime": {
     "end_time": "2020-09-24T18:11:18.112702Z",
     "start_time": "2020-09-24T16:33:50.396919Z"
    }
   },
   "outputs": [
    {
     "name": "stdout",
     "output_type": "stream",
     "text": [
      "Train on 5216 samples, validate on 16 samples\n",
      "Epoch 1/40\n",
      "5216/5216 [==============================] - 238s 46ms/step - loss: 2.6906 - acc: 0.7301 - val_loss: 2.1580 - val_acc: 0.5000\n",
      "Epoch 2/40\n",
      "5216/5216 [==============================] - 246s 47ms/step - loss: 1.5604 - acc: 0.7535 - val_loss: 1.7025 - val_acc: 0.5000\n",
      "Epoch 3/40\n",
      "5216/5216 [==============================] - 226s 43ms/step - loss: 1.0914 - acc: 0.7824 - val_loss: 1.1473 - val_acc: 0.8125\n",
      "Epoch 4/40\n",
      "5216/5216 [==============================] - 223s 43ms/step - loss: 0.8002 - acc: 0.8221 - val_loss: 1.0035 - val_acc: 0.6250\n",
      "Epoch 5/40\n",
      "5216/5216 [==============================] - 224s 43ms/step - loss: 0.6652 - acc: 0.8236 - val_loss: 0.9434 - val_acc: 0.6875\n",
      "Epoch 6/40\n",
      "5216/5216 [==============================] - 232s 44ms/step - loss: 0.5531 - acc: 0.8357 - val_loss: 0.8482 - val_acc: 0.6875\n",
      "Epoch 7/40\n",
      "5216/5216 [==============================] - 232s 44ms/step - loss: 0.5027 - acc: 0.8378 - val_loss: 0.7738 - val_acc: 0.8125\n",
      "Epoch 8/40\n",
      "5216/5216 [==============================] - 227s 44ms/step - loss: 0.4774 - acc: 0.8317 - val_loss: 0.7477 - val_acc: 0.8125\n",
      "Epoch 9/40\n",
      "5216/5216 [==============================] - 223s 43ms/step - loss: 0.4457 - acc: 0.8376 - val_loss: 0.7711 - val_acc: 0.7500\n",
      "Epoch 10/40\n",
      "5216/5216 [==============================] - 228s 44ms/step - loss: 0.4409 - acc: 0.8390 - val_loss: 0.7624 - val_acc: 0.7500\n",
      "Epoch 11/40\n",
      "5216/5216 [==============================] - 224s 43ms/step - loss: 0.4235 - acc: 0.8472 - val_loss: 0.7426 - val_acc: 0.6875\n",
      "Epoch 12/40\n",
      "5216/5216 [==============================] - 228s 44ms/step - loss: 0.4041 - acc: 0.8533 - val_loss: 0.9010 - val_acc: 0.6875\n",
      "Epoch 13/40\n",
      "5216/5216 [==============================] - 232s 44ms/step - loss: 0.4076 - acc: 0.8476 - val_loss: 0.6546 - val_acc: 0.7500\n",
      "Epoch 14/40\n",
      "5216/5216 [==============================] - 231s 44ms/step - loss: 0.3830 - acc: 0.8610 - val_loss: 0.6900 - val_acc: 0.7500\n",
      "Epoch 15/40\n",
      "5216/5216 [==============================] - 237s 45ms/step - loss: 0.3971 - acc: 0.8533 - val_loss: 0.6644 - val_acc: 0.6875\n",
      "Epoch 16/40\n",
      "5216/5216 [==============================] - 230s 44ms/step - loss: 0.4054 - acc: 0.8482 - val_loss: 0.6555 - val_acc: 0.7500\n",
      "Epoch 17/40\n",
      "5216/5216 [==============================] - 229s 44ms/step - loss: 0.3791 - acc: 0.8576 - val_loss: 0.6992 - val_acc: 0.7500\n",
      "Epoch 18/40\n",
      "5216/5216 [==============================] - 213s 41ms/step - loss: 0.3762 - acc: 0.8623 - val_loss: 0.6454 - val_acc: 0.6875\n",
      "Epoch 19/40\n",
      "5216/5216 [==============================] - 224s 43ms/step - loss: 0.3881 - acc: 0.8535 - val_loss: 0.7880 - val_acc: 0.8125\n",
      "Epoch 20/40\n",
      "5216/5216 [==============================] - 226s 43ms/step - loss: 0.3717 - acc: 0.8660 - val_loss: 0.6913 - val_acc: 0.8125\n",
      "Epoch 21/40\n",
      "5216/5216 [==============================] - 221s 42ms/step - loss: 0.3684 - acc: 0.8669 - val_loss: 0.6247 - val_acc: 0.7500\n",
      "Epoch 22/40\n",
      "5216/5216 [==============================] - 224s 43ms/step - loss: 0.3627 - acc: 0.8687 - val_loss: 0.6885 - val_acc: 0.7500\n",
      "Epoch 23/40\n",
      "5216/5216 [==============================] - 230s 44ms/step - loss: 0.3567 - acc: 0.8723 - val_loss: 0.7373 - val_acc: 0.6250\n",
      "Epoch 24/40\n",
      "5216/5216 [==============================] - 204s 39ms/step - loss: 0.3571 - acc: 0.8692 - val_loss: 0.7566 - val_acc: 0.5625\n",
      "Epoch 25/40\n",
      "5216/5216 [==============================] - 198s 38ms/step - loss: 0.3598 - acc: 0.8712 - val_loss: 0.8761 - val_acc: 0.7500\n",
      "Epoch 26/40\n",
      "5216/5216 [==============================] - 198s 38ms/step - loss: 0.3469 - acc: 0.8756 - val_loss: 0.7016 - val_acc: 0.7500\n"
     ]
    }
   ],
   "source": [
    "history_reg = model.fit(train_img, train_labels,\n",
    "                      batch_size=50,\n",
    "                      callbacks=[keras.callbacks.EarlyStopping(monitor='val_loss',\n",
    "                                         patience=5)],\n",
    "                      epochs=40, \n",
    "                      validation_data=(val_img, val_labels))"
   ]
  },
  {
   "cell_type": "code",
   "execution_count": 8,
   "metadata": {
    "ExecuteTime": {
     "end_time": "2020-09-24T18:21:04.316360Z",
     "start_time": "2020-09-24T18:20:56.378185Z"
    }
   },
   "outputs": [
    {
     "name": "stdout",
     "output_type": "stream",
     "text": [
      "624/624 [==============================] - 8s 13ms/step\n"
     ]
    },
    {
     "data": {
      "text/plain": [
       "[0.49801368438280547, 0.8028846153846154]"
      ]
     },
     "execution_count": 8,
     "metadata": {},
     "output_type": "execute_result"
    }
   ],
   "source": [
    "model.evaluate(test_img, test_labels)"
   ]
  },
  {
   "cell_type": "markdown",
   "metadata": {},
   "source": [
    "Okay! Assuming that I didn't end this too soon, the model appears to be underfitting.  Let's try to make the model more complex to offset this."
   ]
  },
  {
   "cell_type": "markdown",
   "metadata": {},
   "source": [
    "## Increasing Complexity\n",
    "\n",
    "We're going to increase the number of filters in the Convolution layers and nodes in our Dense layer. "
   ]
  },
  {
   "cell_type": "code",
   "execution_count": 19,
   "metadata": {
    "ExecuteTime": {
     "end_time": "2020-09-25T21:48:13.083343Z",
     "start_time": "2020-09-25T21:48:12.966423Z"
    }
   },
   "outputs": [
    {
     "name": "stdout",
     "output_type": "stream",
     "text": [
      "_________________________________________________________________\n",
      "Layer (type)                 Output Shape              Param #   \n",
      "=================================================================\n",
      "conv2d_22 (Conv2D)           (None, 128, 128, 64)      1792      \n",
      "_________________________________________________________________\n",
      "max_pooling2d_22 (MaxPooling (None, 64, 64, 64)        0         \n",
      "_________________________________________________________________\n",
      "conv2d_23 (Conv2D)           (None, 64, 64, 128)       73856     \n",
      "_________________________________________________________________\n",
      "max_pooling2d_23 (MaxPooling (None, 32, 32, 128)       0         \n",
      "_________________________________________________________________\n",
      "conv2d_24 (Conv2D)           (None, 32, 32, 256)       295168    \n",
      "_________________________________________________________________\n",
      "max_pooling2d_24 (MaxPooling (None, 16, 16, 256)       0         \n",
      "_________________________________________________________________\n",
      "flatten_8 (Flatten)          (None, 65536)             0         \n",
      "_________________________________________________________________\n",
      "dense_15 (Dense)             (None, 64)                4194368   \n",
      "_________________________________________________________________\n",
      "dense_16 (Dense)             (None, 1)                 65        \n",
      "=================================================================\n",
      "Total params: 4,565,249\n",
      "Trainable params: 4,565,249\n",
      "Non-trainable params: 0\n",
      "_________________________________________________________________\n"
     ]
    }
   ],
   "source": [
    "np.random.seed(42)\n",
    "\n",
    "model_augreg3 = models.Sequential()\n",
    "\n",
    "model_augreg3.add(layers.Conv2D(64, (3,3), padding='same', activation='relu', \n",
    "                        kernel_initializer='he_normal',\n",
    "                        kernel_regularizer='l2',\n",
    "                        bias_regularizer='l2',\n",
    "                        input_shape=(128, 128, 3)))\n",
    "# model.add(layers.BatchNormalization())\n",
    "model_augreg3.add(layers.MaxPooling2D((2,2)))\n",
    "\n",
    "\n",
    "model_augreg3.add(layers.Conv2D(128, (3,3), padding='same', \n",
    "                        kernel_initializer='he_normal',\n",
    "                        kernel_regularizer='l2',\n",
    "                        bias_regularizer='l2',\n",
    "                        activation='relu'))\n",
    "# model.add(layers.BatchNormalization())\n",
    "model_augreg3.add(layers.MaxPooling2D((2,2)))\n",
    "\n",
    "model_augreg3.add(layers.Conv2D(256, (3,3), padding='same', \n",
    "                        kernel_initializer='he_normal',\n",
    "                        kernel_regularizer='l2',\n",
    "                        bias_regularizer='l2',\n",
    "                        activation='relu'))\n",
    "# model.add(layers.BatchNormalization())\n",
    "model_augreg3.add(layers.MaxPooling2D((2,2)))\n",
    "\n",
    "model_augreg3.add(layers.Flatten())\n",
    "model_augreg3.add(layers.Dense(64, kernel_initializer='he_normal',\n",
    "                        kernel_regularizer='l2',\n",
    "                        bias_regularizer='l2',\n",
    "                        activation='relu'))\n",
    "# model.add(layers.Dropout(0.2))\n",
    "model_augreg3.add(layers.Dense(1, activation='sigmoid'))\n",
    "\n",
    "model_augreg3.compile(loss='binary_crossentropy',\n",
    "             optimizer='Adam',\n",
    "             metrics=['acc'])\n",
    "model_augreg3.summary()"
   ]
  },
  {
   "cell_type": "markdown",
   "metadata": {},
   "source": [
    "Because of how much variance is in the validation accuracy, we'll be generous with the patience parameter."
   ]
  },
  {
   "cell_type": "code",
   "execution_count": 20,
   "metadata": {
    "ExecuteTime": {
     "end_time": "2020-09-25T23:02:51.077240Z",
     "start_time": "2020-09-25T21:48:17.685929Z"
    },
    "scrolled": false
   },
   "outputs": [
    {
     "name": "stdout",
     "output_type": "stream",
     "text": [
      "Train on 5216 samples, validate on 16 samples\n",
      "Epoch 1/40\n",
      "5216/5216 [==============================] - 322s 62ms/step - loss: 5.9736 - acc: 0.7404 - val_loss: 8.8679 - val_acc: 0.5000\n",
      "Epoch 2/40\n",
      "5216/5216 [==============================] - 317s 61ms/step - loss: 1.5740 - acc: 0.7341 - val_loss: 1.3121 - val_acc: 0.5000\n",
      "Epoch 3/40\n",
      "5216/5216 [==============================] - 319s 61ms/step - loss: 0.9091 - acc: 0.7429 - val_loss: 1.0188 - val_acc: 0.5000\n",
      "Epoch 4/40\n",
      "5216/5216 [==============================] - 323s 62ms/step - loss: 0.7339 - acc: 0.7431 - val_loss: 0.9066 - val_acc: 0.6875\n",
      "Epoch 5/40\n",
      "5216/5216 [==============================] - 315s 60ms/step - loss: 0.6399 - acc: 0.7488 - val_loss: 0.8189 - val_acc: 0.8125\n",
      "Epoch 6/40\n",
      "5216/5216 [==============================] - 321s 62ms/step - loss: 0.5757 - acc: 0.7709 - val_loss: 0.7896 - val_acc: 0.8750\n",
      "Epoch 7/40\n",
      "5216/5216 [==============================] - 322s 62ms/step - loss: 0.5272 - acc: 0.7987 - val_loss: 0.8884 - val_acc: 0.6250\n",
      "Epoch 8/40\n",
      "5216/5216 [==============================] - 318s 61ms/step - loss: 0.5026 - acc: 0.8133 - val_loss: 0.7320 - val_acc: 0.8125\n",
      "Epoch 9/40\n",
      "5216/5216 [==============================] - 318s 61ms/step - loss: 0.4708 - acc: 0.8294 - val_loss: 0.7735 - val_acc: 0.4375\n",
      "Epoch 10/40\n",
      "5216/5216 [==============================] - 320s 61ms/step - loss: 0.4533 - acc: 0.8367 - val_loss: 0.7375 - val_acc: 0.7500\n",
      "Epoch 11/40\n",
      "5216/5216 [==============================] - 322s 62ms/step - loss: 0.4422 - acc: 0.8487 - val_loss: 0.7754 - val_acc: 0.7500\n",
      "Epoch 12/40\n",
      "5216/5216 [==============================] - 320s 61ms/step - loss: 0.4437 - acc: 0.8363 - val_loss: 0.7762 - val_acc: 0.7500\n",
      "Epoch 13/40\n",
      "5216/5216 [==============================] - 319s 61ms/step - loss: 0.4258 - acc: 0.8437 - val_loss: 0.6445 - val_acc: 0.8125\n",
      "Epoch 14/40\n",
      "5216/5216 [==============================] - 317s 61ms/step - loss: 0.4206 - acc: 0.8455 - val_loss: 0.6153 - val_acc: 0.8125\n"
     ]
    }
   ],
   "source": [
    "history_augreg3 = model_augreg3.fit(train_img, train_labels,\n",
    "                      callbacks=[keras.callbacks.EarlyStopping(monitor='acc',\n",
    "                                         patience=3)],\n",
    "                      batch_size=50,\n",
    "                      epochs=40, \n",
    "                      validation_data=(val_img, val_labels))"
   ]
  },
  {
   "cell_type": "code",
   "execution_count": 23,
   "metadata": {
    "ExecuteTime": {
     "end_time": "2020-09-26T00:54:24.230328Z",
     "start_time": "2020-09-26T00:54:23.587988Z"
    }
   },
   "outputs": [
    {
     "data": {
      "image/png": "[encoded data removed]",
      "text/plain": [
       "<Figure size 432x288 with 1 Axes>"
      ]
     },
     "metadata": {
      "needs_background": "light"
     },
     "output_type": "display_data"
    },
    {
     "data": {
      "image/png": "[encoded data removed]",
      "text/plain": [
       "<Figure size 432x288 with 1 Axes>"
      ]
     },
     "metadata": {
      "needs_background": "light"
     },
     "output_type": "display_data"
    }
   ],
   "source": [
    "plot_performance(history_augreg3)"
   ]
  },
  {
   "cell_type": "code",
   "execution_count": 24,
   "metadata": {
    "ExecuteTime": {
     "end_time": "2020-09-26T00:54:56.409828Z",
     "start_time": "2020-09-26T00:54:44.980795Z"
    }
   },
   "outputs": [
    {
     "name": "stdout",
     "output_type": "stream",
     "text": [
      "624/624 [==============================] - 11s 18ms/step\n",
      "Model's Test Accuracy = 77.244%\n",
      "Model's Test Loss = 0.5277808812948374\n"
     ]
    }
   ],
   "source": [
    "augreg_result_test = model_augreg3.evaluate(test_img, test_labels)\n",
    "print(f\"Model's Test Accuracy = {round((augreg_result_test[1]*100), 3)}%\")\n",
    "print(f\"Model's Test Loss = {augreg_result_test[0]}\")"
   ]
  },
  {
   "cell_type": "code",
   "execution_count": null,
   "metadata": {},
   "outputs": [],
   "source": []
  },
  {
   "cell_type": "code",
   "execution_count": 31,
   "metadata": {
    "ExecuteTime": {
     "end_time": "2020-09-17T15:54:20.436591Z",
     "start_time": "2020-09-17T15:54:19.389846Z"
    },
    "scrolled": true
   },
   "outputs": [
    {
     "data": {
      "image/png": "[encoded data removed]",
      "text/plain": [
       "<Figure size 432x288 with 1 Axes>"
      ]
     },
     "metadata": {
      "needs_background": "light"
     },
     "output_type": "display_data"
    },
    {
     "data": {
      "image/png": "[encoded data removed]",
      "text/plain": [
       "<Figure size 432x288 with 1 Axes>"
      ]
     },
     "metadata": {
      "needs_background": "light"
     },
     "output_type": "display_data"
    }
   ],
   "source": [
    "plot_performance(history_augreg3)"
   ]
  },
  {
   "cell_type": "code",
   "execution_count": 32,
   "metadata": {
    "ExecuteTime": {
     "end_time": "2020-09-17T15:55:47.566409Z",
     "start_time": "2020-09-17T15:54:27.549700Z"
    }
   },
   "outputs": [
    {
     "name": "stdout",
     "output_type": "stream",
     "text": [
      "5216/5216 [==============================] - 80s 15ms/step\n"
     ]
    },
    {
     "data": {
      "text/plain": [
       "[0.3492514992052792, 0.879217791411043]"
      ]
     },
     "execution_count": 32,
     "metadata": {},
     "output_type": "execute_result"
    }
   ],
   "source": [
    "augreg_result_train = model_augreg3.evaluate(train_img, train_labels)\n",
    "augreg_result_train"
   ]
  },
  {
   "cell_type": "code",
   "execution_count": 33,
   "metadata": {
    "ExecuteTime": {
     "end_time": "2020-09-17T15:55:57.433018Z",
     "start_time": "2020-09-17T15:55:47.596392Z"
    }
   },
   "outputs": [
    {
     "name": "stdout",
     "output_type": "stream",
     "text": [
      "624/624 [==============================] - 10s 16ms/step\n",
      "Model's Test Accuracy = 79.006%\n",
      "Model's Test Loss = 0.48309843968122435\n"
     ]
    }
   ],
   "source": [
    "augreg_result_test = model_augreg3.evaluate(test_img, test_labels)\n",
    "print(f\"Model's Test Accuracy = {round((augreg_result_test[1]*100), 3)}%\")\n",
    "print(f\"Model's Test Loss = {augreg_result_test[0]}\")"
   ]
  },
  {
   "cell_type": "markdown",
   "metadata": {},
   "source": [
    "### Evaluation:\n",
    "Wow, that is a big improvement!  We still see some variance in our validation accuracy, but there is a huge improvement in the loss! Seeing how the training accuracy is continuing to increase, let's try to let this run for all 40 epochs."
   ]
  },
  {
   "cell_type": "markdown",
   "metadata": {},
   "source": [
    "## Attempt 2"
   ]
  },
  {
   "cell_type": "code",
   "execution_count": 25,
   "metadata": {
    "ExecuteTime": {
     "end_time": "2020-09-26T00:57:07.181139Z",
     "start_time": "2020-09-26T00:57:07.027681Z"
    }
   },
   "outputs": [
    {
     "name": "stdout",
     "output_type": "stream",
     "text": [
      "_________________________________________________________________\n",
      "Layer (type)                 Output Shape              Param #   \n",
      "=================================================================\n",
      "conv2d_25 (Conv2D)           (None, 128, 128, 64)      1792      \n",
      "_________________________________________________________________\n",
      "max_pooling2d_25 (MaxPooling (None, 64, 64, 64)        0         \n",
      "_________________________________________________________________\n",
      "conv2d_26 (Conv2D)           (None, 64, 64, 128)       73856     \n",
      "_________________________________________________________________\n",
      "max_pooling2d_26 (MaxPooling (None, 32, 32, 128)       0         \n",
      "_________________________________________________________________\n",
      "conv2d_27 (Conv2D)           (None, 32, 32, 256)       295168    \n",
      "_________________________________________________________________\n",
      "max_pooling2d_27 (MaxPooling (None, 16, 16, 256)       0         \n",
      "_________________________________________________________________\n",
      "flatten_9 (Flatten)          (None, 65536)             0         \n",
      "_________________________________________________________________\n",
      "dense_17 (Dense)             (None, 64)                4194368   \n",
      "_________________________________________________________________\n",
      "dense_18 (Dense)             (None, 1)                 65        \n",
      "=================================================================\n",
      "Total params: 4,565,249\n",
      "Trainable params: 4,565,249\n",
      "Non-trainable params: 0\n",
      "_________________________________________________________________\n"
     ]
    }
   ],
   "source": [
    "np.random.seed(42)\n",
    "\n",
    "model_augreg4 = models.Sequential()\n",
    "\n",
    "model_augreg4.add(layers.Conv2D(64, (3,3), padding='same', activation='relu', \n",
    "                        kernel_initializer='he_normal',\n",
    "                        kernel_regularizer='l2',\n",
    "                        bias_regularizer='l2',\n",
    "                        input_shape=(128, 128, 3)))\n",
    "model.add(layers.BatchNormalization())\n",
    "model_augreg4.add(layers.Conv2D(64, (3,3), padding='same', activation='relu', \n",
    "                        kernel_initializer='he_normal',\n",
    "                        kernel_regularizer='l2',\n",
    "                        bias_regularizer='l2',\n",
    "                        input_shape=(128, 128, 3)))\n",
    "\n",
    "model_augreg4.add(layers.MaxPooling2D((2,2)))\n",
    "\n",
    "\n",
    "model_augreg4.add(layers.Conv2D(128, (3,3), padding='same', \n",
    "                        kernel_initializer='he_normal',\n",
    "                        bias_regularizer='l2',\n",
    "                        kernel_regularizer='l2',\n",
    "                        activation='relu'))\n",
    "# model.add(layers.BatchNormalization())\n",
    "model_augreg4.add(layers.MaxPooling2D((2,2)))\n",
    "\n",
    "model_augreg4.add(layers.Conv2D(256, (3,3), padding='same', \n",
    "                        kernel_initializer='he_normal',\n",
    "                        bias_regularizer='l2',\n",
    "                        kernel_regularizer='l2',\n",
    "                        activation='relu'))\n",
    "# model.add(layers.BatchNormalization())\n",
    "model_augreg4.add(layers.MaxPooling2D((2,2)))\n",
    "\n",
    "model_augreg4.add(layers.Flatten())\n",
    "model_augreg4.add(layers.Dense(64, kernel_initializer='he_normal',\n",
    "                        bias_regularizer='l2',\n",
    "                        kernel_regularizer='l2',\n",
    "                        activation='relu'))\n",
    "# model.add(layers.Dropout(0.2))\n",
    "model_augreg4.add(layers.Dense(1, activation='sigmoid'))\n",
    "\n",
    "model_augreg4.compile(loss='binary_crossentropy',\n",
    "             optimizer='Adam',\n",
    "             metrics=['acc'])\n",
    "model_augreg4.summary()"
   ]
  },
  {
   "cell_type": "code",
   "execution_count": 26,
   "metadata": {
    "ExecuteTime": {
     "end_time": "2020-09-26T01:47:42.845713Z",
     "start_time": "2020-09-26T00:57:31.884644Z"
    },
    "scrolled": false
   },
   "outputs": [
    {
     "name": "stdout",
     "output_type": "stream",
     "text": [
      "Train on 5216 samples, validate on 16 samples\n",
      "Epoch 1/40\n",
      "5216/5216 [==============================] - 317s 61ms/step - loss: 5.9738 - acc: 0.7404 - val_loss: 8.8675 - val_acc: 0.5000\n",
      "Epoch 2/40\n",
      "5216/5216 [==============================] - 313s 60ms/step - loss: 1.5659 - acc: 0.7341 - val_loss: 1.2595 - val_acc: 0.5000\n",
      "Epoch 3/40\n",
      "5216/5216 [==============================] - 311s 60ms/step - loss: 0.9167 - acc: 0.7387 - val_loss: 1.0227 - val_acc: 0.6250\n",
      "Epoch 4/40\n",
      "5216/5216 [==============================] - 315s 60ms/step - loss: 0.7405 - acc: 0.7462 - val_loss: 0.9489 - val_acc: 0.5000\n",
      "Epoch 5/40\n",
      "5216/5216 [==============================] - 315s 60ms/step - loss: 0.6519 - acc: 0.7492 - val_loss: 0.8757 - val_acc: 0.5000\n",
      "Epoch 6/40\n",
      "5216/5216 [==============================] - 315s 60ms/step - loss: 0.5973 - acc: 0.7521 - val_loss: 0.8279 - val_acc: 0.5000\n",
      "Epoch 7/40\n",
      "5216/5216 [==============================] - 311s 60ms/step - loss: 0.5594 - acc: 0.7488 - val_loss: 0.8517 - val_acc: 0.5000\n",
      "Epoch 8/40\n",
      "5216/5216 [==============================] - 316s 61ms/step - loss: 0.5382 - acc: 0.7525 - val_loss: 0.8176 - val_acc: 0.5000\n",
      "Epoch 9/40\n",
      "5216/5216 [==============================] - 318s 61ms/step - loss: 0.5284 - acc: 0.7490 - val_loss: 0.8048 - val_acc: 0.5000\n",
      "Epoch 10/40\n",
      "2900/5216 [===============>..............] - ETA: 2:21 - loss: 0.5175 - acc: 0.7566"
     ]
    },
    {
     "ename": "KeyboardInterrupt",
     "evalue": "",
     "output_type": "error",
     "traceback": [
      "\u001b[1;31m---------------------------------------------------------------------------\u001b[0m",
      "\u001b[1;31mKeyboardInterrupt\u001b[0m                         Traceback (most recent call last)",
      "\u001b[1;32m<ipython-input-26-bd27fe91779b>\u001b[0m in \u001b[0;36m<module>\u001b[1;34m\u001b[0m\n\u001b[0;32m      4\u001b[0m                       \u001b[0mbatch_size\u001b[0m\u001b[1;33m=\u001b[0m\u001b[1;36m50\u001b[0m\u001b[1;33m,\u001b[0m\u001b[1;33m\u001b[0m\u001b[1;33m\u001b[0m\u001b[0m\n\u001b[0;32m      5\u001b[0m                       \u001b[0mepochs\u001b[0m\u001b[1;33m=\u001b[0m\u001b[1;36m40\u001b[0m\u001b[1;33m,\u001b[0m\u001b[1;33m\u001b[0m\u001b[1;33m\u001b[0m\u001b[0m\n\u001b[1;32m----> 6\u001b[1;33m                       validation_data=(val_img, val_labels))\n\u001b[0m",
      "\u001b[1;32m~\\anaconda3\\envs\\learn-env\\lib\\site-packages\\keras\\engine\\training.py\u001b[0m in \u001b[0;36mfit\u001b[1;34m(self, x, y, batch_size, epochs, verbose, callbacks, validation_split, validation_data, shuffle, class_weight, sample_weight, initial_epoch, steps_per_epoch, validation_steps, **kwargs)\u001b[0m\n\u001b[0;32m   1035\u001b[0m                                         \u001b[0minitial_epoch\u001b[0m\u001b[1;33m=\u001b[0m\u001b[0minitial_epoch\u001b[0m\u001b[1;33m,\u001b[0m\u001b[1;33m\u001b[0m\u001b[1;33m\u001b[0m\u001b[0m\n\u001b[0;32m   1036\u001b[0m                                         \u001b[0msteps_per_epoch\u001b[0m\u001b[1;33m=\u001b[0m\u001b[0msteps_per_epoch\u001b[0m\u001b[1;33m,\u001b[0m\u001b[1;33m\u001b[0m\u001b[1;33m\u001b[0m\u001b[0m\n\u001b[1;32m-> 1037\u001b[1;33m                                         validation_steps=validation_steps)\n\u001b[0m\u001b[0;32m   1038\u001b[0m \u001b[1;33m\u001b[0m\u001b[0m\n\u001b[0;32m   1039\u001b[0m     def evaluate(self, x=None, y=None,\n",
      "\u001b[1;32m~\\anaconda3\\envs\\learn-env\\lib\\site-packages\\keras\\engine\\training_arrays.py\u001b[0m in \u001b[0;36mfit_loop\u001b[1;34m(model, f, ins, out_labels, batch_size, epochs, verbose, callbacks, val_f, val_ins, shuffle, callback_metrics, initial_epoch, steps_per_epoch, validation_steps)\u001b[0m\n\u001b[0;32m    197\u001b[0m                     \u001b[0mins_batch\u001b[0m\u001b[1;33m[\u001b[0m\u001b[0mi\u001b[0m\u001b[1;33m]\u001b[0m \u001b[1;33m=\u001b[0m \u001b[0mins_batch\u001b[0m\u001b[1;33m[\u001b[0m\u001b[0mi\u001b[0m\u001b[1;33m]\u001b[0m\u001b[1;33m.\u001b[0m\u001b[0mtoarray\u001b[0m\u001b[1;33m(\u001b[0m\u001b[1;33m)\u001b[0m\u001b[1;33m\u001b[0m\u001b[1;33m\u001b[0m\u001b[0m\n\u001b[0;32m    198\u001b[0m \u001b[1;33m\u001b[0m\u001b[0m\n\u001b[1;32m--> 199\u001b[1;33m                 \u001b[0mouts\u001b[0m \u001b[1;33m=\u001b[0m \u001b[0mf\u001b[0m\u001b[1;33m(\u001b[0m\u001b[0mins_batch\u001b[0m\u001b[1;33m)\u001b[0m\u001b[1;33m\u001b[0m\u001b[1;33m\u001b[0m\u001b[0m\n\u001b[0m\u001b[0;32m    200\u001b[0m                 \u001b[0mouts\u001b[0m \u001b[1;33m=\u001b[0m \u001b[0mto_list\u001b[0m\u001b[1;33m(\u001b[0m\u001b[0mouts\u001b[0m\u001b[1;33m)\u001b[0m\u001b[1;33m\u001b[0m\u001b[1;33m\u001b[0m\u001b[0m\n\u001b[0;32m    201\u001b[0m                 \u001b[1;32mfor\u001b[0m \u001b[0ml\u001b[0m\u001b[1;33m,\u001b[0m \u001b[0mo\u001b[0m \u001b[1;32min\u001b[0m \u001b[0mzip\u001b[0m\u001b[1;33m(\u001b[0m\u001b[0mout_labels\u001b[0m\u001b[1;33m,\u001b[0m \u001b[0mouts\u001b[0m\u001b[1;33m)\u001b[0m\u001b[1;33m:\u001b[0m\u001b[1;33m\u001b[0m\u001b[1;33m\u001b[0m\u001b[0m\n",
      "\u001b[1;32m~\\anaconda3\\envs\\learn-env\\lib\\site-packages\\keras\\backend\\tensorflow_backend.py\u001b[0m in \u001b[0;36m__call__\u001b[1;34m(self, inputs)\u001b[0m\n\u001b[0;32m   2670\u001b[0m                     \u001b[1;34m'In order to feed symbolic tensors to a Keras model '\u001b[0m\u001b[1;33m\u001b[0m\u001b[1;33m\u001b[0m\u001b[0m\n\u001b[0;32m   2671\u001b[0m                     'in TensorFlow, you need tensorflow 1.8 or higher.')\n\u001b[1;32m-> 2672\u001b[1;33m             \u001b[1;32mreturn\u001b[0m \u001b[0mself\u001b[0m\u001b[1;33m.\u001b[0m\u001b[0m_legacy_call\u001b[0m\u001b[1;33m(\u001b[0m\u001b[0minputs\u001b[0m\u001b[1;33m)\u001b[0m\u001b[1;33m\u001b[0m\u001b[1;33m\u001b[0m\u001b[0m\n\u001b[0m\u001b[0;32m   2673\u001b[0m \u001b[1;33m\u001b[0m\u001b[0m\n\u001b[0;32m   2674\u001b[0m \u001b[1;33m\u001b[0m\u001b[0m\n",
      "\u001b[1;32m~\\anaconda3\\envs\\learn-env\\lib\\site-packages\\keras\\backend\\tensorflow_backend.py\u001b[0m in \u001b[0;36m_legacy_call\u001b[1;34m(self, inputs)\u001b[0m\n\u001b[0;32m   2652\u001b[0m         \u001b[0msession\u001b[0m \u001b[1;33m=\u001b[0m \u001b[0mget_session\u001b[0m\u001b[1;33m(\u001b[0m\u001b[1;33m)\u001b[0m\u001b[1;33m\u001b[0m\u001b[1;33m\u001b[0m\u001b[0m\n\u001b[0;32m   2653\u001b[0m         updated = session.run(fetches=fetches, feed_dict=feed_dict,\n\u001b[1;32m-> 2654\u001b[1;33m                               **self.session_kwargs)\n\u001b[0m\u001b[0;32m   2655\u001b[0m         \u001b[1;32mreturn\u001b[0m \u001b[0mupdated\u001b[0m\u001b[1;33m[\u001b[0m\u001b[1;33m:\u001b[0m\u001b[0mlen\u001b[0m\u001b[1;33m(\u001b[0m\u001b[0mself\u001b[0m\u001b[1;33m.\u001b[0m\u001b[0moutputs\u001b[0m\u001b[1;33m)\u001b[0m\u001b[1;33m]\u001b[0m\u001b[1;33m\u001b[0m\u001b[1;33m\u001b[0m\u001b[0m\n\u001b[0;32m   2656\u001b[0m \u001b[1;33m\u001b[0m\u001b[0m\n",
      "\u001b[1;32m~\\anaconda3\\envs\\learn-env\\lib\\site-packages\\tensorflow\\python\\client\\session.py\u001b[0m in \u001b[0;36mrun\u001b[1;34m(self, fetches, feed_dict, options, run_metadata)\u001b[0m\n\u001b[0;32m    903\u001b[0m     \u001b[1;32mtry\u001b[0m\u001b[1;33m:\u001b[0m\u001b[1;33m\u001b[0m\u001b[1;33m\u001b[0m\u001b[0m\n\u001b[0;32m    904\u001b[0m       result = self._run(None, fetches, feed_dict, options_ptr,\n\u001b[1;32m--> 905\u001b[1;33m                          run_metadata_ptr)\n\u001b[0m\u001b[0;32m    906\u001b[0m       \u001b[1;32mif\u001b[0m \u001b[0mrun_metadata\u001b[0m\u001b[1;33m:\u001b[0m\u001b[1;33m\u001b[0m\u001b[1;33m\u001b[0m\u001b[0m\n\u001b[0;32m    907\u001b[0m         \u001b[0mproto_data\u001b[0m \u001b[1;33m=\u001b[0m \u001b[0mtf_session\u001b[0m\u001b[1;33m.\u001b[0m\u001b[0mTF_GetBuffer\u001b[0m\u001b[1;33m(\u001b[0m\u001b[0mrun_metadata_ptr\u001b[0m\u001b[1;33m)\u001b[0m\u001b[1;33m\u001b[0m\u001b[1;33m\u001b[0m\u001b[0m\n",
      "\u001b[1;32m~\\anaconda3\\envs\\learn-env\\lib\\site-packages\\tensorflow\\python\\client\\session.py\u001b[0m in \u001b[0;36m_run\u001b[1;34m(self, handle, fetches, feed_dict, options, run_metadata)\u001b[0m\n\u001b[0;32m   1135\u001b[0m     \u001b[1;32mif\u001b[0m \u001b[0mfinal_fetches\u001b[0m \u001b[1;32mor\u001b[0m \u001b[0mfinal_targets\u001b[0m \u001b[1;32mor\u001b[0m \u001b[1;33m(\u001b[0m\u001b[0mhandle\u001b[0m \u001b[1;32mand\u001b[0m \u001b[0mfeed_dict_tensor\u001b[0m\u001b[1;33m)\u001b[0m\u001b[1;33m:\u001b[0m\u001b[1;33m\u001b[0m\u001b[1;33m\u001b[0m\u001b[0m\n\u001b[0;32m   1136\u001b[0m       results = self._do_run(handle, final_targets, final_fetches,\n\u001b[1;32m-> 1137\u001b[1;33m                              feed_dict_tensor, options, run_metadata)\n\u001b[0m\u001b[0;32m   1138\u001b[0m     \u001b[1;32melse\u001b[0m\u001b[1;33m:\u001b[0m\u001b[1;33m\u001b[0m\u001b[1;33m\u001b[0m\u001b[0m\n\u001b[0;32m   1139\u001b[0m       \u001b[0mresults\u001b[0m \u001b[1;33m=\u001b[0m \u001b[1;33m[\u001b[0m\u001b[1;33m]\u001b[0m\u001b[1;33m\u001b[0m\u001b[1;33m\u001b[0m\u001b[0m\n",
      "\u001b[1;32m~\\anaconda3\\envs\\learn-env\\lib\\site-packages\\tensorflow\\python\\client\\session.py\u001b[0m in \u001b[0;36m_do_run\u001b[1;34m(self, handle, target_list, fetch_list, feed_dict, options, run_metadata)\u001b[0m\n\u001b[0;32m   1353\u001b[0m     \u001b[1;32mif\u001b[0m \u001b[0mhandle\u001b[0m \u001b[1;32mis\u001b[0m \u001b[1;32mNone\u001b[0m\u001b[1;33m:\u001b[0m\u001b[1;33m\u001b[0m\u001b[1;33m\u001b[0m\u001b[0m\n\u001b[0;32m   1354\u001b[0m       return self._do_call(_run_fn, self._session, feeds, fetches, targets,\n\u001b[1;32m-> 1355\u001b[1;33m                            options, run_metadata)\n\u001b[0m\u001b[0;32m   1356\u001b[0m     \u001b[1;32melse\u001b[0m\u001b[1;33m:\u001b[0m\u001b[1;33m\u001b[0m\u001b[1;33m\u001b[0m\u001b[0m\n\u001b[0;32m   1357\u001b[0m       \u001b[1;32mreturn\u001b[0m \u001b[0mself\u001b[0m\u001b[1;33m.\u001b[0m\u001b[0m_do_call\u001b[0m\u001b[1;33m(\u001b[0m\u001b[0m_prun_fn\u001b[0m\u001b[1;33m,\u001b[0m \u001b[0mself\u001b[0m\u001b[1;33m.\u001b[0m\u001b[0m_session\u001b[0m\u001b[1;33m,\u001b[0m \u001b[0mhandle\u001b[0m\u001b[1;33m,\u001b[0m \u001b[0mfeeds\u001b[0m\u001b[1;33m,\u001b[0m \u001b[0mfetches\u001b[0m\u001b[1;33m)\u001b[0m\u001b[1;33m\u001b[0m\u001b[1;33m\u001b[0m\u001b[0m\n",
      "\u001b[1;32m~\\anaconda3\\envs\\learn-env\\lib\\site-packages\\tensorflow\\python\\client\\session.py\u001b[0m in \u001b[0;36m_do_call\u001b[1;34m(self, fn, *args)\u001b[0m\n\u001b[0;32m   1359\u001b[0m   \u001b[1;32mdef\u001b[0m \u001b[0m_do_call\u001b[0m\u001b[1;33m(\u001b[0m\u001b[0mself\u001b[0m\u001b[1;33m,\u001b[0m \u001b[0mfn\u001b[0m\u001b[1;33m,\u001b[0m \u001b[1;33m*\u001b[0m\u001b[0margs\u001b[0m\u001b[1;33m)\u001b[0m\u001b[1;33m:\u001b[0m\u001b[1;33m\u001b[0m\u001b[1;33m\u001b[0m\u001b[0m\n\u001b[0;32m   1360\u001b[0m     \u001b[1;32mtry\u001b[0m\u001b[1;33m:\u001b[0m\u001b[1;33m\u001b[0m\u001b[1;33m\u001b[0m\u001b[0m\n\u001b[1;32m-> 1361\u001b[1;33m       \u001b[1;32mreturn\u001b[0m \u001b[0mfn\u001b[0m\u001b[1;33m(\u001b[0m\u001b[1;33m*\u001b[0m\u001b[0margs\u001b[0m\u001b[1;33m)\u001b[0m\u001b[1;33m\u001b[0m\u001b[1;33m\u001b[0m\u001b[0m\n\u001b[0m\u001b[0;32m   1362\u001b[0m     \u001b[1;32mexcept\u001b[0m \u001b[0merrors\u001b[0m\u001b[1;33m.\u001b[0m\u001b[0mOpError\u001b[0m \u001b[1;32mas\u001b[0m \u001b[0me\u001b[0m\u001b[1;33m:\u001b[0m\u001b[1;33m\u001b[0m\u001b[1;33m\u001b[0m\u001b[0m\n\u001b[0;32m   1363\u001b[0m       \u001b[0mmessage\u001b[0m \u001b[1;33m=\u001b[0m \u001b[0mcompat\u001b[0m\u001b[1;33m.\u001b[0m\u001b[0mas_text\u001b[0m\u001b[1;33m(\u001b[0m\u001b[0me\u001b[0m\u001b[1;33m.\u001b[0m\u001b[0mmessage\u001b[0m\u001b[1;33m)\u001b[0m\u001b[1;33m\u001b[0m\u001b[1;33m\u001b[0m\u001b[0m\n",
      "\u001b[1;32m~\\anaconda3\\envs\\learn-env\\lib\\site-packages\\tensorflow\\python\\client\\session.py\u001b[0m in \u001b[0;36m_run_fn\u001b[1;34m(session, feed_dict, fetch_list, target_list, options, run_metadata)\u001b[0m\n\u001b[0;32m   1338\u001b[0m         \u001b[1;32melse\u001b[0m\u001b[1;33m:\u001b[0m\u001b[1;33m\u001b[0m\u001b[1;33m\u001b[0m\u001b[0m\n\u001b[0;32m   1339\u001b[0m           return tf_session.TF_Run(session, options, feed_dict, fetch_list,\n\u001b[1;32m-> 1340\u001b[1;33m                                    target_list, status, run_metadata)\n\u001b[0m\u001b[0;32m   1341\u001b[0m \u001b[1;33m\u001b[0m\u001b[0m\n\u001b[0;32m   1342\u001b[0m     \u001b[1;32mdef\u001b[0m \u001b[0m_prun_fn\u001b[0m\u001b[1;33m(\u001b[0m\u001b[0msession\u001b[0m\u001b[1;33m,\u001b[0m \u001b[0mhandle\u001b[0m\u001b[1;33m,\u001b[0m \u001b[0mfeed_dict\u001b[0m\u001b[1;33m,\u001b[0m \u001b[0mfetch_list\u001b[0m\u001b[1;33m)\u001b[0m\u001b[1;33m:\u001b[0m\u001b[1;33m\u001b[0m\u001b[1;33m\u001b[0m\u001b[0m\n",
      "\u001b[1;31mKeyboardInterrupt\u001b[0m: "
     ]
    }
   ],
   "source": [
    "history_augreg4 = model_augreg4.fit(train_img, train_labels,\n",
    "                      callbacks=[keras.callbacks.EarlyStopping(monitor='val_acc',\n",
    "                                         patience=25)],\n",
    "                      batch_size=50,\n",
    "                      epochs=40, \n",
    "                      validation_data=(val_img, val_labels))"
   ]
  },
  {
   "cell_type": "code",
   "execution_count": 39,
   "metadata": {
    "ExecuteTime": {
     "end_time": "2020-09-17T19:03:45.533126Z",
     "start_time": "2020-09-17T19:02:25.671222Z"
    }
   },
   "outputs": [
    {
     "name": "stdout",
     "output_type": "stream",
     "text": [
      "5216/5216 [==============================] - 80s 15ms/step\n"
     ]
    },
    {
     "data": {
      "text/plain": [
       "[0.28224409952119817, 0.9215874233128835]"
      ]
     },
     "execution_count": 39,
     "metadata": {},
     "output_type": "execute_result"
    }
   ],
   "source": [
    "augreg_result_train2 = model_augreg4.evaluate(train_img, train_labels)\n",
    "augreg_result_train2"
   ]
  },
  {
   "cell_type": "code",
   "execution_count": 40,
   "metadata": {
    "ExecuteTime": {
     "end_time": "2020-09-17T19:03:54.938903Z",
     "start_time": "2020-09-17T19:03:45.563110Z"
    }
   },
   "outputs": [
    {
     "name": "stdout",
     "output_type": "stream",
     "text": [
      "624/624 [==============================] - 9s 15ms/step\n",
      "Model's Test Accuracy = 85.417%\n",
      "Model's Test Loss = 0.3848557946009514\n"
     ]
    }
   ],
   "source": [
    "augreg_result_test2 = model_augreg4.evaluate(test_img, test_labels)\n",
    "print(f\"Model's Test Accuracy = {round((augreg_result_test2[1]*100), 3)}%\")\n",
    "print(f\"Model's Test Loss = {augreg_result_test2[0]}\")"
   ]
  },
  {
   "cell_type": "code",
   "execution_count": 41,
   "metadata": {
    "ExecuteTime": {
     "end_time": "2020-09-17T19:03:55.278709Z",
     "start_time": "2020-09-17T19:03:54.968886Z"
    }
   },
   "outputs": [
    {
     "data": {
      "image/png": "[encoded data removed]",
      "text/plain": [
       "<Figure size 432x288 with 1 Axes>"
      ]
     },
     "metadata": {
      "needs_background": "light"
     },
     "output_type": "display_data"
    },
    {
     "data": {
      "image/png": "[encoded data removed]",
      "text/plain": [
       "<Figure size 432x288 with 1 Axes>"
      ]
     },
     "metadata": {
      "needs_background": "light"
     },
     "output_type": "display_data"
    }
   ],
   "source": [
    "plot_performance(history_augreg4)"
   ]
  },
  {
   "cell_type": "markdown",
   "metadata": {},
   "source": [
    " WOW! I was hoping for an accuracy of 80%, but a leap up to 85%!?  I am a happy man right now!  We did only run it through 40 epochs, and it is possible that with more epochs, accuracy could have increased, but I didn't want to invest too much time into models that I wasn't positive had stabilized yet. \n",
    "\n",
    "Now that we have a more stable model template, let's try tuning hyperparameters to polish it up a tiny bit more.  \n",
    "\n",
    "First, let's save the model we've got so far!"
   ]
  },
  {
   "cell_type": "code",
   "execution_count": 42,
   "metadata": {
    "ExecuteTime": {
     "end_time": "2020-09-17T19:39:50.349506Z",
     "start_time": "2020-09-17T19:39:49.430057Z"
    }
   },
   "outputs": [],
   "source": [
    "model_augreg4.save('chest_xray_augmented_regularized_data.h5')"
   ]
  },
  {
   "cell_type": "markdown",
   "metadata": {},
   "source": [
    "# Transfer Architecture\n",
    "\n",
    "Similar to \"transfer learning\" where we use a previously trained model to improve our machine learning model, we're going to use the general architecture of an existing model and try to improve our model performance.  We'll try to borrow the architecture of Xception, a high performance image recognition model, to improve ours.  Given, we aren't going to have so many layers, but keep the general idea of multiple Convolutional layers before our MaxPooling later.  "
   ]
  },
  {
   "cell_type": "code",
   "execution_count": 3,
   "metadata": {
    "ExecuteTime": {
     "end_time": "2020-11-14T00:57:20.486094Z",
     "start_time": "2020-11-14T00:57:19.837314Z"
    }
   },
   "outputs": [
    {
     "name": "stdout",
     "output_type": "stream",
     "text": [
      "Found 5168 images belonging to 2 classes.\n",
      "Found 113 images belonging to 2 classes.\n",
      "Found 575 images belonging to 2 classes.\n"
     ]
    }
   ],
   "source": [
    "train_dir = '../chest_xray/chest_xray/train'\n",
    "validation_dir = '../chest_xray/chest_xray/val'\n",
    "test_dir = '../chest_xray/chest_xray/test'\n",
    "\n",
    "# Rescaling\n",
    "datagen = ImageDataGenerator(rescale=1./255) # rescaling the images \n",
    "aug_datagen = ImageDataGenerator(rescale=1./255,\n",
    "                                rotation_range=30,\n",
    "                                width_shift_range=0.15,\n",
    "                                height_shift_range=0.15,\n",
    "                                #shear_range=0.1,\n",
    "                                #zoom_range=0.1,\n",
    "                                #vertical_flip=True,\n",
    "                                #fill_mode='nearest'\n",
    "                                )\n",
    "# Generating Data\n",
    "\n",
    "train_gen = datagen.flow_from_directory(train_dir, \n",
    "                    # Starting with 128x128 pixel images; subject to change\n",
    "                    target_size=(128, 128),\n",
    "                    batch_size=5168,\n",
    "                    class_mode='categorical')\n",
    "\n",
    "val_gen = datagen.flow_from_directory(validation_dir, \n",
    "                    target_size=(128, 128),\n",
    "                    batch_size=113,\n",
    "                    class_mode='categorical')\n",
    "\n",
    "test_gen = datagen.flow_from_directory(test_dir, \n",
    "                    target_size=(128, 128),\n",
    "                    batch_size=575,\n",
    "                    class_mode='categorical')"
   ]
  },
  {
   "cell_type": "code",
   "execution_count": null,
   "metadata": {},
   "outputs": [],
   "source": []
  },
  {
   "cell_type": "code",
   "execution_count": 4,
   "metadata": {
    "ExecuteTime": {
     "end_time": "2020-11-14T00:58:44.533640Z",
     "start_time": "2020-11-14T00:57:28.597592Z"
    }
   },
   "outputs": [],
   "source": [
    "train_img, train_labels = next(train_gen)\n",
    "val_img, val_labels = next(val_gen)\n",
    "test_img, test_labels = next(test_gen)"
   ]
  },
  {
   "cell_type": "code",
   "execution_count": 5,
   "metadata": {
    "ExecuteTime": {
     "end_time": "2020-11-14T00:58:45.081885Z",
     "start_time": "2020-11-14T00:58:44.563181Z"
    }
   },
   "outputs": [
    {
     "name": "stdout",
     "output_type": "stream",
     "text": [
      "_________________________________________________________________\n",
      "Layer (type)                 Output Shape              Param #   \n",
      "=================================================================\n",
      "conv2d_1 (Conv2D)            (None, 128, 128, 32)      896       \n",
      "_________________________________________________________________\n",
      "batch_normalization_1 (Batch (None, 128, 128, 32)      128       \n",
      "_________________________________________________________________\n",
      "conv2d_2 (Conv2D)            (None, 126, 126, 32)      9248      \n",
      "_________________________________________________________________\n",
      "max_pooling2d_1 (MaxPooling2 (None, 63, 63, 32)        0         \n",
      "_________________________________________________________________\n",
      "separable_conv2d_1 (Separabl (None, 63, 63, 64)        2400      \n",
      "_________________________________________________________________\n",
      "batch_normalization_2 (Batch (None, 63, 63, 64)        256       \n",
      "_________________________________________________________________\n",
      "separable_conv2d_2 (Separabl (None, 61, 61, 64)        4736      \n",
      "_________________________________________________________________\n",
      "max_pooling2d_2 (MaxPooling2 (None, 30, 30, 64)        0         \n",
      "_________________________________________________________________\n",
      "separable_conv2d_3 (Separabl (None, 30, 30, 96)        6816      \n",
      "_________________________________________________________________\n",
      "batch_normalization_3 (Batch (None, 30, 30, 96)        384       \n",
      "_________________________________________________________________\n",
      "separable_conv2d_4 (Separabl (None, 30, 30, 96)        10176     \n",
      "_________________________________________________________________\n",
      "max_pooling2d_3 (MaxPooling2 (None, 15, 15, 96)        0         \n",
      "_________________________________________________________________\n",
      "separable_conv2d_5 (Separabl (None, 15, 15, 128)       13280     \n",
      "_________________________________________________________________\n",
      "batch_normalization_4 (Batch (None, 15, 15, 128)       512       \n",
      "_________________________________________________________________\n",
      "separable_conv2d_6 (Separabl (None, 13, 13, 128)       17664     \n",
      "_________________________________________________________________\n",
      "max_pooling2d_4 (MaxPooling2 (None, 6, 6, 128)         0         \n",
      "_________________________________________________________________\n",
      "flatten_1 (Flatten)          (None, 4608)              0         \n",
      "_________________________________________________________________\n",
      "dense_1 (Dense)              (None, 256)               1179904   \n",
      "_________________________________________________________________\n",
      "dense_2 (Dense)              (None, 64)                16448     \n",
      "_________________________________________________________________\n",
      "dropout_1 (Dropout)          (None, 64)                0         \n",
      "_________________________________________________________________\n",
      "dense_3 (Dense)              (None, 2)                 130       \n",
      "=================================================================\n",
      "Total params: 1,262,978\n",
      "Trainable params: 1,262,338\n",
      "Non-trainable params: 640\n",
      "_________________________________________________________________\n"
     ]
    }
   ],
   "source": [
    "from keras.layers import SeparableConv2D\n",
    "\n",
    "np.random.seed(42)\n",
    "\n",
    "model_augreg5 = models.Sequential()\n",
    "\n",
    "# Layer 1\n",
    "model_augreg5.add(layers.Conv2D(32, (3,3), padding='same', \n",
    "                        activation='relu', \n",
    "                        #kernel_initializer='he_normal',\n",
    "                        #kernel_regularizer='l2',\n",
    "                        #bias_regularizer='l2',\n",
    "                        input_shape=(128, 128, 3)))\n",
    "\n",
    "model_augreg5.add(layers.BatchNormalization())\n",
    "\n",
    "model_augreg5.add(layers.Conv2D(32, (3,3), activation='relu', \n",
    "                        #kernel_initializer='he_normal',\n",
    "                        #kernel_regularizer='l2',\n",
    "                        #bias_regularizer='l2'\n",
    "                               ))\n",
    "\n",
    "model_augreg5.add(layers.MaxPooling2D((2,2)))\n",
    "\n",
    "\n",
    "# Layer 2\n",
    "model_augreg5.add(layers.SeparableConv2D(64, (3,3), padding='same', \n",
    "                        activation='relu',\n",
    "                        #kernel_initializer='he_normal',\n",
    "                        #kernel_regularizer='l2',\n",
    "                        #bias_regularizer='l2'\n",
    "                               ))\n",
    "\n",
    "model_augreg5.add(layers.BatchNormalization())\n",
    "\n",
    "model_augreg5.add(layers.SeparableConv2D(64, (3,3), \n",
    "                        activation='relu', \n",
    "                        #kernel_initializer='he_normal',\n",
    "                        #kernel_regularizer='l2',\n",
    "                        #bias_regularizer='l2'\n",
    "                               ))\n",
    "\n",
    "model_augreg5.add(layers.MaxPooling2D((2,2)))\n",
    "\n",
    "# Layer 3\n",
    "model_augreg5.add(layers.SeparableConv2D(96, (3,3), padding='same', \n",
    "                        activation='relu', \n",
    "                        #kernel_initializer='he_normal',\n",
    "                        #kernel_regularizer='l2',\n",
    "                        #bias_regularizer='l2'\n",
    "                               ))\n",
    "\n",
    "model_augreg5.add(layers.BatchNormalization())\n",
    "\n",
    "model_augreg5.add(layers.SeparableConv2D(96, (3,3), padding='same', \n",
    "                        activation='relu', \n",
    "                        #kernel_initializer='he_normal',\n",
    "                        #kernel_regularizer='l2',\n",
    "                        #bias_regularizer='l2'\n",
    "                               ))\n",
    "\n",
    "model_augreg5.add(layers.MaxPooling2D((2,2)))\n",
    "\n",
    "# layer 4\n",
    "model_augreg5.add(layers.SeparableConv2D(128, (3,3), padding='same', \n",
    "                        activation='relu', \n",
    "                        dilation_rate=(2,2),\n",
    "                        #kernel_initializer='he_normal',\n",
    "                        #kernel_regularizer='l2',\n",
    "                        #bias_regularizer='l2'\n",
    "                               ))\n",
    "\n",
    "model_augreg5.add(layers.BatchNormalization())\n",
    "\n",
    "model_augreg5.add(layers.SeparableConv2D(128, (3,3), \n",
    "                        activation='relu', \n",
    "                        #kernel_initializer='he_normal',\n",
    "                        #kernel_regularizer='l2',\n",
    "                        #bias_regularizer='l2'\n",
    "                               ))\n",
    "\n",
    "model_augreg5.add(layers.MaxPooling2D((2,2)))\n",
    "\n",
    "\n",
    "# Layer 6\n",
    "model_augreg5.add(layers.Flatten())\n",
    "\n",
    "model_augreg5.add(layers.Dense(256, activation='relu', \n",
    "                        #kernel_initializer='he_normal',\n",
    "                        #bias_regularizer='l2',\n",
    "                        #kernel_regularizer='l2',\n",
    "                        ))\n",
    "\n",
    "\n",
    "model_augreg5.add(layers.Dense(64, activation='relu', \n",
    "                        #kernel_initializer='he_normal',\n",
    "                        #bias_regularizer='l2',\n",
    "                        #kernel_regularizer='l2',\n",
    "                        ))\n",
    "\n",
    "\n",
    "model_augreg5.add(layers.Dropout(0.4))\n",
    "\n",
    "# Output\n",
    "model_augreg5.add(layers.Dense(2, activation='softmax'))\n",
    "\n",
    "model_augreg5.compile(loss='categorical_crossentropy',\n",
    "             optimizer='Adam',\n",
    "             metrics=['acc'])\n",
    "model_augreg5.summary()"
   ]
  },
  {
   "cell_type": "code",
   "execution_count": null,
   "metadata": {
    "ExecuteTime": {
     "start_time": "2020-11-14T00:55:39.851Z"
    }
   },
   "outputs": [
    {
     "name": "stdout",
     "output_type": "stream",
     "text": [
      "Epoch 1/20\n"
     ]
    }
   ],
   "source": [
    "history_augreg5 = model_augreg5.fit_generator(train_gen,\n",
    "                              steps_per_epoch=326,\n",
    "                              epochs=20,\n",
    "                              validation_data=val_gen,\n",
    "                              validation_steps=16)"
   ]
  },
  {
   "cell_type": "code",
   "execution_count": 6,
   "metadata": {
    "ExecuteTime": {
     "end_time": "2020-11-14T03:10:14.586845Z",
     "start_time": "2020-11-14T00:58:45.112883Z"
    },
    "scrolled": false
   },
   "outputs": [
    {
     "name": "stdout",
     "output_type": "stream",
     "text": [
      "Train on 5168 samples, validate on 113 samples\n",
      "Epoch 1/40\n",
      "5168/5168 [==============================] - 630s 122ms/step - loss: 0.1875 - acc: 0.9245 - val_loss: 0.6764 - val_acc: 0.7345\n",
      "Epoch 2/40\n",
      "5168/5168 [==============================] - 632s 122ms/step - loss: 0.0829 - acc: 0.9714 - val_loss: 0.7635 - val_acc: 0.6372\n",
      "Epoch 3/40\n",
      "5168/5168 [==============================] - 637s 123ms/step - loss: 0.0605 - acc: 0.9791 - val_loss: 0.4950 - val_acc: 0.8319\n",
      "Epoch 4/40\n",
      "5168/5168 [==============================] - 635s 123ms/step - loss: 0.0445 - acc: 0.9841 - val_loss: 0.3711 - val_acc: 0.8142\n",
      "Epoch 5/40\n",
      "5168/5168 [==============================] - 635s 123ms/step - loss: 0.0374 - acc: 0.9861 - val_loss: 0.8389 - val_acc: 0.8319\n",
      "Epoch 6/40\n",
      "5168/5168 [==============================] - 637s 123ms/step - loss: 0.0349 - acc: 0.9870 - val_loss: 0.6297 - val_acc: 0.8319\n",
      "Epoch 7/40\n",
      "5168/5168 [==============================] - 632s 122ms/step - loss: 0.0340 - acc: 0.9876 - val_loss: 2.2426 - val_acc: 0.6106\n",
      "Epoch 8/40\n",
      "5168/5168 [==============================] - 633s 122ms/step - loss: 0.0201 - acc: 0.9932 - val_loss: 1.5320 - val_acc: 0.7876\n",
      "Epoch 9/40\n",
      "5168/5168 [==============================] - 639s 124ms/step - loss: 0.0277 - acc: 0.9903 - val_loss: 3.0098 - val_acc: 0.6372\n",
      "Epoch 10/40\n",
      "5168/5168 [==============================] - 546s 106ms/step - loss: 0.0169 - acc: 0.9950 - val_loss: 3.0900 - val_acc: 0.7257\n",
      "Epoch 11/40\n",
      "5168/5168 [==============================] - 543s 105ms/step - loss: 0.0266 - acc: 0.9915 - val_loss: 3.5674 - val_acc: 0.6372\n",
      "Epoch 12/40\n",
      "5168/5168 [==============================] - 543s 105ms/step - loss: 0.0178 - acc: 0.9946 - val_loss: 1.6510 - val_acc: 0.7699\n",
      "Epoch 13/40\n",
      "5168/5168 [==============================] - 544s 105ms/step - loss: 0.0134 - acc: 0.9948 - val_loss: 2.0269 - val_acc: 0.7699\n"
     ]
    }
   ],
   "source": [
    "callbacks = [tf.keras.callbacks.EarlyStopping(monitor='val_acc', \n",
    "                                            patience=10),\n",
    "             tf.keras.callbacks.ModelCheckpoint(\n",
    "                filepath= '../Models and Data Analysis/best_checkpoint', \n",
    "                 monitor='val_loss', verbose=0, save_best_only=True,\n",
    "                 save_weights_only=False, mode='auto')]\n",
    "\n",
    "\n",
    "history_augreg6 = model_augreg5.fit(train_img, train_labels,\n",
    "                      callbacks=callbacks,\n",
    "                      batch_size=32,\n",
    "                      epochs=40, \n",
    "                      validation_data=(val_img, val_labels))"
   ]
  },
  {
   "cell_type": "code",
   "execution_count": 7,
   "metadata": {
    "ExecuteTime": {
     "end_time": "2020-11-14T03:10:17.084259Z",
     "start_time": "2020-11-14T03:10:14.645811Z"
    }
   },
   "outputs": [],
   "source": [
    "model = models.load_model('../Models and Data Analysis/best_checkpoint')"
   ]
  },
  {
   "cell_type": "code",
   "execution_count": 8,
   "metadata": {
    "ExecuteTime": {
     "end_time": "2020-11-14T03:13:58.725654Z",
     "start_time": "2020-11-14T03:10:17.112969Z"
    }
   },
   "outputs": [
    {
     "name": "stdout",
     "output_type": "stream",
     "text": [
      "5168/5168 [==============================] - 222s 43ms/step\n"
     ]
    },
    {
     "data": {
      "text/plain": [
       "[0.18377362087876434, 0.9138931888544891]"
      ]
     },
     "execution_count": 8,
     "metadata": {},
     "output_type": "execute_result"
    }
   ],
   "source": [
    "augreg_result_train3 = model.evaluate(train_img, train_labels)\n",
    "augreg_result_train3"
   ]
  },
  {
   "cell_type": "code",
   "execution_count": 9,
   "metadata": {
    "ExecuteTime": {
     "end_time": "2020-11-14T03:14:23.499336Z",
     "start_time": "2020-11-14T03:13:58.750640Z"
    }
   },
   "outputs": [
    {
     "name": "stdout",
     "output_type": "stream",
     "text": [
      "575/575 [==============================] - 25s 43ms/step\n",
      "Model's Test Accuracy = 88.174%\n",
      "Model's Test Loss = 0.40666656696278114\n"
     ]
    }
   ],
   "source": [
    "augreg_result_test3 = model.evaluate(test_img, test_labels)\n",
    "print(f\"Model's Test Accuracy = {round((augreg_result_test3[1]*100), 3)}%\")\n",
    "print(f\"Model's Test Loss = {augreg_result_test3[0]}\")"
   ]
  },
  {
   "cell_type": "code",
   "execution_count": 10,
   "metadata": {
    "ExecuteTime": {
     "end_time": "2020-11-14T03:14:23.839143Z",
     "start_time": "2020-11-14T03:14:23.524321Z"
    }
   },
   "outputs": [
    {
     "data": {
      "image/png": "[encoded data removed]",
      "text/plain": [
       "<Figure size 432x288 with 1 Axes>"
      ]
     },
     "metadata": {
      "needs_background": "light"
     },
     "output_type": "display_data"
    },
    {
     "data": {
      "image/png": "[encoded data removed]",
      "text/plain": [
       "<Figure size 432x288 with 1 Axes>"
      ]
     },
     "metadata": {
      "needs_background": "light"
     },
     "output_type": "display_data"
    }
   ],
   "source": [
    "plot_performance(history_augreg6)"
   ]
  },
  {
   "cell_type": "code",
   "execution_count": null,
   "metadata": {},
   "outputs": [],
   "source": []
  },
  {
   "cell_type": "markdown",
   "metadata": {},
   "source": [
    "# Tuning Hyperparameters\n",
    "\n",
    "For our initial change, we'll focus on the effect of **changing the learning rate of our optimizer**.  We will still lay the foundation for future parameter tuning, however.\n",
    "\n",
    "Then we'll change the learning rate of our optimizer (Adam) to something a **little bigger** and add a **decay parameter**.\n",
    "\n",
    "Note: I have commented out some more normalizing layers currently just to have it ready if the model begins to overfit again."
   ]
  },
  {
   "cell_type": "code",
   "execution_count": 12,
   "metadata": {
    "ExecuteTime": {
     "end_time": "2020-09-21T15:16:09.958763Z",
     "start_time": "2020-09-21T15:16:09.854822Z"
    }
   },
   "outputs": [
    {
     "name": "stdout",
     "output_type": "stream",
     "text": [
      "_________________________________________________________________\n",
      "Layer (type)                 Output Shape              Param #   \n",
      "=================================================================\n",
      "conv2d_13 (Conv2D)           (None, 128, 128, 64)      1792      \n",
      "_________________________________________________________________\n",
      "max_pooling2d_13 (MaxPooling (None, 64, 64, 64)        0         \n",
      "_________________________________________________________________\n",
      "conv2d_14 (Conv2D)           (None, 64, 64, 128)       73856     \n",
      "_________________________________________________________________\n",
      "max_pooling2d_14 (MaxPooling (None, 32, 32, 128)       0         \n",
      "_________________________________________________________________\n",
      "conv2d_15 (Conv2D)           (None, 32, 32, 256)       295168    \n",
      "_________________________________________________________________\n",
      "max_pooling2d_15 (MaxPooling (None, 16, 16, 256)       0         \n",
      "_________________________________________________________________\n",
      "flatten_5 (Flatten)          (None, 65536)             0         \n",
      "_________________________________________________________________\n",
      "dense_9 (Dense)              (None, 64)                4194368   \n",
      "_________________________________________________________________\n",
      "dense_10 (Dense)             (None, 1)                 65        \n",
      "=================================================================\n",
      "Total params: 4,565,249\n",
      "Trainable params: 4,565,249\n",
      "Non-trainable params: 0\n",
      "_________________________________________________________________\n"
     ]
    }
   ],
   "source": [
    "from keras import callbacks\n",
    "\n",
    "\n",
    "np.random.seed(42)\n",
    "\n",
    "# Initializing a callback to stop early \n",
    "callback = [keras.callbacks.EarlyStopping(monitor='val_acc',\n",
    "                                         patience=5)] # We'll be generous \n",
    "# Regularizer Tuning\n",
    "reg_params = keras.regularizers.l2(1e-2)\n",
    "\n",
    "# Optimizer\n",
    "adam = keras.optimizers.Adam(lr=0.01, decay=1e-5)\n",
    "\n",
    "\n",
    "model_opt = models.Sequential()\n",
    "\n",
    "# We'll add in a stride parameter\n",
    "model_opt.add(layers.Conv2D(64, (3,3), \n",
    "                        strides= 1, \n",
    "                        padding='same', activation='relu', \n",
    "                        kernel_initializer='he_normal',\n",
    "                        kernel_regularizer=reg_params,\n",
    "                        input_shape=(128, 128, 3)))\n",
    "# model.add(layers.BatchNormalization())\n",
    "model_opt.add(layers.MaxPooling2D((2,2),\n",
    "                                 strides=2))\n",
    "\n",
    "\n",
    "model_opt.add(layers.Conv2D(128, (3,3), \n",
    "                        strides= 1,\n",
    "                        padding='same', \n",
    "                        # kernel_initializer='he_normal',\n",
    "                        kernel_regularizer=reg_params,\n",
    "                        activation='relu'))\n",
    "# model.add(layers.BatchNormalization())\n",
    "model_opt.add(layers.MaxPooling2D((2,2),\n",
    "                                 strides=2))\n",
    "\n",
    "model_opt.add(layers.Conv2D(256, (3,3), padding='same', \n",
    "                        strides=1,\n",
    "                        # kernel_initializer='he_normal',\n",
    "                        kernel_regularizer=reg_params,\n",
    "                        activation='relu'))\n",
    "# model.add(layers.BatchNormalization())\n",
    "model_opt.add(layers.MaxPooling2D((2,2),\n",
    "                                 strides=2))\n",
    "\n",
    "model_opt.add(layers.Flatten())\n",
    "model_opt.add(layers.Dense(64, # kernel_initializer='he_normal',\n",
    "                        kernel_regularizer=reg_params,\n",
    "                       activation='relu'))\n",
    "# model.add(layers.Dropout(0.2))\n",
    "model_opt.add(layers.Dense(1, activation='sigmoid'))\n",
    "\n",
    "model_opt.compile(loss='binary_crossentropy',\n",
    "             optimizer=adam,\n",
    "             metrics=['acc'])\n",
    "model_opt.summary()"
   ]
  },
  {
   "cell_type": "code",
   "execution_count": 13,
   "metadata": {
    "ExecuteTime": {
     "end_time": "2020-09-21T15:41:52.599661Z",
     "start_time": "2020-09-21T15:16:11.333613Z"
    }
   },
   "outputs": [
    {
     "name": "stdout",
     "output_type": "stream",
     "text": [
      "Train on 5216 samples, validate on 16 samples\n",
      "Epoch 1/40\n",
      "5216/5216 [==============================] - 259s 50ms/step - loss: 11.8269 - acc: 0.7040 - val_loss: 13.1972 - val_acc: 0.5000\n",
      "Epoch 2/40\n",
      "5216/5216 [==============================] - 256s 49ms/step - loss: 15.8358 - acc: 0.3345 - val_loss: 11.0294 - val_acc: 0.5000\n",
      "Epoch 3/40\n",
      "5216/5216 [==============================] - 253s 48ms/step - loss: 13.4721 - acc: 0.2571 - val_loss: 8.6776 - val_acc: 0.5000\n",
      "Epoch 4/40\n",
      "5216/5216 [==============================] - 254s 49ms/step - loss: 25.6851 - acc: 0.4530 - val_loss: 45.6010 - val_acc: 0.5000\n",
      "Epoch 5/40\n",
      "5216/5216 [==============================] - 259s 50ms/step - loss: 17.9173 - acc: 0.7337 - val_loss: 5.3198 - val_acc: 0.5000\n",
      "Epoch 6/40\n",
      "5216/5216 [==============================] - 259s 50ms/step - loss: 2.5928 - acc: 0.7429 - val_loss: 1.4833 - val_acc: 0.5000\n"
     ]
    }
   ],
   "source": [
    "history_opt = model_opt.fit(train_img, train_labels,\n",
    "                        callbacks=[keras.callbacks.EarlyStopping(monitor='val_acc',\n",
    "                                         patience=5)],\n",
    "                        batch_size=50,\n",
    "                        epochs=40, \n",
    "                        validation_data=(val_img, val_labels))"
   ]
  },
  {
   "cell_type": "markdown",
   "metadata": {},
   "source": [
    "Looks like our model is **underfit again**.  Perhaps, I made too many changes at once. Let's go ahead and change the learning rate back to the default (0.001) and see what happens when we keep the decay."
   ]
  },
  {
   "cell_type": "code",
   "execution_count": 18,
   "metadata": {
    "ExecuteTime": {
     "end_time": "2020-09-21T16:07:45.002433Z",
     "start_time": "2020-09-21T16:07:44.905489Z"
    }
   },
   "outputs": [
    {
     "name": "stdout",
     "output_type": "stream",
     "text": [
      "_________________________________________________________________\n",
      "Layer (type)                 Output Shape              Param #   \n",
      "=================================================================\n",
      "conv2d_19 (Conv2D)           (None, 128, 128, 64)      1792      \n",
      "_________________________________________________________________\n",
      "max_pooling2d_19 (MaxPooling (None, 64, 64, 64)        0         \n",
      "_________________________________________________________________\n",
      "conv2d_20 (Conv2D)           (None, 64, 64, 128)       73856     \n",
      "_________________________________________________________________\n",
      "max_pooling2d_20 (MaxPooling (None, 32, 32, 128)       0         \n",
      "_________________________________________________________________\n",
      "conv2d_21 (Conv2D)           (None, 32, 32, 256)       295168    \n",
      "_________________________________________________________________\n",
      "max_pooling2d_21 (MaxPooling (None, 16, 16, 256)       0         \n",
      "_________________________________________________________________\n",
      "flatten_7 (Flatten)          (None, 65536)             0         \n",
      "_________________________________________________________________\n",
      "dense_13 (Dense)             (None, 64)                4194368   \n",
      "_________________________________________________________________\n",
      "dense_14 (Dense)             (None, 1)                 65        \n",
      "=================================================================\n",
      "Total params: 4,565,249\n",
      "Trainable params: 4,565,249\n",
      "Non-trainable params: 0\n",
      "_________________________________________________________________\n"
     ]
    }
   ],
   "source": [
    "# Initializing a callback to stop early \n",
    "callback = [keras.callbacks.EarlyStopping(monitor='val_acc',\n",
    "                                         patience=5)] # We'll be generous \n",
    "# Regularizer Tuning\n",
    "reg_params = keras.regularizers.l2(1e-2)\n",
    "\n",
    "# Optimizer\n",
    "adam = keras.optimizers.Adam(lr=0.001, decay=1e-5)\n",
    "\n",
    "\n",
    "model_opt3 = models.Sequential()\n",
    "\n",
    "# We'll add in a stride parameter and increase it once\n",
    "model_opt3.add(layers.Conv2D(64, (3,3), \n",
    "                        strides= 1, \n",
    "                        padding='same', activation='relu', \n",
    "                        kernel_initializer='he_normal',\n",
    "                        kernel_regularizer=reg_params,\n",
    "                        input_shape=(128, 128, 3)))\n",
    "# model.add(layers.BatchNormalization())\n",
    "model_opt3.add(layers.MaxPooling2D((2,2), strides=2))\n",
    "\n",
    "\n",
    "model_opt3.add(layers.Conv2D(128, (3,3), \n",
    "                        strides= 1,\n",
    "                        padding='same', \n",
    "                        # kernel_initializer='he_normal',\n",
    "                        kernel_regularizer=reg_params,\n",
    "                        activation='relu'))\n",
    "# model.add(layers.BatchNormalization())\n",
    "model_opt3.add(layers.MaxPooling2D((2,2), strides=2))\n",
    "\n",
    "model_opt3.add(layers.Conv2D(256, (3,3), padding='same', \n",
    "                        strides= 1,\n",
    "                        # kernel_initializer='he_normal',\n",
    "                        kernel_regularizer=reg_params,\n",
    "                        activation='relu'))\n",
    "# model.add(layers.BatchNormalization())\n",
    "model_opt3.add(layers.MaxPooling2D((2,2), strides=2))\n",
    "\n",
    "model_opt3.add(layers.Flatten())\n",
    "model_opt3.add(layers.Dense(64, # kernel_initializer='he_normal',\n",
    "                        kernel_regularizer=reg_params,\n",
    "                       activation='relu'))\n",
    "# model.add(layers.Dropout(0.2))\n",
    "model_opt3.add(layers.Dense(1, activation='sigmoid'))\n",
    "\n",
    "model_opt3.compile(loss='binary_crossentropy',\n",
    "             optimizer=adam,\n",
    "             metrics=['acc'])\n",
    "model_opt3.summary()"
   ]
  },
  {
   "cell_type": "code",
   "execution_count": 19,
   "metadata": {
    "ExecuteTime": {
     "end_time": "2020-09-21T17:11:17.321591Z",
     "start_time": "2020-09-21T16:07:46.849779Z"
    }
   },
   "outputs": [
    {
     "name": "stdout",
     "output_type": "stream",
     "text": [
      "Train on 5216 samples, validate on 16 samples\n",
      "Epoch 1/40\n",
      "5216/5216 [==============================] - 254s 49ms/step - loss: 13.2308 - acc: 0.3518 - val_loss: 2.1394 - val_acc: 0.5000\n",
      "Epoch 2/40\n",
      "5216/5216 [==============================] - 253s 48ms/step - loss: 1.5162 - acc: 0.7327 - val_loss: 1.4688 - val_acc: 0.4375\n",
      "Epoch 3/40\n",
      "5216/5216 [==============================] - 254s 49ms/step - loss: 1.0385 - acc: 0.7506 - val_loss: 1.1184 - val_acc: 0.5625\n",
      "Epoch 4/40\n",
      "5216/5216 [==============================] - 273s 52ms/step - loss: 0.8339 - acc: 0.7684 - val_loss: 1.2539 - val_acc: 0.5000\n",
      "Epoch 5/40\n",
      "5216/5216 [==============================] - 268s 51ms/step - loss: 0.6976 - acc: 0.7866 - val_loss: 0.8605 - val_acc: 0.8750\n",
      "Epoch 6/40\n",
      "5216/5216 [==============================] - 281s 54ms/step - loss: 0.6039 - acc: 0.8098 - val_loss: 0.7921 - val_acc: 0.8750\n",
      "Epoch 7/40\n",
      "5216/5216 [==============================] - 291s 56ms/step - loss: 0.5584 - acc: 0.8125 - val_loss: 0.7431 - val_acc: 0.8750\n",
      "Epoch 8/40\n",
      "5216/5216 [==============================] - 285s 55ms/step - loss: 0.5136 - acc: 0.8227 - val_loss: 0.7372 - val_acc: 0.8125\n",
      "Epoch 9/40\n",
      "5216/5216 [==============================] - 290s 56ms/step - loss: 0.4899 - acc: 0.8225 - val_loss: 0.7260 - val_acc: 0.8125\n",
      "Epoch 10/40\n",
      "5216/5216 [==============================] - 272s 52ms/step - loss: 0.4866 - acc: 0.8158 - val_loss: 0.9914 - val_acc: 0.5625\n",
      "Epoch 11/40\n",
      "5216/5216 [==============================] - 269s 51ms/step - loss: 0.4519 - acc: 0.8374 - val_loss: 0.8269 - val_acc: 0.5625\n",
      "Epoch 12/40\n",
      "5216/5216 [==============================] - 279s 53ms/step - loss: 0.4476 - acc: 0.8307 - val_loss: 0.8426 - val_acc: 0.5625\n",
      "Epoch 13/40\n",
      "5216/5216 [==============================] - 281s 54ms/step - loss: 0.4519 - acc: 0.8263 - val_loss: 0.6402 - val_acc: 0.7500\n",
      "Epoch 14/40\n",
      "5216/5216 [==============================] - 264s 51ms/step - loss: 0.4346 - acc: 0.8395 - val_loss: 0.7181 - val_acc: 0.8125\n"
     ]
    }
   ],
   "source": [
    "history_opt2 = model_opt3.fit(train_img, train_labels,\n",
    "                        callbacks=[keras.callbacks.EarlyStopping(monitor='val_acc',\n",
    "                                         patience=9)],\n",
    "                        batch_size=50,\n",
    "                        epochs=40, \n",
    "                        validation_data=(val_img, val_labels))"
   ]
  },
  {
   "cell_type": "code",
   "execution_count": 20,
   "metadata": {
    "ExecuteTime": {
     "end_time": "2020-09-21T17:18:10.680473Z",
     "start_time": "2020-09-21T17:18:00.880622Z"
    }
   },
   "outputs": [
    {
     "name": "stdout",
     "output_type": "stream",
     "text": [
      "624/624 [==============================] - 10s 16ms/step\n"
     ]
    },
    {
     "data": {
      "text/plain": [
       "[0.7787722777097653, 0.6233974358974359]"
      ]
     },
     "execution_count": 20,
     "metadata": {},
     "output_type": "execute_result"
    }
   ],
   "source": [
    "model_opt2.evaluate(test_img, test_labels)"
   ]
  },
  {
   "cell_type": "markdown",
   "metadata": {},
   "source": [
    "Very interesting! Our loss score is terrible, but if we look at the each epoch, the loss is decreasing consistently.\n",
    "\n",
    "**Note: We've run the training data several times and saw that learning rates above 0.001 and inclusion of learning rate decay decreased model performance in it's present state.**\n",
    "\n",
    "Let's move on and try decreasing our learning rate to 0.0001."
   ]
  },
  {
   "cell_type": "code",
   "execution_count": 9,
   "metadata": {
    "ExecuteTime": {
     "end_time": "2020-09-16T23:33:35.208991Z",
     "start_time": "2020-09-16T23:33:35.049103Z"
    }
   },
   "outputs": [
    {
     "name": "stdout",
     "output_type": "stream",
     "text": [
      "_________________________________________________________________\n",
      "Layer (type)                 Output Shape              Param #   \n",
      "=================================================================\n",
      "conv2d_7 (Conv2D)            (None, 128, 128, 64)      1792      \n",
      "_________________________________________________________________\n",
      "max_pooling2d_7 (MaxPooling2 (None, 64, 64, 64)        0         \n",
      "_________________________________________________________________\n",
      "conv2d_8 (Conv2D)            (None, 64, 64, 128)       73856     \n",
      "_________________________________________________________________\n",
      "max_pooling2d_8 (MaxPooling2 (None, 32, 32, 128)       0         \n",
      "_________________________________________________________________\n",
      "conv2d_9 (Conv2D)            (None, 32, 32, 256)       295168    \n",
      "_________________________________________________________________\n",
      "max_pooling2d_9 (MaxPooling2 (None, 16, 16, 256)       0         \n",
      "_________________________________________________________________\n",
      "flatten_3 (Flatten)          (None, 65536)             0         \n",
      "_________________________________________________________________\n",
      "dense_5 (Dense)              (None, 64)                4194368   \n",
      "_________________________________________________________________\n",
      "dense_6 (Dense)              (None, 1)                 65        \n",
      "=================================================================\n",
      "Total params: 4,565,249\n",
      "Trainable params: 4,565,249\n",
      "Non-trainable params: 0\n",
      "_________________________________________________________________\n"
     ]
    }
   ],
   "source": [
    "# Initializing a callback to stop early \n",
    "callback = [keras.callbacks.EarlyStopping(monitor='val_acc',\n",
    "                                         patience=5)] # We'll be generous \n",
    "# Regularizer Tuning\n",
    "reg_params = keras.regularizers.l2(1e-2)\n",
    "\n",
    "# Optimizer\n",
    "adam = keras.optimizers.Adam(lr=0.0001)\n",
    "\n",
    "\n",
    "model = models.Sequential()\n",
    "\n",
    "# We'll add in a stride parameter and increase it once\n",
    "model.add(layers.Conv2D(64, (3,3), \n",
    "                        strides= 1, \n",
    "                        padding='same', activation='relu', \n",
    "                        kernel_initializer='he_normal',\n",
    "                        kernel_regularizer=reg_params,\n",
    "                        input_shape=(128, 128, 3)))\n",
    "# model.add(layers.BatchNormalization())\n",
    "model.add(layers.MaxPooling2D((2,2), strides=2))\n",
    "\n",
    "\n",
    "model.add(layers.Conv2D(128, (3,3), \n",
    "                        strides= 1,\n",
    "                        padding='same', \n",
    "                        # kernel_initializer='he_normal',\n",
    "                        kernel_regularizer=reg_params,\n",
    "                        activation='relu'))\n",
    "# model.add(layers.BatchNormalization())\n",
    "model.add(layers.MaxPooling2D((2,2), strides=2))\n",
    "\n",
    "model.add(layers.Conv2D(256, (3,3), padding='same', \n",
    "                        strides= 1,\n",
    "                        # kernel_initializer='he_normal',\n",
    "                        kernel_regularizer=reg_params,\n",
    "                        activation='relu'))\n",
    "# model.add(layers.BatchNormalization())\n",
    "model.add(layers.MaxPooling2D((2,2), strides=2))\n",
    "\n",
    "model.add(layers.Flatten())\n",
    "model.add(layers.Dense(64, # kernel_initializer='he_normal',\n",
    "                        kernel_regularizer=reg_params,\n",
    "                       activation='relu'))\n",
    "# model.add(layers.Dropout(0.2))\n",
    "model.add(layers.Dense(1, activation='sigmoid'))\n",
    "\n",
    "model.compile(loss='binary_crossentropy',\n",
    "             optimizer=adam,\n",
    "             metrics=['acc'])\n",
    "model.summary()"
   ]
  },
  {
   "cell_type": "code",
   "execution_count": 11,
   "metadata": {
    "ExecuteTime": {
     "end_time": "2020-09-17T02:26:03.378414Z",
     "start_time": "2020-09-16T23:33:45.239401Z"
    },
    "scrolled": false
   },
   "outputs": [
    {
     "name": "stdout",
     "output_type": "stream",
     "text": [
      "Train on 5216 samples, validate on 16 samples\n",
      "Epoch 1/40\n",
      "5216/5216 [==============================] - 264s 51ms/step - loss: 9.2241 - acc: 0.8629 - val_loss: 8.3315 - val_acc: 0.6250\n",
      "Epoch 2/40\n",
      "5216/5216 [==============================] - 263s 50ms/step - loss: 7.1290 - acc: 0.9559 - val_loss: 6.9886 - val_acc: 0.6250\n",
      "Epoch 3/40\n",
      "5216/5216 [==============================] - 270s 52ms/step - loss: 5.8566 - acc: 0.9674 - val_loss: 5.4803 - val_acc: 0.9375\n",
      "Epoch 4/40\n",
      "5216/5216 [==============================] - 274s 53ms/step - loss: 4.8884 - acc: 0.9674 - val_loss: 4.6703 - val_acc: 0.8125\n",
      "Epoch 5/40\n",
      "5216/5216 [==============================] - 272s 52ms/step - loss: 4.1368 - acc: 0.9711 - val_loss: 4.4013 - val_acc: 0.6250\n",
      "Epoch 6/40\n",
      "5216/5216 [==============================] - 261s 50ms/step - loss: 3.5440 - acc: 0.9711 - val_loss: 3.4778 - val_acc: 0.9375\n",
      "Epoch 7/40\n",
      "5216/5216 [==============================] - 252s 48ms/step - loss: 3.0675 - acc: 0.9722 - val_loss: 3.1142 - val_acc: 0.7500\n",
      "Epoch 8/40\n",
      "5216/5216 [==============================] - 253s 48ms/step - loss: 2.6809 - acc: 0.9722 - val_loss: 3.0397 - val_acc: 0.6875\n",
      "Epoch 9/40\n",
      "5216/5216 [==============================] - 252s 48ms/step - loss: 2.3697 - acc: 0.9724 - val_loss: 2.2948 - val_acc: 1.0000\n",
      "Epoch 10/40\n",
      "5216/5216 [==============================] - 253s 48ms/step - loss: 2.1207 - acc: 0.9693 - val_loss: 2.3230 - val_acc: 0.7500\n",
      "Epoch 11/40\n",
      "5216/5216 [==============================] - 254s 49ms/step - loss: 1.8920 - acc: 0.9774 - val_loss: 1.8440 - val_acc: 1.0000\n",
      "Epoch 12/40\n",
      "5216/5216 [==============================] - 260s 50ms/step - loss: 1.7131 - acc: 0.9764 - val_loss: 2.0299 - val_acc: 0.7500\n",
      "Epoch 13/40\n",
      "5216/5216 [==============================] - 263s 50ms/step - loss: 1.5590 - acc: 0.9726 - val_loss: 1.6915 - val_acc: 0.8125\n",
      "Epoch 14/40\n",
      "5216/5216 [==============================] - 263s 50ms/step - loss: 1.4208 - acc: 0.9760 - val_loss: 1.5596 - val_acc: 0.8750\n",
      "Epoch 15/40\n",
      "5216/5216 [==============================] - 263s 51ms/step - loss: 1.3070 - acc: 0.9732 - val_loss: 1.5865 - val_acc: 0.7500\n",
      "Epoch 16/40\n",
      "5216/5216 [==============================] - 263s 50ms/step - loss: 1.2019 - acc: 0.9745 - val_loss: 1.2215 - val_acc: 0.9375\n",
      "Epoch 17/40\n",
      "5216/5216 [==============================] - 263s 50ms/step - loss: 1.1126 - acc: 0.9758 - val_loss: 1.3148 - val_acc: 0.7500\n",
      "Epoch 18/40\n",
      "5216/5216 [==============================] - 264s 51ms/step - loss: 1.0216 - acc: 0.9764 - val_loss: 1.0409 - val_acc: 1.0000\n",
      "Epoch 19/40\n",
      "5216/5216 [==============================] - 261s 50ms/step - loss: 0.9540 - acc: 0.9747 - val_loss: 1.0735 - val_acc: 0.8750\n",
      "Epoch 20/40\n",
      "5216/5216 [==============================] - 259s 50ms/step - loss: 0.8836 - acc: 0.9749 - val_loss: 1.0308 - val_acc: 0.8750\n",
      "Epoch 21/40\n",
      "5216/5216 [==============================] - 264s 51ms/step - loss: 0.8274 - acc: 0.9724 - val_loss: 0.8468 - val_acc: 0.9375\n",
      "Epoch 22/40\n",
      "5216/5216 [==============================] - 263s 50ms/step - loss: 0.7692 - acc: 0.9780 - val_loss: 0.9518 - val_acc: 0.7500\n",
      "Epoch 23/40\n",
      "5216/5216 [==============================] - 262s 50ms/step - loss: 0.7155 - acc: 0.9762 - val_loss: 0.7610 - val_acc: 1.0000\n",
      "Epoch 24/40\n",
      "5216/5216 [==============================] - 262s 50ms/step - loss: 0.6707 - acc: 0.9760 - val_loss: 0.7351 - val_acc: 1.0000\n",
      "Epoch 25/40\n",
      "5216/5216 [==============================] - 263s 50ms/step - loss: 0.6327 - acc: 0.9722 - val_loss: 0.8056 - val_acc: 0.8125\n",
      "Epoch 26/40\n",
      "5216/5216 [==============================] - 263s 50ms/step - loss: 0.5914 - acc: 0.9749 - val_loss: 0.6998 - val_acc: 0.9375\n",
      "Epoch 27/40\n",
      "5216/5216 [==============================] - 263s 50ms/step - loss: 0.5577 - acc: 0.9728 - val_loss: 0.9018 - val_acc: 0.7500\n",
      "Epoch 28/40\n",
      "5216/5216 [==============================] - 252s 48ms/step - loss: 0.5252 - acc: 0.9737 - val_loss: 0.8587 - val_acc: 0.7500\n",
      "Epoch 29/40\n",
      "5216/5216 [==============================] - 252s 48ms/step - loss: 0.4854 - acc: 0.9774 - val_loss: 0.6512 - val_acc: 0.8750\n",
      "Epoch 30/40\n",
      "5216/5216 [==============================] - 253s 48ms/step - loss: 0.4678 - acc: 0.9722 - val_loss: 0.4937 - val_acc: 1.0000\n",
      "Epoch 31/40\n",
      "5216/5216 [==============================] - 255s 49ms/step - loss: 0.4354 - acc: 0.9774 - val_loss: 0.9781 - val_acc: 0.6250\n",
      "Epoch 32/40\n",
      "5216/5216 [==============================] - 253s 48ms/step - loss: 0.4138 - acc: 0.9753 - val_loss: 0.5068 - val_acc: 0.9375\n",
      "Epoch 33/40\n",
      "5216/5216 [==============================] - 251s 48ms/step - loss: 0.3840 - acc: 0.9778 - val_loss: 0.4409 - val_acc: 0.9375\n",
      "Epoch 34/40\n",
      "5216/5216 [==============================] - 251s 48ms/step - loss: 0.3638 - acc: 0.9751 - val_loss: 0.4066 - val_acc: 1.0000\n",
      "Epoch 35/40\n",
      "5216/5216 [==============================] - 251s 48ms/step - loss: 0.3467 - acc: 0.9755 - val_loss: 0.4878 - val_acc: 0.8750\n",
      "Epoch 36/40\n",
      "5216/5216 [==============================] - 251s 48ms/step - loss: 0.3267 - acc: 0.9785 - val_loss: 0.3963 - val_acc: 0.9375\n",
      "Epoch 37/40\n",
      "5216/5216 [==============================] - 251s 48ms/step - loss: 0.3149 - acc: 0.9734 - val_loss: 0.4353 - val_acc: 0.9375\n",
      "Epoch 38/40\n",
      "5216/5216 [==============================] - 251s 48ms/step - loss: 0.2969 - acc: 0.9753 - val_loss: 0.3561 - val_acc: 1.0000\n",
      "Epoch 39/40\n",
      "5216/5216 [==============================] - 251s 48ms/step - loss: 0.2789 - acc: 0.9778 - val_loss: 0.5164 - val_acc: 0.7500\n",
      "Epoch 40/40\n",
      "5216/5216 [==============================] - 252s 48ms/step - loss: 0.2660 - acc: 0.9768 - val_loss: 0.5044 - val_acc: 0.8125\n"
     ]
    }
   ],
   "source": [
    "history_reg = model.fit(train_img, train_labels,\n",
    "                        #callbacks=[keras.callbacks.EarlyStopping(monitor='val_loss',\n",
    "                        # Increasing patience to prevent early stopping unless \n",
    "                                                            # we've plateaued                 \n",
    "                        #patience=2)],\n",
    "                        batch_size=50,\n",
    "                        epochs=40, \n",
    "                        validation_data=(val_img, val_labels))"
   ]
  },
  {
   "cell_type": "code",
   "execution_count": 12,
   "metadata": {
    "ExecuteTime": {
     "end_time": "2020-09-17T10:07:16.717403Z",
     "start_time": "2020-09-17T10:07:07.228949Z"
    }
   },
   "outputs": [
    {
     "name": "stdout",
     "output_type": "stream",
     "text": [
      "624/624 [==============================] - 9s 15ms/step\n"
     ]
    }
   ],
   "source": [
    "results_reg = model.evaluate(test_img, test_labels)"
   ]
  },
  {
   "cell_type": "code",
   "execution_count": 13,
   "metadata": {
    "ExecuteTime": {
     "end_time": "2020-09-17T10:07:24.818114Z",
     "start_time": "2020-09-17T10:07:24.812117Z"
    }
   },
   "outputs": [
    {
     "data": {
      "text/plain": [
       "[1.1064472947365198, 0.7307692307692307]"
      ]
     },
     "execution_count": 13,
     "metadata": {},
     "output_type": "execute_result"
    }
   ],
   "source": [
    "results_reg"
   ]
  },
  {
   "cell_type": "markdown",
   "metadata": {},
   "source": [
    "## Results: \n",
    "A learning rate of 0.0001 has resulted in a large step backwards.\n",
    "\n",
    "It appears that we've reached **peak performance with Model_AugReg4**.  We can't increase accuracy without **dancing between an underfit model and an overfit model**.  Let's try to use Transfer Learning."
   ]
  },
  {
   "cell_type": "markdown",
   "metadata": {},
   "source": [
    "# Transfer Learning\n",
    "\n",
    "Keras as many pretrained models that we can choose from and add on some dense layers to the top that we'll train specifically to our dataset.   \n",
    "\n",
    "We'll use **Xception** since it has been trained on millions of images that belong to thousands of categories from the ImageNet dataset.  One core feature of this model is that it **utilizes Depthwise Separable Convolutions**.  These convolution layers **reduce the amount of multipliers** which, in turn, **keeps the model from becoming too complex**. Xception is also a very high performing model, so that will hopefully give us a little boost.\n"
   ]
  },
  {
   "cell_type": "code",
   "execution_count": 5,
   "metadata": {
    "ExecuteTime": {
     "end_time": "2020-09-17T22:48:40.300393Z",
     "start_time": "2020-09-17T22:48:40.297408Z"
    }
   },
   "outputs": [],
   "source": [
    "from keras.applications import Xception"
   ]
  },
  {
   "cell_type": "code",
   "execution_count": 6,
   "metadata": {
    "ExecuteTime": {
     "end_time": "2020-09-17T22:48:47.358592Z",
     "start_time": "2020-09-17T22:48:40.921699Z"
    }
   },
   "outputs": [],
   "source": [
    "# Loading Xception\n",
    "cnn_base = Xception(weights='imagenet',\n",
    "                    include_top=False,\n",
    "                    input_shape=(128, 128, 3))"
   ]
  },
  {
   "cell_type": "code",
   "execution_count": 7,
   "metadata": {
    "ExecuteTime": {
     "end_time": "2020-09-17T22:48:47.410578Z",
     "start_time": "2020-09-17T22:48:47.366586Z"
    },
    "scrolled": false
   },
   "outputs": [
    {
     "name": "stdout",
     "output_type": "stream",
     "text": [
      "__________________________________________________________________________________________________\n",
      "Layer (type)                    Output Shape         Param #     Connected to                     \n",
      "==================================================================================================\n",
      "input_1 (InputLayer)            (None, 128, 128, 3)  0                                            \n",
      "__________________________________________________________________________________________________\n",
      "block1_conv1 (Conv2D)           (None, 63, 63, 32)   864         input_1[0][0]                    \n",
      "__________________________________________________________________________________________________\n",
      "block1_conv1_bn (BatchNormaliza (None, 63, 63, 32)   128         block1_conv1[0][0]               \n",
      "__________________________________________________________________________________________________\n",
      "block1_conv1_act (Activation)   (None, 63, 63, 32)   0           block1_conv1_bn[0][0]            \n",
      "__________________________________________________________________________________________________\n",
      "block1_conv2 (Conv2D)           (None, 61, 61, 64)   18432       block1_conv1_act[0][0]           \n",
      "__________________________________________________________________________________________________\n",
      "block1_conv2_bn (BatchNormaliza (None, 61, 61, 64)   256         block1_conv2[0][0]               \n",
      "__________________________________________________________________________________________________\n",
      "block1_conv2_act (Activation)   (None, 61, 61, 64)   0           block1_conv2_bn[0][0]            \n",
      "__________________________________________________________________________________________________\n",
      "block2_sepconv1 (SeparableConv2 (None, 61, 61, 128)  8768        block1_conv2_act[0][0]           \n",
      "__________________________________________________________________________________________________\n",
      "block2_sepconv1_bn (BatchNormal (None, 61, 61, 128)  512         block2_sepconv1[0][0]            \n",
      "__________________________________________________________________________________________________\n",
      "block2_sepconv2_act (Activation (None, 61, 61, 128)  0           block2_sepconv1_bn[0][0]         \n",
      "__________________________________________________________________________________________________\n",
      "block2_sepconv2 (SeparableConv2 (None, 61, 61, 128)  17536       block2_sepconv2_act[0][0]        \n",
      "__________________________________________________________________________________________________\n",
      "block2_sepconv2_bn (BatchNormal (None, 61, 61, 128)  512         block2_sepconv2[0][0]            \n",
      "__________________________________________________________________________________________________\n",
      "conv2d_1 (Conv2D)               (None, 31, 31, 128)  8192        block1_conv2_act[0][0]           \n",
      "__________________________________________________________________________________________________\n",
      "block2_pool (MaxPooling2D)      (None, 31, 31, 128)  0           block2_sepconv2_bn[0][0]         \n",
      "__________________________________________________________________________________________________\n",
      "batch_normalization_1 (BatchNor (None, 31, 31, 128)  512         conv2d_1[0][0]                   \n",
      "__________________________________________________________________________________________________\n",
      "add_1 (Add)                     (None, 31, 31, 128)  0           block2_pool[0][0]                \n",
      "                                                                 batch_normalization_1[0][0]      \n",
      "__________________________________________________________________________________________________\n",
      "block3_sepconv1_act (Activation (None, 31, 31, 128)  0           add_1[0][0]                      \n",
      "__________________________________________________________________________________________________\n",
      "block3_sepconv1 (SeparableConv2 (None, 31, 31, 256)  33920       block3_sepconv1_act[0][0]        \n",
      "__________________________________________________________________________________________________\n",
      "block3_sepconv1_bn (BatchNormal (None, 31, 31, 256)  1024        block3_sepconv1[0][0]            \n",
      "__________________________________________________________________________________________________\n",
      "block3_sepconv2_act (Activation (None, 31, 31, 256)  0           block3_sepconv1_bn[0][0]         \n",
      "__________________________________________________________________________________________________\n",
      "block3_sepconv2 (SeparableConv2 (None, 31, 31, 256)  67840       block3_sepconv2_act[0][0]        \n",
      "__________________________________________________________________________________________________\n",
      "block3_sepconv2_bn (BatchNormal (None, 31, 31, 256)  1024        block3_sepconv2[0][0]            \n",
      "__________________________________________________________________________________________________\n",
      "conv2d_2 (Conv2D)               (None, 16, 16, 256)  32768       add_1[0][0]                      \n",
      "__________________________________________________________________________________________________\n",
      "block3_pool (MaxPooling2D)      (None, 16, 16, 256)  0           block3_sepconv2_bn[0][0]         \n",
      "__________________________________________________________________________________________________\n",
      "batch_normalization_2 (BatchNor (None, 16, 16, 256)  1024        conv2d_2[0][0]                   \n",
      "__________________________________________________________________________________________________\n",
      "add_2 (Add)                     (None, 16, 16, 256)  0           block3_pool[0][0]                \n",
      "                                                                 batch_normalization_2[0][0]      \n",
      "__________________________________________________________________________________________________\n",
      "block4_sepconv1_act (Activation (None, 16, 16, 256)  0           add_2[0][0]                      \n",
      "__________________________________________________________________________________________________\n",
      "block4_sepconv1 (SeparableConv2 (None, 16, 16, 728)  188672      block4_sepconv1_act[0][0]        \n",
      "__________________________________________________________________________________________________\n",
      "block4_sepconv1_bn (BatchNormal (None, 16, 16, 728)  2912        block4_sepconv1[0][0]            \n",
      "__________________________________________________________________________________________________\n",
      "block4_sepconv2_act (Activation (None, 16, 16, 728)  0           block4_sepconv1_bn[0][0]         \n",
      "__________________________________________________________________________________________________\n",
      "block4_sepconv2 (SeparableConv2 (None, 16, 16, 728)  536536      block4_sepconv2_act[0][0]        \n",
      "__________________________________________________________________________________________________\n",
      "block4_sepconv2_bn (BatchNormal (None, 16, 16, 728)  2912        block4_sepconv2[0][0]            \n",
      "__________________________________________________________________________________________________\n",
      "conv2d_3 (Conv2D)               (None, 8, 8, 728)    186368      add_2[0][0]                      \n",
      "__________________________________________________________________________________________________\n",
      "block4_pool (MaxPooling2D)      (None, 8, 8, 728)    0           block4_sepconv2_bn[0][0]         \n",
      "__________________________________________________________________________________________________\n",
      "batch_normalization_3 (BatchNor (None, 8, 8, 728)    2912        conv2d_3[0][0]                   \n",
      "__________________________________________________________________________________________________\n",
      "add_3 (Add)                     (None, 8, 8, 728)    0           block4_pool[0][0]                \n",
      "                                                                 batch_normalization_3[0][0]      \n",
      "__________________________________________________________________________________________________\n",
      "block5_sepconv1_act (Activation (None, 8, 8, 728)    0           add_3[0][0]                      \n",
      "__________________________________________________________________________________________________\n",
      "block5_sepconv1 (SeparableConv2 (None, 8, 8, 728)    536536      block5_sepconv1_act[0][0]        \n",
      "__________________________________________________________________________________________________\n",
      "block5_sepconv1_bn (BatchNormal (None, 8, 8, 728)    2912        block5_sepconv1[0][0]            \n",
      "__________________________________________________________________________________________________\n",
      "block5_sepconv2_act (Activation (None, 8, 8, 728)    0           block5_sepconv1_bn[0][0]         \n",
      "__________________________________________________________________________________________________\n",
      "block5_sepconv2 (SeparableConv2 (None, 8, 8, 728)    536536      block5_sepconv2_act[0][0]        \n",
      "__________________________________________________________________________________________________\n",
      "block5_sepconv2_bn (BatchNormal (None, 8, 8, 728)    2912        block5_sepconv2[0][0]            \n",
      "__________________________________________________________________________________________________\n",
      "block5_sepconv3_act (Activation (None, 8, 8, 728)    0           block5_sepconv2_bn[0][0]         \n",
      "__________________________________________________________________________________________________\n",
      "block5_sepconv3 (SeparableConv2 (None, 8, 8, 728)    536536      block5_sepconv3_act[0][0]        \n",
      "__________________________________________________________________________________________________\n",
      "block5_sepconv3_bn (BatchNormal (None, 8, 8, 728)    2912        block5_sepconv3[0][0]            \n",
      "__________________________________________________________________________________________________\n",
      "add_4 (Add)                     (None, 8, 8, 728)    0           block5_sepconv3_bn[0][0]         \n",
      "                                                                 add_3[0][0]                      \n",
      "__________________________________________________________________________________________________\n",
      "block6_sepconv1_act (Activation (None, 8, 8, 728)    0           add_4[0][0]                      \n",
      "__________________________________________________________________________________________________\n",
      "block6_sepconv1 (SeparableConv2 (None, 8, 8, 728)    536536      block6_sepconv1_act[0][0]        \n",
      "__________________________________________________________________________________________________\n",
      "block6_sepconv1_bn (BatchNormal (None, 8, 8, 728)    2912        block6_sepconv1[0][0]            \n",
      "__________________________________________________________________________________________________\n",
      "block6_sepconv2_act (Activation (None, 8, 8, 728)    0           block6_sepconv1_bn[0][0]         \n",
      "__________________________________________________________________________________________________\n",
      "block6_sepconv2 (SeparableConv2 (None, 8, 8, 728)    536536      block6_sepconv2_act[0][0]        \n",
      "__________________________________________________________________________________________________\n",
      "block6_sepconv2_bn (BatchNormal (None, 8, 8, 728)    2912        block6_sepconv2[0][0]            \n",
      "__________________________________________________________________________________________________\n",
      "block6_sepconv3_act (Activation (None, 8, 8, 728)    0           block6_sepconv2_bn[0][0]         \n",
      "__________________________________________________________________________________________________\n",
      "block6_sepconv3 (SeparableConv2 (None, 8, 8, 728)    536536      block6_sepconv3_act[0][0]        \n",
      "__________________________________________________________________________________________________\n",
      "block6_sepconv3_bn (BatchNormal (None, 8, 8, 728)    2912        block6_sepconv3[0][0]            \n",
      "__________________________________________________________________________________________________\n",
      "add_5 (Add)                     (None, 8, 8, 728)    0           block6_sepconv3_bn[0][0]         \n",
      "                                                                 add_4[0][0]                      \n",
      "__________________________________________________________________________________________________\n",
      "block7_sepconv1_act (Activation (None, 8, 8, 728)    0           add_5[0][0]                      \n",
      "__________________________________________________________________________________________________\n",
      "block7_sepconv1 (SeparableConv2 (None, 8, 8, 728)    536536      block7_sepconv1_act[0][0]        \n",
      "__________________________________________________________________________________________________\n",
      "block7_sepconv1_bn (BatchNormal (None, 8, 8, 728)    2912        block7_sepconv1[0][0]            \n",
      "__________________________________________________________________________________________________\n",
      "block7_sepconv2_act (Activation (None, 8, 8, 728)    0           block7_sepconv1_bn[0][0]         \n",
      "__________________________________________________________________________________________________\n",
      "block7_sepconv2 (SeparableConv2 (None, 8, 8, 728)    536536      block7_sepconv2_act[0][0]        \n",
      "__________________________________________________________________________________________________\n",
      "block7_sepconv2_bn (BatchNormal (None, 8, 8, 728)    2912        block7_sepconv2[0][0]            \n",
      "__________________________________________________________________________________________________\n",
      "block7_sepconv3_act (Activation (None, 8, 8, 728)    0           block7_sepconv2_bn[0][0]         \n",
      "__________________________________________________________________________________________________\n",
      "block7_sepconv3 (SeparableConv2 (None, 8, 8, 728)    536536      block7_sepconv3_act[0][0]        \n",
      "__________________________________________________________________________________________________\n",
      "block7_sepconv3_bn (BatchNormal (None, 8, 8, 728)    2912        block7_sepconv3[0][0]            \n",
      "__________________________________________________________________________________________________\n",
      "add_6 (Add)                     (None, 8, 8, 728)    0           block7_sepconv3_bn[0][0]         \n",
      "                                                                 add_5[0][0]                      \n",
      "__________________________________________________________________________________________________\n",
      "block8_sepconv1_act (Activation (None, 8, 8, 728)    0           add_6[0][0]                      \n",
      "__________________________________________________________________________________________________\n",
      "block8_sepconv1 (SeparableConv2 (None, 8, 8, 728)    536536      block8_sepconv1_act[0][0]        \n",
      "__________________________________________________________________________________________________\n",
      "block8_sepconv1_bn (BatchNormal (None, 8, 8, 728)    2912        block8_sepconv1[0][0]            \n",
      "__________________________________________________________________________________________________\n",
      "block8_sepconv2_act (Activation (None, 8, 8, 728)    0           block8_sepconv1_bn[0][0]         \n",
      "__________________________________________________________________________________________________\n",
      "block8_sepconv2 (SeparableConv2 (None, 8, 8, 728)    536536      block8_sepconv2_act[0][0]        \n",
      "__________________________________________________________________________________________________\n",
      "block8_sepconv2_bn (BatchNormal (None, 8, 8, 728)    2912        block8_sepconv2[0][0]            \n",
      "__________________________________________________________________________________________________\n",
      "block8_sepconv3_act (Activation (None, 8, 8, 728)    0           block8_sepconv2_bn[0][0]         \n",
      "__________________________________________________________________________________________________\n",
      "block8_sepconv3 (SeparableConv2 (None, 8, 8, 728)    536536      block8_sepconv3_act[0][0]        \n",
      "__________________________________________________________________________________________________\n",
      "block8_sepconv3_bn (BatchNormal (None, 8, 8, 728)    2912        block8_sepconv3[0][0]            \n",
      "__________________________________________________________________________________________________\n",
      "add_7 (Add)                     (None, 8, 8, 728)    0           block8_sepconv3_bn[0][0]         \n",
      "                                                                 add_6[0][0]                      \n",
      "__________________________________________________________________________________________________\n",
      "block9_sepconv1_act (Activation (None, 8, 8, 728)    0           add_7[0][0]                      \n",
      "__________________________________________________________________________________________________\n",
      "block9_sepconv1 (SeparableConv2 (None, 8, 8, 728)    536536      block9_sepconv1_act[0][0]        \n",
      "__________________________________________________________________________________________________\n",
      "block9_sepconv1_bn (BatchNormal (None, 8, 8, 728)    2912        block9_sepconv1[0][0]            \n",
      "__________________________________________________________________________________________________\n",
      "block9_sepconv2_act (Activation (None, 8, 8, 728)    0           block9_sepconv1_bn[0][0]         \n",
      "__________________________________________________________________________________________________\n",
      "block9_sepconv2 (SeparableConv2 (None, 8, 8, 728)    536536      block9_sepconv2_act[0][0]        \n",
      "__________________________________________________________________________________________________\n",
      "block9_sepconv2_bn (BatchNormal (None, 8, 8, 728)    2912        block9_sepconv2[0][0]            \n",
      "__________________________________________________________________________________________________\n",
      "block9_sepconv3_act (Activation (None, 8, 8, 728)    0           block9_sepconv2_bn[0][0]         \n",
      "__________________________________________________________________________________________________\n",
      "block9_sepconv3 (SeparableConv2 (None, 8, 8, 728)    536536      block9_sepconv3_act[0][0]        \n",
      "__________________________________________________________________________________________________\n",
      "block9_sepconv3_bn (BatchNormal (None, 8, 8, 728)    2912        block9_sepconv3[0][0]            \n",
      "__________________________________________________________________________________________________\n",
      "add_8 (Add)                     (None, 8, 8, 728)    0           block9_sepconv3_bn[0][0]         \n",
      "                                                                 add_7[0][0]                      \n",
      "__________________________________________________________________________________________________\n",
      "block10_sepconv1_act (Activatio (None, 8, 8, 728)    0           add_8[0][0]                      \n",
      "__________________________________________________________________________________________________\n",
      "block10_sepconv1 (SeparableConv (None, 8, 8, 728)    536536      block10_sepconv1_act[0][0]       \n",
      "__________________________________________________________________________________________________\n",
      "block10_sepconv1_bn (BatchNorma (None, 8, 8, 728)    2912        block10_sepconv1[0][0]           \n",
      "__________________________________________________________________________________________________\n",
      "block10_sepconv2_act (Activatio (None, 8, 8, 728)    0           block10_sepconv1_bn[0][0]        \n",
      "__________________________________________________________________________________________________\n",
      "block10_sepconv2 (SeparableConv (None, 8, 8, 728)    536536      block10_sepconv2_act[0][0]       \n",
      "__________________________________________________________________________________________________\n",
      "block10_sepconv2_bn (BatchNorma (None, 8, 8, 728)    2912        block10_sepconv2[0][0]           \n",
      "__________________________________________________________________________________________________\n",
      "block10_sepconv3_act (Activatio (None, 8, 8, 728)    0           block10_sepconv2_bn[0][0]        \n",
      "__________________________________________________________________________________________________\n",
      "block10_sepconv3 (SeparableConv (None, 8, 8, 728)    536536      block10_sepconv3_act[0][0]       \n",
      "__________________________________________________________________________________________________\n",
      "block10_sepconv3_bn (BatchNorma (None, 8, 8, 728)    2912        block10_sepconv3[0][0]           \n",
      "__________________________________________________________________________________________________\n",
      "add_9 (Add)                     (None, 8, 8, 728)    0           block10_sepconv3_bn[0][0]        \n",
      "                                                                 add_8[0][0]                      \n",
      "__________________________________________________________________________________________________\n",
      "block11_sepconv1_act (Activatio (None, 8, 8, 728)    0           add_9[0][0]                      \n",
      "__________________________________________________________________________________________________\n",
      "block11_sepconv1 (SeparableConv (None, 8, 8, 728)    536536      block11_sepconv1_act[0][0]       \n",
      "__________________________________________________________________________________________________\n",
      "block11_sepconv1_bn (BatchNorma (None, 8, 8, 728)    2912        block11_sepconv1[0][0]           \n",
      "__________________________________________________________________________________________________\n",
      "block11_sepconv2_act (Activatio (None, 8, 8, 728)    0           block11_sepconv1_bn[0][0]        \n",
      "__________________________________________________________________________________________________\n",
      "block11_sepconv2 (SeparableConv (None, 8, 8, 728)    536536      block11_sepconv2_act[0][0]       \n",
      "__________________________________________________________________________________________________\n",
      "block11_sepconv2_bn (BatchNorma (None, 8, 8, 728)    2912        block11_sepconv2[0][0]           \n",
      "__________________________________________________________________________________________________\n",
      "block11_sepconv3_act (Activatio (None, 8, 8, 728)    0           block11_sepconv2_bn[0][0]        \n",
      "__________________________________________________________________________________________________\n",
      "block11_sepconv3 (SeparableConv (None, 8, 8, 728)    536536      block11_sepconv3_act[0][0]       \n",
      "__________________________________________________________________________________________________\n",
      "block11_sepconv3_bn (BatchNorma (None, 8, 8, 728)    2912        block11_sepconv3[0][0]           \n",
      "__________________________________________________________________________________________________\n",
      "add_10 (Add)                    (None, 8, 8, 728)    0           block11_sepconv3_bn[0][0]        \n",
      "                                                                 add_9[0][0]                      \n",
      "__________________________________________________________________________________________________\n",
      "block12_sepconv1_act (Activatio (None, 8, 8, 728)    0           add_10[0][0]                     \n",
      "__________________________________________________________________________________________________\n",
      "block12_sepconv1 (SeparableConv (None, 8, 8, 728)    536536      block12_sepconv1_act[0][0]       \n",
      "__________________________________________________________________________________________________\n",
      "block12_sepconv1_bn (BatchNorma (None, 8, 8, 728)    2912        block12_sepconv1[0][0]           \n",
      "__________________________________________________________________________________________________\n",
      "block12_sepconv2_act (Activatio (None, 8, 8, 728)    0           block12_sepconv1_bn[0][0]        \n",
      "__________________________________________________________________________________________________\n",
      "block12_sepconv2 (SeparableConv (None, 8, 8, 728)    536536      block12_sepconv2_act[0][0]       \n",
      "__________________________________________________________________________________________________\n",
      "block12_sepconv2_bn (BatchNorma (None, 8, 8, 728)    2912        block12_sepconv2[0][0]           \n",
      "__________________________________________________________________________________________________\n",
      "block12_sepconv3_act (Activatio (None, 8, 8, 728)    0           block12_sepconv2_bn[0][0]        \n",
      "__________________________________________________________________________________________________\n",
      "block12_sepconv3 (SeparableConv (None, 8, 8, 728)    536536      block12_sepconv3_act[0][0]       \n",
      "__________________________________________________________________________________________________\n",
      "block12_sepconv3_bn (BatchNorma (None, 8, 8, 728)    2912        block12_sepconv3[0][0]           \n",
      "__________________________________________________________________________________________________\n",
      "add_11 (Add)                    (None, 8, 8, 728)    0           block12_sepconv3_bn[0][0]        \n",
      "                                                                 add_10[0][0]                     \n",
      "__________________________________________________________________________________________________\n",
      "block13_sepconv1_act (Activatio (None, 8, 8, 728)    0           add_11[0][0]                     \n",
      "__________________________________________________________________________________________________\n",
      "block13_sepconv1 (SeparableConv (None, 8, 8, 728)    536536      block13_sepconv1_act[0][0]       \n",
      "__________________________________________________________________________________________________\n",
      "block13_sepconv1_bn (BatchNorma (None, 8, 8, 728)    2912        block13_sepconv1[0][0]           \n",
      "__________________________________________________________________________________________________\n",
      "block13_sepconv2_act (Activatio (None, 8, 8, 728)    0           block13_sepconv1_bn[0][0]        \n",
      "__________________________________________________________________________________________________\n",
      "block13_sepconv2 (SeparableConv (None, 8, 8, 1024)   752024      block13_sepconv2_act[0][0]       \n",
      "__________________________________________________________________________________________________\n",
      "block13_sepconv2_bn (BatchNorma (None, 8, 8, 1024)   4096        block13_sepconv2[0][0]           \n",
      "__________________________________________________________________________________________________\n",
      "conv2d_4 (Conv2D)               (None, 4, 4, 1024)   745472      add_11[0][0]                     \n",
      "__________________________________________________________________________________________________\n",
      "block13_pool (MaxPooling2D)     (None, 4, 4, 1024)   0           block13_sepconv2_bn[0][0]        \n",
      "__________________________________________________________________________________________________\n",
      "batch_normalization_4 (BatchNor (None, 4, 4, 1024)   4096        conv2d_4[0][0]                   \n",
      "__________________________________________________________________________________________________\n",
      "add_12 (Add)                    (None, 4, 4, 1024)   0           block13_pool[0][0]               \n",
      "                                                                 batch_normalization_4[0][0]      \n",
      "__________________________________________________________________________________________________\n",
      "block14_sepconv1 (SeparableConv (None, 4, 4, 1536)   1582080     add_12[0][0]                     \n",
      "__________________________________________________________________________________________________\n",
      "block14_sepconv1_bn (BatchNorma (None, 4, 4, 1536)   6144        block14_sepconv1[0][0]           \n",
      "__________________________________________________________________________________________________\n",
      "block14_sepconv1_act (Activatio (None, 4, 4, 1536)   0           block14_sepconv1_bn[0][0]        \n",
      "__________________________________________________________________________________________________\n",
      "block14_sepconv2 (SeparableConv (None, 4, 4, 2048)   3159552     block14_sepconv1_act[0][0]       \n",
      "__________________________________________________________________________________________________\n",
      "block14_sepconv2_bn (BatchNorma (None, 4, 4, 2048)   8192        block14_sepconv2[0][0]           \n",
      "__________________________________________________________________________________________________\n",
      "block14_sepconv2_act (Activatio (None, 4, 4, 2048)   0           block14_sepconv2_bn[0][0]        \n",
      "==================================================================================================\n",
      "Total params: 20,861,480\n",
      "Trainable params: 20,806,952\n",
      "Non-trainable params: 54,528\n",
      "__________________________________________________________________________________________________\n"
     ]
    }
   ],
   "source": [
    "cnn_base.summary()"
   ]
  },
  {
   "cell_type": "markdown",
   "metadata": {},
   "source": [
    "We'll be adding our own top to this.  According to our summary here, the final layer of Xception will have an **output shape** of (x, 4, 4, 2048), so we'll make sure that we create a layer that will accommodate that."
   ]
  },
  {
   "cell_type": "code",
   "execution_count": 13,
   "metadata": {
    "ExecuteTime": {
     "end_time": "2020-09-17T22:23:20.783956Z",
     "start_time": "2020-09-17T22:23:20.773975Z"
    }
   },
   "outputs": [],
   "source": [
    "def extract_features(directory, sample_amount):\n",
    "    features = np.zeros(shape=(sample_amount, 4, 4, 2048)) \n",
    "    labels = np.zeros(shape=(sample_amount))\n",
    "    generator = datagen.flow_from_directory(\n",
    "        directory, target_size=(128, 128), \n",
    "        batch_size = 50, \n",
    "        class_mode='binary')\n",
    "    i=0\n",
    "    for inputs_batch, labels_batch in generator:\n",
    "        features_batch = cnn_base.predict(inputs_batch)\n",
    "        features[i * batch_size : (i + 1) * batch_size] = features_batch \n",
    "        labels[i * batch_size : (i + 1) * batch_size] = labels_batch\n",
    "        i = i + 1\n",
    "        if i * batch_size >= sample_amount:\n",
    "            break\n",
    "    return features, labels"
   ]
  },
  {
   "cell_type": "code",
   "execution_count": null,
   "metadata": {},
   "outputs": [],
   "source": [
    "# Creating features and labels\n",
    "\n",
    "train_features, train_labels = extract_features(train_folder, 5216) \n",
    "validation_features, validation_labels = extract_features(val_folder, 200) \n",
    "test_features, test_labels = extract_features(test_folder, 180)\n",
    "\n",
    "train_features = np.reshape(train_features, (540, 2 * 2 * 512))\n",
    "validation_features = np.reshape(validation_features, (200, 2 * 2 * 512))\n",
    "test_features = np.reshape(test_features, (180, 2 * 2 * 512))"
   ]
  },
  {
   "cell_type": "code",
   "execution_count": 8,
   "metadata": {
    "ExecuteTime": {
     "end_time": "2020-09-17T22:48:49.221075Z",
     "start_time": "2020-09-17T22:48:48.568401Z"
    }
   },
   "outputs": [
    {
     "name": "stdout",
     "output_type": "stream",
     "text": [
      "Found 5216 images belonging to 2 classes.\n",
      "Found 16 images belonging to 2 classes.\n",
      "Found 624 images belonging to 2 classes.\n"
     ]
    }
   ],
   "source": [
    "train_dir = '../chest_xray/train'\n",
    "validation_dir = '../chest_xray/val'\n",
    "test_dir = '../chest_xray/test'\n",
    "\n",
    "# Rescaling\n",
    "datagen = ImageDataGenerator(rescale=1./255) # rescaling the images \n",
    "aug_datagen = ImageDataGenerator(rescale=1./255,\n",
    "                                rotation_range=30,\n",
    "                                width_shift_range=0.15,\n",
    "                                height_shift_range=0.15,\n",
    "                                shear_range=0.1,\n",
    "                                zoom_range=0.1,\n",
    "                                vertical_flip=True,\n",
    "                                fill_mode='nearest')\n",
    "# Generating Data\n",
    "\n",
    "train_gen = aug_datagen.flow_from_directory(train_dir, \n",
    "                    # Starting with 128x128 pixel images; subject to change\n",
    "                    target_size=(128, 128),\n",
    "                    batch_size=20,\n",
    "                    class_mode='binary')\n",
    "\n",
    "val_gen = datagen.flow_from_directory(validation_dir, \n",
    "                    target_size=(128, 128),\n",
    "                    batch_size=16,\n",
    "                    class_mode='binary')\n",
    "\n",
    "test_gen = datagen.flow_from_directory(test_dir, \n",
    "                    target_size=(128, 128),\n",
    "                    batch_size=624,\n",
    "                    class_mode='binary')"
   ]
  },
  {
   "cell_type": "code",
   "execution_count": 9,
   "metadata": {
    "ExecuteTime": {
     "end_time": "2020-09-17T22:48:55.974263Z",
     "start_time": "2020-09-17T22:48:54.024379Z"
    }
   },
   "outputs": [
    {
     "name": "stdout",
     "output_type": "stream",
     "text": [
      "xception True\n",
      "flatten_1 True\n",
      "dense_1 True\n",
      "dense_2 True\n",
      "dense_3 True\n"
     ]
    }
   ],
   "source": [
    "x_model = models.Sequential()\n",
    "\n",
    "# Xception Base\n",
    "x_model.add(cnn_base)\n",
    "\n",
    "# Layer 1\n",
    "x_model.add(layers.Flatten())\n",
    "x_model.add(layers.Dense(1024, activation='relu', input_dim=4*4*2048))\n",
    "\n",
    "# Layer 2\n",
    "x_model.add(layers.Dense(512, activation='relu'))\n",
    "\n",
    "# Output Layer\n",
    "x_model.add(layers.Dense(1, activation='sigmoid'))\n",
    "\n",
    "# Check to see if the Xception model is frozen\n",
    "for layer in x_model.layers:\n",
    "    print(layer.name, layer.trainable)"
   ]
  },
  {
   "cell_type": "code",
   "execution_count": 10,
   "metadata": {
    "ExecuteTime": {
     "end_time": "2020-09-17T22:48:56.348912Z",
     "start_time": "2020-09-17T22:48:56.344933Z"
    }
   },
   "outputs": [],
   "source": [
    "# Freezing Xception\n",
    "cnn_base.trainable = False"
   ]
  },
  {
   "cell_type": "code",
   "execution_count": 11,
   "metadata": {
    "ExecuteTime": {
     "end_time": "2020-09-17T22:48:57.988602Z",
     "start_time": "2020-09-17T22:48:57.984608Z"
    }
   },
   "outputs": [
    {
     "name": "stdout",
     "output_type": "stream",
     "text": [
      "xception False\n",
      "flatten_1 True\n",
      "dense_1 True\n",
      "dense_2 True\n",
      "dense_3 True\n"
     ]
    }
   ],
   "source": [
    "# Check to see if the Xception model is frozen\n",
    "for layer in x_model.layers:\n",
    "    print(layer.name, layer.trainable)"
   ]
  },
  {
   "cell_type": "code",
   "execution_count": 12,
   "metadata": {
    "ExecuteTime": {
     "end_time": "2020-09-17T22:49:00.101763Z",
     "start_time": "2020-09-17T22:49:00.072779Z"
    }
   },
   "outputs": [],
   "source": [
    "x_model.compile(loss='binary_crossentropy',\n",
    "              optimizer='Adam',\n",
    "              metrics=['acc'])"
   ]
  },
  {
   "cell_type": "code",
   "execution_count": 13,
   "metadata": {
    "ExecuteTime": {
     "end_time": "2020-09-18T00:33:07.162764Z",
     "start_time": "2020-09-17T22:49:01.072371Z"
    }
   },
   "outputs": [
    {
     "name": "stdout",
     "output_type": "stream",
     "text": [
      "Epoch 1/20\n",
      "104/104 [==============================] - 311s 3s/step - loss: 2.5530 - acc: 0.7486 - val_loss: 4.1089 - val_acc: 0.5000\n",
      "Epoch 2/20\n",
      "104/104 [==============================] - 311s 3s/step - loss: 0.5341 - acc: 0.8274 - val_loss: 1.8595 - val_acc: 0.6250\n",
      "Epoch 3/20\n",
      "104/104 [==============================] - 319s 3s/step - loss: 0.4235 - acc: 0.8380 - val_loss: 0.4978 - val_acc: 0.6875\n",
      "Epoch 4/20\n",
      "104/104 [==============================] - 316s 3s/step - loss: 0.2988 - acc: 0.8784 - val_loss: 1.2855 - val_acc: 0.6250\n",
      "Epoch 5/20\n",
      "104/104 [==============================] - 314s 3s/step - loss: 0.3164 - acc: 0.8775 - val_loss: 1.1599 - val_acc: 0.6250\n",
      "Epoch 6/20\n",
      "104/104 [==============================] - 316s 3s/step - loss: 0.3170 - acc: 0.8712 - val_loss: 1.0195 - val_acc: 0.6250\n",
      "Epoch 7/20\n",
      "104/104 [==============================] - 315s 3s/step - loss: 0.2868 - acc: 0.8917 - val_loss: 2.6969 - val_acc: 0.5625\n",
      "Epoch 8/20\n",
      "104/104 [==============================] - 313s 3s/step - loss: 0.3070 - acc: 0.8893 - val_loss: 0.5866 - val_acc: 0.7500\n",
      "Epoch 9/20\n",
      "104/104 [==============================] - 316s 3s/step - loss: 0.3019 - acc: 0.8832 - val_loss: 0.6698 - val_acc: 0.6875\n",
      "Epoch 10/20\n",
      "104/104 [==============================] - 313s 3s/step - loss: 0.2675 - acc: 0.8880 - val_loss: 0.6455 - val_acc: 0.6875\n",
      "Epoch 11/20\n",
      "104/104 [==============================] - 316s 3s/step - loss: 0.2499 - acc: 0.9001 - val_loss: 0.8433 - val_acc: 0.6250\n",
      "Epoch 12/20\n",
      "104/104 [==============================] - 308s 3s/step - loss: 0.2751 - acc: 0.8909 - val_loss: 0.9846 - val_acc: 0.6250\n",
      "Epoch 13/20\n",
      "104/104 [==============================] - 308s 3s/step - loss: 0.2908 - acc: 0.8774 - val_loss: 0.4892 - val_acc: 0.7500\n",
      "Epoch 14/20\n",
      "104/104 [==============================] - 311s 3s/step - loss: 0.2577 - acc: 0.8990 - val_loss: 0.5083 - val_acc: 0.6875\n",
      "Epoch 15/20\n",
      "104/104 [==============================] - 317s 3s/step - loss: 0.2802 - acc: 0.8897 - val_loss: 0.6095 - val_acc: 0.6250\n",
      "Epoch 16/20\n",
      "104/104 [==============================] - 314s 3s/step - loss: 0.2683 - acc: 0.8885 - val_loss: 0.4621 - val_acc: 0.7500\n",
      "Epoch 17/20\n",
      "104/104 [==============================] - 308s 3s/step - loss: 0.2347 - acc: 0.9082 - val_loss: 0.5297 - val_acc: 0.6875\n",
      "Epoch 18/20\n",
      "104/104 [==============================] - 306s 3s/step - loss: 0.2427 - acc: 0.8984 - val_loss: 0.6063 - val_acc: 0.6875\n",
      "Epoch 19/20\n",
      "104/104 [==============================] - 306s 3s/step - loss: 0.2340 - acc: 0.9091 - val_loss: 0.7416 - val_acc: 0.6250\n",
      "Epoch 20/20\n",
      "104/104 [==============================] - 308s 3s/step - loss: 0.2384 - acc: 0.9125 - val_loss: 0.4707 - val_acc: 0.8125\n"
     ]
    }
   ],
   "source": [
    "history_x = x_model.fit_generator(train_gen,\n",
    "                              steps_per_epoch=104,\n",
    "                              epochs=20,\n",
    "                              validation_data=val_gen,\n",
    "                              validation_steps=10)"
   ]
  },
  {
   "cell_type": "code",
   "execution_count": 16,
   "metadata": {
    "ExecuteTime": {
     "end_time": "2020-09-18T00:39:23.281012Z",
     "start_time": "2020-09-18T00:39:22.833890Z"
    }
   },
   "outputs": [
    {
     "data": {
      "image/png": "[encoded data removed]",
      "text/plain": [
       "<Figure size 432x288 with 1 Axes>"
      ]
     },
     "metadata": {
      "needs_background": "light"
     },
     "output_type": "display_data"
    },
    {
     "data": {
      "image/png": "[encoded data removed]",
      "text/plain": [
       "<Figure size 432x288 with 1 Axes>"
      ]
     },
     "metadata": {
      "needs_background": "light"
     },
     "output_type": "display_data"
    }
   ],
   "source": [
    "plot_performance(history_x)"
   ]
  },
  {
   "cell_type": "code",
   "execution_count": 17,
   "metadata": {
    "ExecuteTime": {
     "end_time": "2020-09-18T00:41:50.274920Z",
     "start_time": "2020-09-18T00:41:33.642535Z"
    }
   },
   "outputs": [],
   "source": [
    "train_img, train_labels = next(train_gen)\n",
    "val_img, val_labels = next(val_gen)\n",
    "test_img, test_labels = next(test_gen)"
   ]
  },
  {
   "cell_type": "code",
   "execution_count": 18,
   "metadata": {
    "ExecuteTime": {
     "end_time": "2020-09-18T00:42:15.423612Z",
     "start_time": "2020-09-18T00:42:12.057407Z"
    }
   },
   "outputs": [
    {
     "name": "stdout",
     "output_type": "stream",
     "text": [
      "\r",
      "20/20 [==============================] - 3s 168ms/step\n"
     ]
    },
    {
     "data": {
      "text/plain": [
       "[0.5054544806480408, 0.75]"
      ]
     },
     "execution_count": 18,
     "metadata": {},
     "output_type": "execute_result"
    }
   ],
   "source": [
    "x_results_train = x_model.evaluate(train_img, train_labels)\n",
    "x_results_train"
   ]
  },
  {
   "cell_type": "code",
   "execution_count": 19,
   "metadata": {
    "ExecuteTime": {
     "end_time": "2020-09-18T00:45:18.921195Z",
     "start_time": "2020-09-18T00:43:32.354262Z"
    }
   },
   "outputs": [
    {
     "name": "stdout",
     "output_type": "stream",
     "text": [
      "624/624 [==============================] - 107s 171ms/step\n"
     ]
    },
    {
     "data": {
      "text/plain": [
       "[0.5577453405429156, 0.7580128205128205]"
      ]
     },
     "execution_count": 19,
     "metadata": {},
     "output_type": "execute_result"
    }
   ],
   "source": [
    "x_results_test = x_model.evaluate(test_img, test_labels)\n",
    "x_results_test"
   ]
  },
  {
   "cell_type": "markdown",
   "metadata": {},
   "source": [
    "## Evaluation:\n",
    "\n",
    "Although there is more in our usual metrics, there does seem to be some signs of convergence if we left it running.  Despite this, the test accuracy is nothing to write home about, even when you look at the results of the final epoch which are pretty decent.  \n",
    "\n",
    "For now, we'll just consider Model_AugReg4 as the best model to date and move on to some analysis.\n",
    "\n",
    "**See Modeling Book 3 for Analysis**"
   ]
  }
 ],
 "metadata": {
  "kernelspec": {
   "display_name": "Python [conda env:learn-env] *",
   "language": "python",
   "name": "conda-env-learn-env-py"
  },
  "language_info": {
   "codemirror_mode": {
    "name": "ipython",
    "version": 3
   },
   "file_extension": ".py",
   "mimetype": "text/x-python",
   "name": "python",
   "nbconvert_exporter": "python",
   "pygments_lexer": "ipython3",
   "version": "3.6.12"
  },
  "toc": {
   "base_numbering": 1,
   "nav_menu": {},
   "number_sections": true,
   "sideBar": true,
   "skip_h1_title": false,
   "title_cell": "Table of Contents",
   "title_sidebar": "Contents",
   "toc_cell": false,
   "toc_position": {
    "height": "calc(100% - 180px)",
    "left": "10px",
    "top": "150px",
    "width": "223.438px"
   },
   "toc_section_display": true,
   "toc_window_display": true
  },
  "varInspector": {
   "cols": {
    "lenName": 16,
    "lenType": 16,
    "lenVar": 40
   },
   "kernels_config": {
    "python": {
     "delete_cmd_postfix": "",
     "delete_cmd_prefix": "del ",
     "library": "var_list.py",
     "varRefreshCmd": "print(var_dic_list())"
    },
    "r": {
     "delete_cmd_postfix": ") ",
     "delete_cmd_prefix": "rm(",
     "library": "var_list.r",
     "varRefreshCmd": "cat(var_dic_list()) "
    }
   },
   "types_to_exclude": [
    "module",
    "function",
    "builtin_function_or_method",
    "instance",
    "_Feature"
   ],
   "window_display": false
  }
 },
 "nbformat": 4,
 "nbformat_minor": 4
}
