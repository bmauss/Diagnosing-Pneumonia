{
 "cells": [
  {
   "cell_type": "markdown",
   "metadata": {},
   "source": [
    "# Experimenting with Higher Resolutions\n",
    "\n",
    "So in this notebook, we're taking the architecture of our best performing model and this time we're going to tweak it so that it will take in photos with a resolution of 256x256 pixels. This will essentially be doubling the amount of data that the model is being trained on.  The hope here is that we'll be able to increase the accuracy since the images will be larger, even after passing through the filters of the convolution layers.  "
   ]
  },
  {
   "cell_type": "code",
   "execution_count": 1,
   "metadata": {
    "ExecuteTime": {
     "end_time": "2020-09-18T14:59:04.020149Z",
     "start_time": "2020-09-18T14:56:25.605217Z"
    }
   },
   "outputs": [
    {
     "name": "stderr",
     "output_type": "stream",
     "text": [
      "Using TensorFlow backend.\n"
     ]
    }
   ],
   "source": [
    "# Loading our libraries\n",
    "\n",
    "import warnings\n",
    "warnings.filterwarnings('ignore')\n",
    "\n",
    "import os, os.path\n",
    "import glob\n",
    "import shutil\n",
    "import pandas as pd\n",
    "import numpy as np\n",
    "import matplotlib.pyplot as plt\n",
    "%matplotlib inline\n",
    "import keras\n",
    "import keras_preprocessing\n",
    "import datetime\n",
    "from keras.preprocessing.image import ImageDataGenerator\n",
    "from keras import layers, models\n",
    "import scipy\n",
    "from PIL import Image\n",
    "from scipy import ndimage\n",
    "import cv2\n",
    "from keras.layers import Conv2D, MaxPooling2D, Dense, Dropout, Input, Flatten\n",
    "from keras.optimizers import Adam, SGD, RMSprop"
   ]
  },
  {
   "cell_type": "code",
   "execution_count": 23,
   "metadata": {
    "ExecuteTime": {
     "end_time": "2020-09-18T20:50:23.922425Z",
     "start_time": "2020-09-18T20:50:23.167377Z"
    }
   },
   "outputs": [
    {
     "name": "stdout",
     "output_type": "stream",
     "text": [
      "Found 5216 images belonging to 2 classes.\n",
      "Found 16 images belonging to 2 classes.\n",
      "Found 624 images belonging to 2 classes.\n"
     ]
    }
   ],
   "source": [
    "# Copying over our generation parameters from our best model \n",
    "\n",
    "train_dir = '../chest_xray/train'\n",
    "validation_dir = '../chest_xray/val'\n",
    "test_dir = '../chest_xray/test'\n",
    "\n",
    "# Rescaling\n",
    "datagen = ImageDataGenerator(rescale=1./255) # rescaling the images \n",
    "aug_datagen = ImageDataGenerator(rescale=1./255,\n",
    "                                rotation_range=30,\n",
    "                                width_shift_range=0.15,\n",
    "                                height_shift_range=0.15,\n",
    "                                shear_range=0.1,\n",
    "                                zoom_range=0.1,\n",
    "                                vertical_flip=True,\n",
    "                                fill_mode='nearest')\n",
    "# Generating Data\n",
    "# Changing target size to 256x256\n",
    "train_gen = aug_datagen.flow_from_directory(train_dir,\n",
    "                    target_size=(256, 256),\n",
    "                    batch_size=5216,\n",
    "                    class_mode='binary')\n",
    "\n",
    "val_gen = datagen.flow_from_directory(validation_dir, \n",
    "                    target_size=(256, 256),\n",
    "                    batch_size=16,\n",
    "                    class_mode='binary')\n",
    "\n",
    "test_gen = datagen.flow_from_directory(test_dir, \n",
    "                    target_size=(256, 256),\n",
    "                    batch_size=624,\n",
    "                    class_mode='binary')"
   ]
  },
  {
   "cell_type": "code",
   "execution_count": 24,
   "metadata": {
    "ExecuteTime": {
     "end_time": "2020-09-18T20:55:41.544450Z",
     "start_time": "2020-09-18T20:50:24.879605Z"
    }
   },
   "outputs": [],
   "source": [
    "# Obtaining features and labels\n",
    "train_img, train_labels = next(train_gen)\n",
    "val_img, val_labels = next(val_gen)\n",
    "test_img, test_labels = next(test_gen)"
   ]
  },
  {
   "cell_type": "code",
   "execution_count": 26,
   "metadata": {
    "ExecuteTime": {
     "end_time": "2020-09-18T20:59:19.233711Z",
     "start_time": "2020-09-18T20:59:19.119732Z"
    }
   },
   "outputs": [
    {
     "name": "stdout",
     "output_type": "stream",
     "text": [
      "_________________________________________________________________\n",
      "Layer (type)                 Output Shape              Param #   \n",
      "=================================================================\n",
      "conv2d_22 (Conv2D)           (None, 256, 256, 64)      1792      \n",
      "_________________________________________________________________\n",
      "max_pooling2d_22 (MaxPooling (None, 128, 128, 64)      0         \n",
      "_________________________________________________________________\n",
      "conv2d_23 (Conv2D)           (None, 128, 128, 128)     73856     \n",
      "_________________________________________________________________\n",
      "max_pooling2d_23 (MaxPooling (None, 64, 64, 128)       0         \n",
      "_________________________________________________________________\n",
      "conv2d_24 (Conv2D)           (None, 64, 64, 256)       295168    \n",
      "_________________________________________________________________\n",
      "max_pooling2d_24 (MaxPooling (None, 32, 32, 256)       0         \n",
      "_________________________________________________________________\n",
      "flatten_8 (Flatten)          (None, 262144)            0         \n",
      "_________________________________________________________________\n",
      "dense_15 (Dense)             (None, 64)                16777280  \n",
      "_________________________________________________________________\n",
      "dense_16 (Dense)             (None, 1)                 65        \n",
      "=================================================================\n",
      "Total params: 17,148,161\n",
      "Trainable params: 17,148,161\n",
      "Non-trainable params: 0\n",
      "_________________________________________________________________\n"
     ]
    }
   ],
   "source": [
    "np.random.seed(42)\n",
    "\n",
    "model_hi_rez2 = models.Sequential()\n",
    "\n",
    "# Adjusting input shape to accomodate \n",
    "model_hi_rez2.add(layers.Conv2D(64, (3,3), padding='same', activation='relu', \n",
    "                        kernel_initializer='he_normal',\n",
    "                        kernel_regularizer='l2',\n",
    "                        input_shape=(256, 256, 3)))\n",
    "# model.add(layers.BatchNormalization())\n",
    "model_hi_rez2.add(layers.MaxPooling2D((2,2)))\n",
    "\n",
    "\n",
    "model_hi_rez2.add(layers.Conv2D(128, (3,3), padding='same', \n",
    "                        # kernel_initializer='he_normal',\n",
    "                        kernel_regularizer='l2',\n",
    "                        activation='relu'))\n",
    "# model.add(layers.BatchNormalization())\n",
    "model_hi_rez2.add(layers.MaxPooling2D((2,2)))\n",
    "\n",
    "model_hi_rez2.add(layers.Conv2D(256, (3,3), padding='same', \n",
    "                        # kernel_initializer='he_normal',\n",
    "                        kernel_regularizer='l2',\n",
    "                        activation='relu'))\n",
    "# model.add(layers.BatchNormalization())\n",
    "model_hi_rez2.add(layers.MaxPooling2D((2,2)))\n",
    "\n",
    "model_hi_rez2.add(layers.Flatten())\n",
    "model_hi_rez2.add(layers.Dense(64, kernel_initializer='he_normal',\n",
    "                        # kernel_regularizer='l2',\n",
    "                       activation='relu'))\n",
    "# model.add(layers.Dropout(0.2))\n",
    "model_hi_rez2.add(layers.Dense(1, activation='sigmoid'))\n",
    "\n",
    "model_hi_rez2.compile(loss='binary_crossentropy',\n",
    "             optimizer='Adam',\n",
    "             metrics=['acc'])\n",
    "model_hi_rez2.summary()"
   ]
  },
  {
   "cell_type": "code",
   "execution_count": 27,
   "metadata": {
    "ExecuteTime": {
     "end_time": "2020-09-19T11:57:50.054235Z",
     "start_time": "2020-09-18T22:50:32.040750Z"
    },
    "scrolled": false
   },
   "outputs": [
    {
     "name": "stdout",
     "output_type": "stream",
     "text": [
      "Train on 5216 samples, validate on 16 samples\n",
      "Epoch 1/40\n",
      "5216/5216 [==============================] - 1274s 244ms/step - loss: 4.2827 - acc: 0.7494 - val_loss: 1.0256 - val_acc: 0.5000\n",
      "Epoch 2/40\n",
      "5216/5216 [==============================] - 1384s 265ms/step - loss: 0.5972 - acc: 0.7759 - val_loss: 0.9506 - val_acc: 0.5000\n",
      "Epoch 3/40\n",
      "5216/5216 [==============================] - 1407s 270ms/step - loss: 0.4697 - acc: 0.8395 - val_loss: 0.8082 - val_acc: 0.5625\n",
      "Epoch 4/40\n",
      "5216/5216 [==============================] - 1416s 271ms/step - loss: 0.4352 - acc: 0.8579 - val_loss: 0.7637 - val_acc: 0.6250\n",
      "Epoch 5/40\n",
      "5216/5216 [==============================] - 1401s 269ms/step - loss: 0.4125 - acc: 0.8600 - val_loss: 0.6013 - val_acc: 0.7500\n",
      "Epoch 6/40\n",
      "5216/5216 [==============================] - 1488s 285ms/step - loss: 0.3849 - acc: 0.8746 - val_loss: 0.9547 - val_acc: 0.6250\n",
      "Epoch 7/40\n",
      "5216/5216 [==============================] - 1333s 256ms/step - loss: 0.3793 - acc: 0.8750 - val_loss: 0.7733 - val_acc: 0.5625\n",
      "Epoch 8/40\n",
      "5216/5216 [==============================] - 1417s 272ms/step - loss: 0.3737 - acc: 0.8765 - val_loss: 0.8495 - val_acc: 0.6250\n",
      "Epoch 9/40\n",
      "5216/5216 [==============================] - 1430s 274ms/step - loss: 0.3600 - acc: 0.8827 - val_loss: 0.8049 - val_acc: 0.5625\n",
      "Epoch 10/40\n",
      "5216/5216 [==============================] - 1163s 223ms/step - loss: 0.3635 - acc: 0.8836 - val_loss: 0.8864 - val_acc: 0.5625\n",
      "Epoch 11/40\n",
      "5216/5216 [==============================] - 1126s 216ms/step - loss: 0.3498 - acc: 0.8859 - val_loss: 0.7382 - val_acc: 0.5625\n",
      "Epoch 12/40\n",
      "5216/5216 [==============================] - 1124s 216ms/step - loss: 0.3412 - acc: 0.8852 - val_loss: 0.8732 - val_acc: 0.5625\n",
      "Epoch 13/40\n",
      "5216/5216 [==============================] - 1119s 215ms/step - loss: 0.3446 - acc: 0.8873 - val_loss: 0.5793 - val_acc: 0.5625\n",
      "Epoch 14/40\n",
      "5216/5216 [==============================] - 1120s 215ms/step - loss: 0.3370 - acc: 0.8898 - val_loss: 0.5068 - val_acc: 0.8125\n",
      "Epoch 15/40\n",
      "5216/5216 [==============================] - 1127s 216ms/step - loss: 0.3299 - acc: 0.8957 - val_loss: 0.6214 - val_acc: 0.6250\n",
      "Epoch 16/40\n",
      "5216/5216 [==============================] - 1117s 214ms/step - loss: 0.3257 - acc: 0.8997 - val_loss: 0.5764 - val_acc: 0.6875\n",
      "Epoch 17/40\n",
      "5216/5216 [==============================] - 1117s 214ms/step - loss: 0.3292 - acc: 0.8911 - val_loss: 0.7550 - val_acc: 0.6250\n",
      "Epoch 18/40\n",
      "5216/5216 [==============================] - 1122s 215ms/step - loss: 0.3202 - acc: 0.8965 - val_loss: 0.5613 - val_acc: 0.6875\n",
      "Epoch 19/40\n",
      "5216/5216 [==============================] - 1114s 214ms/step - loss: 0.3215 - acc: 0.8980 - val_loss: 0.6570 - val_acc: 0.5625\n",
      "Epoch 20/40\n",
      "5216/5216 [==============================] - 1118s 214ms/step - loss: 0.3185 - acc: 0.8976 - val_loss: 0.6622 - val_acc: 0.6250\n",
      "Epoch 21/40\n",
      "5216/5216 [==============================] - 1117s 214ms/step - loss: 0.3148 - acc: 0.9024 - val_loss: 0.7634 - val_acc: 0.6250\n",
      "Epoch 22/40\n",
      "5216/5216 [==============================] - 1117s 214ms/step - loss: 0.3128 - acc: 0.9007 - val_loss: 0.7366 - val_acc: 0.5625\n",
      "Epoch 23/40\n",
      "5216/5216 [==============================] - 1117s 214ms/step - loss: 0.3191 - acc: 0.8972 - val_loss: 0.6176 - val_acc: 0.6250\n",
      "Epoch 24/40\n",
      "5216/5216 [==============================] - 1123s 215ms/step - loss: 0.3083 - acc: 0.9074 - val_loss: 0.6786 - val_acc: 0.5625\n",
      "Epoch 25/40\n",
      "5216/5216 [==============================] - 1115s 214ms/step - loss: 0.3103 - acc: 0.9043 - val_loss: 0.5330 - val_acc: 0.7500\n",
      "Epoch 26/40\n",
      "5216/5216 [==============================] - 1116s 214ms/step - loss: 0.3034 - acc: 0.9047 - val_loss: 0.6096 - val_acc: 0.5625\n",
      "Epoch 27/40\n",
      "5216/5216 [==============================] - 1119s 214ms/step - loss: 0.2997 - acc: 0.9066 - val_loss: 0.7579 - val_acc: 0.5625\n",
      "Epoch 28/40\n",
      "5216/5216 [==============================] - 1122s 215ms/step - loss: 0.2977 - acc: 0.9107 - val_loss: 0.5246 - val_acc: 0.8125\n",
      "Epoch 29/40\n",
      "5216/5216 [==============================] - 1117s 214ms/step - loss: 0.2918 - acc: 0.9112 - val_loss: 0.4731 - val_acc: 0.8125\n",
      "Epoch 30/40\n",
      "5216/5216 [==============================] - 1115s 214ms/step - loss: 0.2946 - acc: 0.9101 - val_loss: 0.9074 - val_acc: 0.6250\n",
      "Epoch 31/40\n",
      "5216/5216 [==============================] - 1117s 214ms/step - loss: 0.2881 - acc: 0.9189 - val_loss: 0.8461 - val_acc: 0.6250\n",
      "Epoch 32/40\n",
      "5216/5216 [==============================] - 1111s 213ms/step - loss: 0.2872 - acc: 0.9130 - val_loss: 0.8208 - val_acc: 0.5625\n",
      "Epoch 33/40\n",
      "5216/5216 [==============================] - 1116s 214ms/step - loss: 0.2842 - acc: 0.9149 - val_loss: 0.7261 - val_acc: 0.5625\n",
      "Epoch 34/40\n",
      "5216/5216 [==============================] - 1115s 214ms/step - loss: 0.2848 - acc: 0.9149 - val_loss: 0.6982 - val_acc: 0.5625\n",
      "Epoch 35/40\n",
      "5216/5216 [==============================] - 1112s 213ms/step - loss: 0.2817 - acc: 0.9176 - val_loss: 0.9418 - val_acc: 0.5625\n",
      "Epoch 36/40\n",
      "5216/5216 [==============================] - 1114s 214ms/step - loss: 0.2824 - acc: 0.9160 - val_loss: 1.1452 - val_acc: 0.5625\n",
      "Epoch 37/40\n",
      "5216/5216 [==============================] - 1119s 214ms/step - loss: 0.2714 - acc: 0.9185 - val_loss: 0.5600 - val_acc: 0.7500\n",
      "Epoch 38/40\n",
      "5216/5216 [==============================] - 1111s 213ms/step - loss: 0.2793 - acc: 0.9156 - val_loss: 1.1301 - val_acc: 0.5625\n",
      "Epoch 39/40\n",
      "5216/5216 [==============================] - 1111s 213ms/step - loss: 0.2728 - acc: 0.9212 - val_loss: 0.4771 - val_acc: 0.8125\n",
      "Epoch 40/40\n",
      "5216/5216 [==============================] - 1115s 214ms/step - loss: 0.2691 - acc: 0.9243 - val_loss: 0.6120 - val_acc: 0.6875\n"
     ]
    }
   ],
   "source": [
    "history_hi_rez = model_hi_rez2.fit(train_img, train_labels,\n",
    "                      callbacks=[keras.callbacks.EarlyStopping(monitor='val_acc',\n",
    "                                         patience=30)],\n",
    "                      batch_size=10,\n",
    "                      epochs=40, \n",
    "                      validation_data=(val_img, val_labels))"
   ]
  },
  {
   "cell_type": "code",
   "execution_count": 28,
   "metadata": {
    "ExecuteTime": {
     "end_time": "2020-09-19T12:06:02.545454Z",
     "start_time": "2020-09-19T12:05:15.755044Z"
    }
   },
   "outputs": [
    {
     "name": "stdout",
     "output_type": "stream",
     "text": [
      "624/624 [==============================] - 46s 74ms/step\n"
     ]
    },
    {
     "data": {
      "text/plain": [
       "[0.4655744830767314, 0.8397435897435898]"
      ]
     },
     "execution_count": 28,
     "metadata": {},
     "output_type": "execute_result"
    }
   ],
   "source": [
    "model_hi_rez2.evaluate(test_img, test_labels)"
   ]
  },
  {
   "cell_type": "code",
   "execution_count": 29,
   "metadata": {
    "ExecuteTime": {
     "end_time": "2020-09-19T19:24:10.498810Z",
     "start_time": "2020-09-19T19:24:10.373743Z"
    }
   },
   "outputs": [],
   "source": [
    "def plot_performance(model):\n",
    "    \"\"\"\n",
    "    Input a trained model.\n",
    "    \n",
    "    Outputs plots of the Training and Validation accuracy and loss.  \n",
    "    \"\"\"\n",
    "    \n",
    "    acc = model.history['acc']\n",
    "    val_acc = model.history['val_acc']\n",
    "    loss = model.history['loss']\n",
    "    val_loss = model.history['val_loss']\n",
    "    epochs = range(len(acc))\n",
    "    \n",
    "    plt.plot(epochs, acc, 'blue', label='Training Accuracy')\n",
    "    plt.plot(epochs, val_acc, 'red', label='Validation Accuracy')\n",
    "    plt.title('Training and Validation accuracy')\n",
    "    plt.legend()\n",
    "    \n",
    "    plt.figure()\n",
    "    plt.plot(epochs, loss, 'blue', label='Training Loss')\n",
    "    plt.plot(epochs, val_loss, 'red', label='Validation Loss')\n",
    "    plt.title('Training and Validation loss')\n",
    "    plt.legend()\n",
    "    plt.show()"
   ]
  },
  {
   "cell_type": "code",
   "execution_count": 31,
   "metadata": {
    "ExecuteTime": {
     "end_time": "2020-09-19T19:25:02.260116Z",
     "start_time": "2020-09-19T19:25:00.389671Z"
    }
   },
   "outputs": [
    {
     "data": {
      "image/png": "[encoded data removed]",
      "text/plain": [
       "<Figure size 432x288 with 1 Axes>"
      ]
     },
     "metadata": {
      "needs_background": "light"
     },
     "output_type": "display_data"
    },
    {
     "data": {
      "image/png": "[encoded data removed]",
      "text/plain": [
       "<Figure size 432x288 with 1 Axes>"
      ]
     },
     "metadata": {
      "needs_background": "light"
     },
     "output_type": "display_data"
    }
   ],
   "source": [
    "plot_performance(history_hi_rez)"
   ]
  },
  {
   "cell_type": "markdown",
   "metadata": {},
   "source": [
    "# Evaluation:\n",
    "\n",
    "Interesting... In addition to having roughly the same accuracy and loss results, we've actually increased the variance in the validation data.  Given, there were fewer epochs, but the plot above doesn't even hint at the values converging with more epochs.  One would think that with more data, we would at least have less variance, but that doesn't seem to be the case here.   "
   ]
  }
 ],
 "metadata": {
  "kernelspec": {
   "display_name": "Python [conda env:learn-env] *",
   "language": "python",
   "name": "conda-env-learn-env-py"
  },
  "language_info": {
   "codemirror_mode": {
    "name": "ipython",
    "version": 3
   },
   "file_extension": ".py",
   "mimetype": "text/x-python",
   "name": "python",
   "nbconvert_exporter": "python",
   "pygments_lexer": "ipython3",
   "version": "3.6.12"
  },
  "toc": {
   "base_numbering": 1,
   "nav_menu": {},
   "number_sections": true,
   "sideBar": true,
   "skip_h1_title": false,
   "title_cell": "Table of Contents",
   "title_sidebar": "Contents",
   "toc_cell": false,
   "toc_position": {},
   "toc_section_display": true,
   "toc_window_display": false
  },
  "varInspector": {
   "cols": {
    "lenName": 16,
    "lenType": 16,
    "lenVar": 40
   },
   "kernels_config": {
    "python": {
     "delete_cmd_postfix": "",
     "delete_cmd_prefix": "del ",
     "library": "var_list.py",
     "varRefreshCmd": "print(var_dic_list())"
    },
    "r": {
     "delete_cmd_postfix": ") ",
     "delete_cmd_prefix": "rm(",
     "library": "var_list.r",
     "varRefreshCmd": "cat(var_dic_list()) "
    }
   },
   "types_to_exclude": [
    "module",
    "function",
    "builtin_function_or_method",
    "instance",
    "_Feature"
   ],
   "window_display": false
  }
 },
 "nbformat": 4,
 "nbformat_minor": 4
}
